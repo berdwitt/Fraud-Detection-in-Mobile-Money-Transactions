{
 "cells": [
  {
   "cell_type": "markdown",
   "metadata": {},
   "source": [
    "# Preprocessing and Training Data"
   ]
  },
  {
   "cell_type": "code",
   "execution_count": 1,
   "metadata": {},
   "outputs": [],
   "source": [
    "#import necessary packages\n",
    "import numpy as np\n",
    "import pandas as pd\n",
    "import matplotlib.pyplot as plt\n",
    "from sklearn.model_selection import train_test_split"
   ]
  },
  {
   "cell_type": "code",
   "execution_count": 2,
   "metadata": {},
   "outputs": [],
   "source": [
    "#load final data from EDA step\n",
    "eda_df = pd.read_csv('../data/EDA_final_data.csv')"
   ]
  },
  {
   "cell_type": "code",
   "execution_count": 4,
   "metadata": {},
   "outputs": [
    {
     "data": {
      "text/html": [
       "<div>\n",
       "<style scoped>\n",
       "    .dataframe tbody tr th:only-of-type {\n",
       "        vertical-align: middle;\n",
       "    }\n",
       "\n",
       "    .dataframe tbody tr th {\n",
       "        vertical-align: top;\n",
       "    }\n",
       "\n",
       "    .dataframe thead th {\n",
       "        text-align: right;\n",
       "    }\n",
       "</style>\n",
       "<table border=\"1\" class=\"dataframe\">\n",
       "  <thead>\n",
       "    <tr style=\"text-align: right;\">\n",
       "      <th></th>\n",
       "      <th>step</th>\n",
       "      <th>type</th>\n",
       "      <th>amount</th>\n",
       "      <th>isFraud</th>\n",
       "      <th>drain_Orig_account</th>\n",
       "    </tr>\n",
       "  </thead>\n",
       "  <tbody>\n",
       "    <tr>\n",
       "      <th>0</th>\n",
       "      <td>1</td>\n",
       "      <td>TRANSFER</td>\n",
       "      <td>181.00</td>\n",
       "      <td>1</td>\n",
       "      <td>1</td>\n",
       "    </tr>\n",
       "    <tr>\n",
       "      <th>1</th>\n",
       "      <td>1</td>\n",
       "      <td>CASH_OUT</td>\n",
       "      <td>181.00</td>\n",
       "      <td>1</td>\n",
       "      <td>1</td>\n",
       "    </tr>\n",
       "    <tr>\n",
       "      <th>2</th>\n",
       "      <td>1</td>\n",
       "      <td>CASH_OUT</td>\n",
       "      <td>229133.94</td>\n",
       "      <td>0</td>\n",
       "      <td>1</td>\n",
       "    </tr>\n",
       "    <tr>\n",
       "      <th>3</th>\n",
       "      <td>1</td>\n",
       "      <td>TRANSFER</td>\n",
       "      <td>215310.30</td>\n",
       "      <td>0</td>\n",
       "      <td>1</td>\n",
       "    </tr>\n",
       "    <tr>\n",
       "      <th>4</th>\n",
       "      <td>1</td>\n",
       "      <td>TRANSFER</td>\n",
       "      <td>311685.89</td>\n",
       "      <td>0</td>\n",
       "      <td>1</td>\n",
       "    </tr>\n",
       "  </tbody>\n",
       "</table>\n",
       "</div>"
      ],
      "text/plain": [
       "   step      type     amount  isFraud  drain_Orig_account\n",
       "0     1  TRANSFER     181.00        1                   1\n",
       "1     1  CASH_OUT     181.00        1                   1\n",
       "2     1  CASH_OUT  229133.94        0                   1\n",
       "3     1  TRANSFER  215310.30        0                   1\n",
       "4     1  TRANSFER  311685.89        0                   1"
      ]
     },
     "execution_count": 4,
     "metadata": {},
     "output_type": "execute_result"
    }
   ],
   "source": [
    "eda_df.head()"
   ]
  },
  {
   "cell_type": "markdown",
   "metadata": {},
   "source": [
    "## Encoding Categorical Variables\n",
    "\n",
    "The transaction type and whether the originator's account was completely emptied or not are the dataset's only two categorical features. Both are nominal features with low cardinality. Thus, one-hot encoding is a good choice for encoding these two variables."
   ]
  },
  {
   "cell_type": "code",
   "execution_count": 17,
   "metadata": {},
   "outputs": [],
   "source": [
    "#Convert drain_Orig_account to categorical feature\n",
    "eda_df['drain_Orig_account'] = eda_df['drain_Orig_account'].map(lambda x: np.where(x==1,'Yes','No'))"
   ]
  },
  {
   "cell_type": "code",
   "execution_count": 18,
   "metadata": {},
   "outputs": [
    {
     "data": {
      "text/html": [
       "<div>\n",
       "<style scoped>\n",
       "    .dataframe tbody tr th:only-of-type {\n",
       "        vertical-align: middle;\n",
       "    }\n",
       "\n",
       "    .dataframe tbody tr th {\n",
       "        vertical-align: top;\n",
       "    }\n",
       "\n",
       "    .dataframe thead th {\n",
       "        text-align: right;\n",
       "    }\n",
       "</style>\n",
       "<table border=\"1\" class=\"dataframe\">\n",
       "  <thead>\n",
       "    <tr style=\"text-align: right;\">\n",
       "      <th></th>\n",
       "      <th>step</th>\n",
       "      <th>amount</th>\n",
       "      <th>isFraud</th>\n",
       "      <th>type_CASH_OUT</th>\n",
       "      <th>type_TRANSFER</th>\n",
       "      <th>drain_Orig_account_No</th>\n",
       "      <th>drain_Orig_account_Yes</th>\n",
       "    </tr>\n",
       "  </thead>\n",
       "  <tbody>\n",
       "    <tr>\n",
       "      <th>0</th>\n",
       "      <td>1</td>\n",
       "      <td>181.00</td>\n",
       "      <td>1</td>\n",
       "      <td>0</td>\n",
       "      <td>1</td>\n",
       "      <td>0</td>\n",
       "      <td>1</td>\n",
       "    </tr>\n",
       "    <tr>\n",
       "      <th>1</th>\n",
       "      <td>1</td>\n",
       "      <td>181.00</td>\n",
       "      <td>1</td>\n",
       "      <td>1</td>\n",
       "      <td>0</td>\n",
       "      <td>0</td>\n",
       "      <td>1</td>\n",
       "    </tr>\n",
       "    <tr>\n",
       "      <th>2</th>\n",
       "      <td>1</td>\n",
       "      <td>229133.94</td>\n",
       "      <td>0</td>\n",
       "      <td>1</td>\n",
       "      <td>0</td>\n",
       "      <td>0</td>\n",
       "      <td>1</td>\n",
       "    </tr>\n",
       "    <tr>\n",
       "      <th>3</th>\n",
       "      <td>1</td>\n",
       "      <td>215310.30</td>\n",
       "      <td>0</td>\n",
       "      <td>0</td>\n",
       "      <td>1</td>\n",
       "      <td>0</td>\n",
       "      <td>1</td>\n",
       "    </tr>\n",
       "    <tr>\n",
       "      <th>4</th>\n",
       "      <td>1</td>\n",
       "      <td>311685.89</td>\n",
       "      <td>0</td>\n",
       "      <td>0</td>\n",
       "      <td>1</td>\n",
       "      <td>0</td>\n",
       "      <td>1</td>\n",
       "    </tr>\n",
       "  </tbody>\n",
       "</table>\n",
       "</div>"
      ],
      "text/plain": [
       "   step     amount  isFraud  type_CASH_OUT  type_TRANSFER  \\\n",
       "0     1     181.00        1              0              1   \n",
       "1     1     181.00        1              1              0   \n",
       "2     1  229133.94        0              1              0   \n",
       "3     1  215310.30        0              0              1   \n",
       "4     1  311685.89        0              0              1   \n",
       "\n",
       "   drain_Orig_account_No  drain_Orig_account_Yes  \n",
       "0                      0                       1  \n",
       "1                      0                       1  \n",
       "2                      0                       1  \n",
       "3                      0                       1  \n",
       "4                      0                       1  "
      ]
     },
     "execution_count": 18,
     "metadata": {},
     "output_type": "execute_result"
    }
   ],
   "source": [
    "#One-hot encoding categorical features\n",
    "df_dummies = pd.get_dummies(eda_df)\n",
    "df_dummies.head()"
   ]
  },
  {
   "cell_type": "markdown",
   "metadata": {},
   "source": [
    "## Scaling Numerical Variables\n",
    "\n",
    "The transaction amount is the only scalable numerical feature in the dataset. Since the data is highly right-skewed, a power transform scaler would likely be the most appropriate choice. This type of scaler would bring the transaction amount distribution closer to normal."
   ]
  },
  {
   "cell_type": "code",
   "execution_count": 25,
   "metadata": {},
   "outputs": [
    {
     "data": {
      "text/plain": [
       "<AxesSubplot:>"
      ]
     },
     "execution_count": 25,
     "metadata": {},
     "output_type": "execute_result"
    },
    {
     "data": {
      "image/png": "[encoded data removed]",
      "text/plain": [
       "<Figure size 432x288 with 1 Axes>"
      ]
     },
     "metadata": {
      "needs_background": "light"
     },
     "output_type": "display_data"
    }
   ],
   "source": [
    "#highly right-skewed distribution \n",
    "df_dummies.amount.hist(bins=50)"
   ]
  },
  {
   "cell_type": "code",
   "execution_count": 19,
   "metadata": {},
   "outputs": [
    {
     "data": {
      "text/plain": [
       "array([[<AxesSubplot:title={'center':'amount'}>,\n",
       "        <AxesSubplot:title={'center':'amount_scaled'}>]], dtype=object)"
      ]
     },
     "execution_count": 19,
     "metadata": {},
     "output_type": "execute_result"
    },
    {
     "data": {
      "image/png": "[encoded data removed]",
      "text/plain": [
       "<Figure size 432x288 with 2 Axes>"
      ]
     },
     "metadata": {
      "needs_background": "light"
     },
     "output_type": "display_data"
    }
   ],
   "source": [
    "#scaling numerical features\n",
    "#\n",
    "# Import PowerTransformer\n",
    "from sklearn.preprocessing import PowerTransformer\n",
    "# Instantiate PowerTransformer\n",
    "pow_trans = PowerTransformer()\n",
    "# Train the transform on the data\n",
    "pow_trans.fit(df_dummies[['amount']])\n",
    "# Apply the power transform to the data\n",
    "df_dummies['amount_scaled'] = pow_trans.transform(df_dummies[['amount']])\n",
    "# Plot the data before and after the transformation\n",
    "df_dummies[['amount', 'amount_scaled']].hist(bins=50)"
   ]
  },
  {
   "cell_type": "code",
   "execution_count": 20,
   "metadata": {},
   "outputs": [
    {
     "data": {
      "text/html": [
       "<div>\n",
       "<style scoped>\n",
       "    .dataframe tbody tr th:only-of-type {\n",
       "        vertical-align: middle;\n",
       "    }\n",
       "\n",
       "    .dataframe tbody tr th {\n",
       "        vertical-align: top;\n",
       "    }\n",
       "\n",
       "    .dataframe thead th {\n",
       "        text-align: right;\n",
       "    }\n",
       "</style>\n",
       "<table border=\"1\" class=\"dataframe\">\n",
       "  <thead>\n",
       "    <tr style=\"text-align: right;\">\n",
       "      <th></th>\n",
       "      <th>step</th>\n",
       "      <th>amount</th>\n",
       "      <th>isFraud</th>\n",
       "      <th>type_CASH_OUT</th>\n",
       "      <th>type_TRANSFER</th>\n",
       "      <th>drain_Orig_account_No</th>\n",
       "      <th>drain_Orig_account_Yes</th>\n",
       "      <th>amount_scaled</th>\n",
       "    </tr>\n",
       "  </thead>\n",
       "  <tbody>\n",
       "    <tr>\n",
       "      <th>0</th>\n",
       "      <td>1</td>\n",
       "      <td>181.00</td>\n",
       "      <td>1</td>\n",
       "      <td>0</td>\n",
       "      <td>1</td>\n",
       "      <td>0</td>\n",
       "      <td>1</td>\n",
       "      <td>-4.096788</td>\n",
       "    </tr>\n",
       "    <tr>\n",
       "      <th>1</th>\n",
       "      <td>1</td>\n",
       "      <td>181.00</td>\n",
       "      <td>1</td>\n",
       "      <td>1</td>\n",
       "      <td>0</td>\n",
       "      <td>0</td>\n",
       "      <td>1</td>\n",
       "      <td>-4.096788</td>\n",
       "    </tr>\n",
       "    <tr>\n",
       "      <th>2</th>\n",
       "      <td>1</td>\n",
       "      <td>229133.94</td>\n",
       "      <td>0</td>\n",
       "      <td>1</td>\n",
       "      <td>0</td>\n",
       "      <td>0</td>\n",
       "      <td>1</td>\n",
       "      <td>0.287913</td>\n",
       "    </tr>\n",
       "    <tr>\n",
       "      <th>3</th>\n",
       "      <td>1</td>\n",
       "      <td>215310.30</td>\n",
       "      <td>0</td>\n",
       "      <td>0</td>\n",
       "      <td>1</td>\n",
       "      <td>0</td>\n",
       "      <td>1</td>\n",
       "      <td>0.234287</td>\n",
       "    </tr>\n",
       "    <tr>\n",
       "      <th>4</th>\n",
       "      <td>1</td>\n",
       "      <td>311685.89</td>\n",
       "      <td>0</td>\n",
       "      <td>0</td>\n",
       "      <td>1</td>\n",
       "      <td>0</td>\n",
       "      <td>1</td>\n",
       "      <td>0.558130</td>\n",
       "    </tr>\n",
       "  </tbody>\n",
       "</table>\n",
       "</div>"
      ],
      "text/plain": [
       "   step     amount  isFraud  type_CASH_OUT  type_TRANSFER  \\\n",
       "0     1     181.00        1              0              1   \n",
       "1     1     181.00        1              1              0   \n",
       "2     1  229133.94        0              1              0   \n",
       "3     1  215310.30        0              0              1   \n",
       "4     1  311685.89        0              0              1   \n",
       "\n",
       "   drain_Orig_account_No  drain_Orig_account_Yes  amount_scaled  \n",
       "0                      0                       1      -4.096788  \n",
       "1                      0                       1      -4.096788  \n",
       "2                      0                       1       0.287913  \n",
       "3                      0                       1       0.234287  \n",
       "4                      0                       1       0.558130  "
      ]
     },
     "execution_count": 20,
     "metadata": {},
     "output_type": "execute_result"
    }
   ],
   "source": [
    "df_dummies.head()"
   ]
  },
  {
   "cell_type": "markdown",
   "metadata": {},
   "source": [
    "## Scaling Step?\n",
    "\n",
    "Although the variable \"step\" has shown some relation with the outcome of the transaction (fraud/legitimate), and it could theoretically be scaled. Unfortunately, we don't have any information on day of week or even time of day from the original data set, so no categorical encoding is easy to do. \n",
    "\n",
    "Also, there is no clear way to numerically scale the variable that I see."
   ]
  },
  {
   "cell_type": "markdown",
   "metadata": {},
   "source": [
    "# Imbalanced Data\n",
    "\n",
    "The fraud dataset is highly imbalanced. In the above dataframe, there are only 8,213 observations of fraud out of close to 2.8M observations, or approximately 0.3 percent of transactions. This presents a challenge in that a classifier could predict all observations as legitimate and still get 99.7% accuracy! \n",
    "\n",
    "Since we're very interested in flagging fraud, we will need to combat the problem of imbalance by resampling. Since we have so many records, under-sampling would be a good approach for our case. That is, we select the same number of legitimate transactions as fradulent."
   ]
  },
  {
   "cell_type": "code",
   "execution_count": 21,
   "metadata": {},
   "outputs": [],
   "source": [
    "#Under-sampling legitimate transactions\n",
    "\n",
    "#get size of group for fraud and under-sampled legitimate transactions\n",
    "size_of_group = df_dummies.isFraud.sum()\n",
    "#get all indicies for legitimate and fradulent transactions\n",
    "legit_indicies = df_dummies[df_dummies.isFraud == 0].index\n",
    "fraud_indicies = df_dummies[df_dummies.isFraud == 1].index\n",
    "#get random subset for undersampled legitimate transactions\n",
    "random_legit_group = np.random.choice(legit_indicies,size_of_group,replace=False)"
   ]
  },
  {
   "cell_type": "code",
   "execution_count": 23,
   "metadata": {},
   "outputs": [],
   "source": [
    "#balanced dataframe\n",
    "blanced_df = pd.concat([df_dummies.loc[random_legit_group],df_dummies.loc[fraud_indicies]])"
   ]
  },
  {
   "cell_type": "code",
   "execution_count": 24,
   "metadata": {},
   "outputs": [
    {
     "data": {
      "text/html": [
       "<div>\n",
       "<style scoped>\n",
       "    .dataframe tbody tr th:only-of-type {\n",
       "        vertical-align: middle;\n",
       "    }\n",
       "\n",
       "    .dataframe tbody tr th {\n",
       "        vertical-align: top;\n",
       "    }\n",
       "\n",
       "    .dataframe thead th {\n",
       "        text-align: right;\n",
       "    }\n",
       "</style>\n",
       "<table border=\"1\" class=\"dataframe\">\n",
       "  <thead>\n",
       "    <tr style=\"text-align: right;\">\n",
       "      <th></th>\n",
       "      <th>step</th>\n",
       "      <th>amount</th>\n",
       "      <th>isFraud</th>\n",
       "      <th>type_CASH_OUT</th>\n",
       "      <th>type_TRANSFER</th>\n",
       "      <th>drain_Orig_account_No</th>\n",
       "      <th>drain_Orig_account_Yes</th>\n",
       "      <th>amount_scaled</th>\n",
       "    </tr>\n",
       "  </thead>\n",
       "  <tbody>\n",
       "    <tr>\n",
       "      <th>1874910</th>\n",
       "      <td>307</td>\n",
       "      <td>419858.72</td>\n",
       "      <td>0</td>\n",
       "      <td>1</td>\n",
       "      <td>0</td>\n",
       "      <td>1</td>\n",
       "      <td>0</td>\n",
       "      <td>0.827968</td>\n",
       "    </tr>\n",
       "    <tr>\n",
       "      <th>630934</th>\n",
       "      <td>139</td>\n",
       "      <td>645405.46</td>\n",
       "      <td>0</td>\n",
       "      <td>1</td>\n",
       "      <td>0</td>\n",
       "      <td>1</td>\n",
       "      <td>0</td>\n",
       "      <td>1.232127</td>\n",
       "    </tr>\n",
       "    <tr>\n",
       "      <th>1535084</th>\n",
       "      <td>259</td>\n",
       "      <td>70870.62</td>\n",
       "      <td>0</td>\n",
       "      <td>1</td>\n",
       "      <td>0</td>\n",
       "      <td>1</td>\n",
       "      <td>0</td>\n",
       "      <td>-0.668246</td>\n",
       "    </tr>\n",
       "    <tr>\n",
       "      <th>134527</th>\n",
       "      <td>16</td>\n",
       "      <td>179769.33</td>\n",
       "      <td>0</td>\n",
       "      <td>1</td>\n",
       "      <td>0</td>\n",
       "      <td>1</td>\n",
       "      <td>0</td>\n",
       "      <td>0.080725</td>\n",
       "    </tr>\n",
       "    <tr>\n",
       "      <th>431320</th>\n",
       "      <td>44</td>\n",
       "      <td>83710.32</td>\n",
       "      <td>0</td>\n",
       "      <td>1</td>\n",
       "      <td>0</td>\n",
       "      <td>0</td>\n",
       "      <td>1</td>\n",
       "      <td>-0.539433</td>\n",
       "    </tr>\n",
       "    <tr>\n",
       "      <th>...</th>\n",
       "      <td>...</td>\n",
       "      <td>...</td>\n",
       "      <td>...</td>\n",
       "      <td>...</td>\n",
       "      <td>...</td>\n",
       "      <td>...</td>\n",
       "      <td>...</td>\n",
       "      <td>...</td>\n",
       "    </tr>\n",
       "    <tr>\n",
       "      <th>2770404</th>\n",
       "      <td>743</td>\n",
       "      <td>339682.13</td>\n",
       "      <td>1</td>\n",
       "      <td>1</td>\n",
       "      <td>0</td>\n",
       "      <td>0</td>\n",
       "      <td>1</td>\n",
       "      <td>0.635196</td>\n",
       "    </tr>\n",
       "    <tr>\n",
       "      <th>2770405</th>\n",
       "      <td>743</td>\n",
       "      <td>6311409.28</td>\n",
       "      <td>1</td>\n",
       "      <td>0</td>\n",
       "      <td>1</td>\n",
       "      <td>0</td>\n",
       "      <td>1</td>\n",
       "      <td>3.698260</td>\n",
       "    </tr>\n",
       "    <tr>\n",
       "      <th>2770406</th>\n",
       "      <td>743</td>\n",
       "      <td>6311409.28</td>\n",
       "      <td>1</td>\n",
       "      <td>1</td>\n",
       "      <td>0</td>\n",
       "      <td>0</td>\n",
       "      <td>1</td>\n",
       "      <td>3.698260</td>\n",
       "    </tr>\n",
       "    <tr>\n",
       "      <th>2770407</th>\n",
       "      <td>743</td>\n",
       "      <td>850002.52</td>\n",
       "      <td>1</td>\n",
       "      <td>0</td>\n",
       "      <td>1</td>\n",
       "      <td>0</td>\n",
       "      <td>1</td>\n",
       "      <td>1.500422</td>\n",
       "    </tr>\n",
       "    <tr>\n",
       "      <th>2770408</th>\n",
       "      <td>743</td>\n",
       "      <td>850002.52</td>\n",
       "      <td>1</td>\n",
       "      <td>1</td>\n",
       "      <td>0</td>\n",
       "      <td>0</td>\n",
       "      <td>1</td>\n",
       "      <td>1.500422</td>\n",
       "    </tr>\n",
       "  </tbody>\n",
       "</table>\n",
       "<p>16426 rows × 8 columns</p>\n",
       "</div>"
      ],
      "text/plain": [
       "         step      amount  isFraud  type_CASH_OUT  type_TRANSFER  \\\n",
       "1874910   307   419858.72        0              1              0   \n",
       "630934    139   645405.46        0              1              0   \n",
       "1535084   259    70870.62        0              1              0   \n",
       "134527     16   179769.33        0              1              0   \n",
       "431320     44    83710.32        0              1              0   \n",
       "...       ...         ...      ...            ...            ...   \n",
       "2770404   743   339682.13        1              1              0   \n",
       "2770405   743  6311409.28        1              0              1   \n",
       "2770406   743  6311409.28        1              1              0   \n",
       "2770407   743   850002.52        1              0              1   \n",
       "2770408   743   850002.52        1              1              0   \n",
       "\n",
       "         drain_Orig_account_No  drain_Orig_account_Yes  amount_scaled  \n",
       "1874910                      1                       0       0.827968  \n",
       "630934                       1                       0       1.232127  \n",
       "1535084                      1                       0      -0.668246  \n",
       "134527                       1                       0       0.080725  \n",
       "431320                       0                       1      -0.539433  \n",
       "...                        ...                     ...            ...  \n",
       "2770404                      0                       1       0.635196  \n",
       "2770405                      0                       1       3.698260  \n",
       "2770406                      0                       1       3.698260  \n",
       "2770407                      0                       1       1.500422  \n",
       "2770408                      0                       1       1.500422  \n",
       "\n",
       "[16426 rows x 8 columns]"
      ]
     },
     "execution_count": 24,
     "metadata": {},
     "output_type": "execute_result"
    }
   ],
   "source": [
    "blanced_df"
   ]
  },
  {
   "cell_type": "markdown",
   "metadata": {},
   "source": [
    "# Is undersampled data representative of the entire sample?\n",
    "\n",
    "Although, we now balanced the label in the dataset, can we be sure that the undersampled subset of legitimate transactions is representative of all records? For instance, the subset could contain only a small percentage of type_CASH_OUT relative to the population, or the amounts could be significantly different. Let's verify that this is not the case."
   ]
  },
  {
   "cell_type": "code",
   "execution_count": 39,
   "metadata": {},
   "outputs": [
    {
     "data": {
      "text/plain": [
       "isFraud  type_CASH_OUT\n",
       "0        1                0.808961\n",
       "         0                0.191039\n",
       "Name: type_CASH_OUT, dtype: float64"
      ]
     },
     "execution_count": 39,
     "metadata": {},
     "output_type": "execute_result"
    }
   ],
   "source": [
    "blanced_df[blanced_df.isFraud==0].groupby('isFraud')['type_CASH_OUT'].value_counts(normalize=True)"
   ]
  },
  {
   "cell_type": "code",
   "execution_count": 40,
   "metadata": {},
   "outputs": [
    {
     "data": {
      "text/plain": [
       "isFraud  type_CASH_OUT\n",
       "0        1                0.808554\n",
       "         0                0.191446\n",
       "Name: type_CASH_OUT, dtype: float64"
      ]
     },
     "execution_count": 40,
     "metadata": {},
     "output_type": "execute_result"
    }
   ],
   "source": [
    "df_dummies[df_dummies.isFraud==0].groupby('isFraud')['type_CASH_OUT'].value_counts(normalize=True)"
   ]
  },
  {
   "cell_type": "code",
   "execution_count": 41,
   "metadata": {},
   "outputs": [
    {
     "data": {
      "text/plain": [
       "isFraud  drain_Orig_account_Yes\n",
       "0        0                         0.580056\n",
       "         1                         0.419944\n",
       "Name: drain_Orig_account_Yes, dtype: float64"
      ]
     },
     "execution_count": 41,
     "metadata": {},
     "output_type": "execute_result"
    }
   ],
   "source": [
    "blanced_df[blanced_df.isFraud==0].groupby('isFraud')['drain_Orig_account_Yes'].value_counts(normalize=True)"
   ]
  },
  {
   "cell_type": "code",
   "execution_count": 42,
   "metadata": {},
   "outputs": [
    {
     "data": {
      "text/plain": [
       "isFraud  drain_Orig_account_Yes\n",
       "0        0                         0.572781\n",
       "         1                         0.427219\n",
       "Name: drain_Orig_account_Yes, dtype: float64"
      ]
     },
     "execution_count": 42,
     "metadata": {},
     "output_type": "execute_result"
    }
   ],
   "source": [
    "df_dummies[df_dummies.isFraud==0].groupby('isFraud')['drain_Orig_account_Yes'].value_counts(normalize=True)"
   ]
  },
  {
   "cell_type": "code",
   "execution_count": 43,
   "metadata": {},
   "outputs": [
    {
     "data": {
      "text/html": [
       "<div>\n",
       "<style scoped>\n",
       "    .dataframe tbody tr th:only-of-type {\n",
       "        vertical-align: middle;\n",
       "    }\n",
       "\n",
       "    .dataframe tbody tr th {\n",
       "        vertical-align: top;\n",
       "    }\n",
       "\n",
       "    .dataframe thead th {\n",
       "        text-align: right;\n",
       "    }\n",
       "</style>\n",
       "<table border=\"1\" class=\"dataframe\">\n",
       "  <thead>\n",
       "    <tr style=\"text-align: right;\">\n",
       "      <th></th>\n",
       "      <th>count</th>\n",
       "      <th>mean</th>\n",
       "      <th>std</th>\n",
       "      <th>min</th>\n",
       "      <th>25%</th>\n",
       "      <th>50%</th>\n",
       "      <th>75%</th>\n",
       "      <th>max</th>\n",
       "    </tr>\n",
       "    <tr>\n",
       "      <th>isFraud</th>\n",
       "      <th></th>\n",
       "      <th></th>\n",
       "      <th></th>\n",
       "      <th></th>\n",
       "      <th></th>\n",
       "      <th></th>\n",
       "      <th></th>\n",
       "      <th></th>\n",
       "    </tr>\n",
       "  </thead>\n",
       "  <tbody>\n",
       "    <tr>\n",
       "      <th>0</th>\n",
       "      <td>8213.0</td>\n",
       "      <td>-0.003493</td>\n",
       "      <td>0.983469</td>\n",
       "      <td>-4.244368</td>\n",
       "      <td>-0.551489</td>\n",
       "      <td>0.045756</td>\n",
       "      <td>0.537324</td>\n",
       "      <td>5.85893</td>\n",
       "    </tr>\n",
       "  </tbody>\n",
       "</table>\n",
       "</div>"
      ],
      "text/plain": [
       "          count      mean       std       min       25%       50%       75%  \\\n",
       "isFraud                                                                       \n",
       "0        8213.0 -0.003493  0.983469 -4.244368 -0.551489  0.045756  0.537324   \n",
       "\n",
       "             max  \n",
       "isFraud           \n",
       "0        5.85893  "
      ]
     },
     "execution_count": 43,
     "metadata": {},
     "output_type": "execute_result"
    }
   ],
   "source": [
    "blanced_df[blanced_df.isFraud==0].groupby('isFraud')['amount_scaled'].describe()"
   ]
  },
  {
   "cell_type": "code",
   "execution_count": 44,
   "metadata": {},
   "outputs": [
    {
     "data": {
      "text/html": [
       "<div>\n",
       "<style scoped>\n",
       "    .dataframe tbody tr th:only-of-type {\n",
       "        vertical-align: middle;\n",
       "    }\n",
       "\n",
       "    .dataframe tbody tr th {\n",
       "        vertical-align: top;\n",
       "    }\n",
       "\n",
       "    .dataframe thead th {\n",
       "        text-align: right;\n",
       "    }\n",
       "</style>\n",
       "<table border=\"1\" class=\"dataframe\">\n",
       "  <thead>\n",
       "    <tr style=\"text-align: right;\">\n",
       "      <th></th>\n",
       "      <th>count</th>\n",
       "      <th>mean</th>\n",
       "      <th>std</th>\n",
       "      <th>min</th>\n",
       "      <th>25%</th>\n",
       "      <th>50%</th>\n",
       "      <th>75%</th>\n",
       "      <th>max</th>\n",
       "    </tr>\n",
       "    <tr>\n",
       "      <th>isFraud</th>\n",
       "      <th></th>\n",
       "      <th></th>\n",
       "      <th></th>\n",
       "      <th></th>\n",
       "      <th></th>\n",
       "      <th></th>\n",
       "      <th></th>\n",
       "      <th></th>\n",
       "    </tr>\n",
       "  </thead>\n",
       "  <tbody>\n",
       "    <tr>\n",
       "      <th>0</th>\n",
       "      <td>2762196.0</td>\n",
       "      <td>-0.002808</td>\n",
       "      <td>0.995905</td>\n",
       "      <td>-5.78145</td>\n",
       "      <td>-0.546941</td>\n",
       "      <td>0.038822</td>\n",
       "      <td>0.541705</td>\n",
       "      <td>7.440142</td>\n",
       "    </tr>\n",
       "  </tbody>\n",
       "</table>\n",
       "</div>"
      ],
      "text/plain": [
       "             count      mean       std      min       25%       50%       75%  \\\n",
       "isFraud                                                                         \n",
       "0        2762196.0 -0.002808  0.995905 -5.78145 -0.546941  0.038822  0.541705   \n",
       "\n",
       "              max  \n",
       "isFraud            \n",
       "0        7.440142  "
      ]
     },
     "execution_count": 44,
     "metadata": {},
     "output_type": "execute_result"
    }
   ],
   "source": [
    "df_dummies[df_dummies.isFraud==0].groupby('isFraud')['amount_scaled'].describe()"
   ]
  },
  {
   "cell_type": "code",
   "execution_count": 46,
   "metadata": {},
   "outputs": [],
   "source": [
    "bal_amts = blanced_df[blanced_df.isFraud==0]['amount_scaled']\n",
    "orig_amts = df_dummies[df_dummies.isFraud==0]['amount_scaled']"
   ]
  },
  {
   "cell_type": "code",
   "execution_count": 50,
   "metadata": {},
   "outputs": [
    {
     "data": {
      "text/plain": [
       "(array([1.54159453e-04, 2.90329073e-03, 2.71901131e-02, 1.72593693e-01,\n",
       "        4.41158627e-01, 9.53337940e-02, 1.41980035e-02, 2.42082367e-03,\n",
       "        3.49391585e-04, 3.66915928e-05]),\n",
       " array([-5.78145006, -4.45929089, -3.13713171, -1.81497254, -0.49281337,\n",
       "         0.8293458 ,  2.15150497,  3.47366414,  4.79582331,  6.11798248,\n",
       "         7.44014165]),\n",
       " <BarContainer object of 10 artists>)"
      ]
     },
     "execution_count": 50,
     "metadata": {},
     "output_type": "execute_result"
    },
    {
     "data": {
      "image/png": "[encoded data removed]",
      "text/plain": [
       "<Figure size 432x288 with 1 Axes>"
      ]
     },
     "metadata": {
      "needs_background": "light"
     },
     "output_type": "display_data"
    }
   ],
   "source": [
    "plt.hist(bal_amts,density=True,alpha=0.4)\n",
    "plt.hist(orig_amts,density=True,alpha=0.4,color='orange')"
   ]
  },
  {
   "cell_type": "code",
   "execution_count": 51,
   "metadata": {},
   "outputs": [
    {
     "data": {
      "text/plain": [
       "KstestResult(statistic=0.007016008644660121, pvalue=0.8122474143726788)"
      ]
     },
     "execution_count": 51,
     "metadata": {},
     "output_type": "execute_result"
    }
   ],
   "source": [
    "#Kolmogorov-Smirnov test for equality of distributions of amount_scaled\n",
    "from scipy.stats import ks_2samp\n",
    "#evaluate metric for bal_amts and orig_amts\n",
    "ks_2samp(bal_amts, orig_amts)"
   ]
  },
  {
   "cell_type": "markdown",
   "metadata": {},
   "source": [
    "### Conclusion\n",
    "\n",
    "Comparison of the ratio of transaction types shows no important difference of the undersampled group of legitimate transactions against the entire population. Furthermore, the Kolmogorov-Smirnov indicates no significant difference in the distributions of the scaled amounts between these two groups. Hence, the undersampled subset can be considered statistically representative of the entire population and should pose no issues during training the model."
   ]
  },
  {
   "cell_type": "markdown",
   "metadata": {},
   "source": [
    "# Split Data into Train and Test\n",
    "\n",
    "Final preprocessing step of splitting dataset into training and testing subsets "
   ]
  },
  {
   "cell_type": "code",
   "execution_count": 52,
   "metadata": {},
   "outputs": [],
   "source": [
    "#Define train and test sets\n",
    "X = blanced_df.drop(columns=['isFraud','amount'])\n",
    "y = blanced_df['isFraud']"
   ]
  },
  {
   "cell_type": "code",
   "execution_count": 53,
   "metadata": {},
   "outputs": [],
   "source": [
    "X_train, X_test, y_train, y_test = train_test_split(X, y, test_size=0.3, random_state=42)"
   ]
  },
  {
   "cell_type": "code",
   "execution_count": 54,
   "metadata": {},
   "outputs": [
    {
     "data": {
      "text/plain": [
       "((11498, 6), (4928, 6))"
      ]
     },
     "execution_count": 54,
     "metadata": {},
     "output_type": "execute_result"
    }
   ],
   "source": [
    "X_train.shape, X_test.shape"
   ]
  },
  {
   "cell_type": "code",
   "execution_count": 55,
   "metadata": {},
   "outputs": [
    {
     "data": {
      "text/plain": [
       "((11498,), (4928,))"
      ]
     },
     "execution_count": 55,
     "metadata": {},
     "output_type": "execute_result"
    }
   ],
   "source": [
    "y_train.shape, y_test.shape"
   ]
  },
  {
   "cell_type": "code",
   "execution_count": 56,
   "metadata": {},
   "outputs": [
    {
     "data": {
      "text/html": [
       "<div>\n",
       "<style scoped>\n",
       "    .dataframe tbody tr th:only-of-type {\n",
       "        vertical-align: middle;\n",
       "    }\n",
       "\n",
       "    .dataframe tbody tr th {\n",
       "        vertical-align: top;\n",
       "    }\n",
       "\n",
       "    .dataframe thead th {\n",
       "        text-align: right;\n",
       "    }\n",
       "</style>\n",
       "<table border=\"1\" class=\"dataframe\">\n",
       "  <thead>\n",
       "    <tr style=\"text-align: right;\">\n",
       "      <th></th>\n",
       "      <th>step</th>\n",
       "      <th>type_CASH_OUT</th>\n",
       "      <th>type_TRANSFER</th>\n",
       "      <th>drain_Orig_account_No</th>\n",
       "      <th>drain_Orig_account_Yes</th>\n",
       "      <th>amount_scaled</th>\n",
       "    </tr>\n",
       "  </thead>\n",
       "  <tbody>\n",
       "    <tr>\n",
       "      <th>1058040</th>\n",
       "      <td>202</td>\n",
       "      <td>1</td>\n",
       "      <td>0</td>\n",
       "      <td>1</td>\n",
       "      <td>0</td>\n",
       "      <td>0.579142</td>\n",
       "    </tr>\n",
       "    <tr>\n",
       "      <th>848053</th>\n",
       "      <td>169</td>\n",
       "      <td>1</td>\n",
       "      <td>0</td>\n",
       "      <td>0</td>\n",
       "      <td>1</td>\n",
       "      <td>-1.604630</td>\n",
       "    </tr>\n",
       "    <tr>\n",
       "      <th>1225072</th>\n",
       "      <td>215</td>\n",
       "      <td>1</td>\n",
       "      <td>0</td>\n",
       "      <td>0</td>\n",
       "      <td>1</td>\n",
       "      <td>0.615045</td>\n",
       "    </tr>\n",
       "    <tr>\n",
       "      <th>2666463</th>\n",
       "      <td>526</td>\n",
       "      <td>1</td>\n",
       "      <td>0</td>\n",
       "      <td>0</td>\n",
       "      <td>1</td>\n",
       "      <td>0.215005</td>\n",
       "    </tr>\n",
       "    <tr>\n",
       "      <th>2732403</th>\n",
       "      <td>630</td>\n",
       "      <td>0</td>\n",
       "      <td>1</td>\n",
       "      <td>0</td>\n",
       "      <td>1</td>\n",
       "      <td>-1.668755</td>\n",
       "    </tr>\n",
       "  </tbody>\n",
       "</table>\n",
       "</div>"
      ],
      "text/plain": [
       "         step  type_CASH_OUT  type_TRANSFER  drain_Orig_account_No  \\\n",
       "1058040   202              1              0                      1   \n",
       "848053    169              1              0                      0   \n",
       "1225072   215              1              0                      0   \n",
       "2666463   526              1              0                      0   \n",
       "2732403   630              0              1                      0   \n",
       "\n",
       "         drain_Orig_account_Yes  amount_scaled  \n",
       "1058040                       0       0.579142  \n",
       "848053                        1      -1.604630  \n",
       "1225072                       1       0.615045  \n",
       "2666463                       1       0.215005  \n",
       "2732403                       1      -1.668755  "
      ]
     },
     "execution_count": 56,
     "metadata": {},
     "output_type": "execute_result"
    }
   ],
   "source": [
    "#Inspect final data features format\n",
    "X_train.head()"
   ]
  },
  {
   "cell_type": "markdown",
   "metadata": {},
   "source": [
    "# Summary and Final Dataset\n",
    "\n",
    "In this notebook, the two categorical features (transaction type and whether the sender's account was emptied in the transaction) were one-hot encoded. The numerical feature of amount was scaled with a power transformation. Finally, the imbalanced dataset was undersampled for legitimate transactions to give a perfectly balanced final dataset."
   ]
  },
  {
   "cell_type": "code",
   "execution_count": 57,
   "metadata": {},
   "outputs": [],
   "source": [
    "#save final training and testing data\n",
    "X_train.to_csv('../data/Training_Data_Features.csv',index=False,index_label=False)\n",
    "X_test.to_csv('../data/Testing_Data_Features.csv',index=False,index_label=False)\n",
    "y_train.to_csv('../data/Training_Data_Labels.csv',index=False,index_label=False)\n",
    "y_test.to_csv('../data/Testing_Data_Labels.csv',index=False,index_label=False)"
   ]
  }
 ],
 "metadata": {
  "kernelspec": {
   "display_name": "Python 3",
   "language": "python",
   "name": "python3"
  },
  "language_info": {
   "codemirror_mode": {
    "name": "ipython",
    "version": 3
   },
   "file_extension": ".py",
   "mimetype": "text/x-python",
   "name": "python",
   "nbconvert_exporter": "python",
   "pygments_lexer": "ipython3",
   "version": "3.8.5"
  }
 },
 "nbformat": 4,
 "nbformat_minor": 4
}
