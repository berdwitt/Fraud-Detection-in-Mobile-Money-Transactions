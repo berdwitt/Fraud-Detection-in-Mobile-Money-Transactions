{
 "cells": [
  {
   "cell_type": "markdown",
   "metadata": {},
   "source": [
    "# EDA"
   ]
  },
  {
   "cell_type": "code",
   "execution_count": 1,
   "metadata": {},
   "outputs": [],
   "source": [
    "#import necessary packages\n",
    "import numpy as np\n",
    "import pandas as pd\n",
    "import matplotlib.pyplot as plt\n",
    "import seaborn as sns\n",
    "import random"
   ]
  },
  {
   "cell_type": "code",
   "execution_count": 2,
   "metadata": {},
   "outputs": [],
   "source": [
    "#set seed for reproducibility\n",
    "random.seed(72)"
   ]
  },
  {
   "cell_type": "code",
   "execution_count": 3,
   "metadata": {},
   "outputs": [],
   "source": [
    "#import data\n",
    "#original data set hosted on Kaggle at https://www.kaggle.com/ntnu-testimon/paysim1 \n",
    "#for detailed overview of dataset see conference paper at https://www.researchgate.net/publication/313138956_PAYSIM_A_FINANCIAL_MOBILE_MONEY_SIMULATOR_FOR_FRAUD_DETECTION \n",
    "#all data contained in a single downloaded CSV file\n",
    "fraud_detection = pd.read_csv('../data/PS_20174392719_1491204439457_log.csv')"
   ]
  },
  {
   "cell_type": "code",
   "execution_count": 5,
   "metadata": {},
   "outputs": [
    {
     "name": "stdout",
     "output_type": "stream",
     "text": [
      "(6362620, 11)\n",
      "-------------------------------------------------------------------------------------------------------------\n",
      "<class 'pandas.core.frame.DataFrame'>\n",
      "RangeIndex: 6362620 entries, 0 to 6362619\n",
      "Data columns (total 11 columns):\n",
      " #   Column          Dtype  \n",
      "---  ------          -----  \n",
      " 0   step            int64  \n",
      " 1   type            object \n",
      " 2   amount          float64\n",
      " 3   nameOrig        object \n",
      " 4   oldbalanceOrg   float64\n",
      " 5   newbalanceOrig  float64\n",
      " 6   nameDest        object \n",
      " 7   oldbalanceDest  float64\n",
      " 8   newbalanceDest  float64\n",
      " 9   isFraud         int64  \n",
      " 10  isFlaggedFraud  int64  \n",
      "dtypes: float64(5), int64(3), object(3)\n",
      "memory usage: 534.0+ MB\n",
      "None\n",
      "-------------------------------------------------------------------------------------------------------------\n",
      "   step      type    amount     nameOrig  oldbalanceOrg  newbalanceOrig  \\\n",
      "0     1   PAYMENT   9839.64  C1231006815       170136.0       160296.36   \n",
      "1     1   PAYMENT   1864.28  C1666544295        21249.0        19384.72   \n",
      "2     1  TRANSFER    181.00  C1305486145          181.0            0.00   \n",
      "3     1  CASH_OUT    181.00   C840083671          181.0            0.00   \n",
      "4     1   PAYMENT  11668.14  C2048537720        41554.0        29885.86   \n",
      "\n",
      "      nameDest  oldbalanceDest  newbalanceDest  isFraud  isFlaggedFraud  \n",
      "0  M1979787155             0.0             0.0        0               0  \n",
      "1  M2044282225             0.0             0.0        0               0  \n",
      "2   C553264065             0.0             0.0        1               0  \n",
      "3    C38997010         21182.0             0.0        1               0  \n",
      "4  M1230701703             0.0             0.0        0               0  \n"
     ]
    }
   ],
   "source": [
    "#basic info of data\n",
    "print(fraud_detection.shape)\n",
    "print('-------------------------------------------------------------------------------------------------------------')\n",
    "print(fraud_detection.info())\n",
    "print('-------------------------------------------------------------------------------------------------------------')\n",
    "print(fraud_detection.head())"
   ]
  },
  {
   "cell_type": "markdown",
   "metadata": {},
   "source": [
    "# Recap from Data Wrangling work and next EDA steps\n",
    "\n",
    "From the intial analysis in the Data Wrangling notebook, the data set was found to contain 11 columns with no missing values. All columns are of the proper data type and no anomalies were identified.\n",
    "\n",
    "We found that the sender and recipient are over 99.9% unique and that fraudulent transactions only rarely involve the same party multiple times.\n",
    "\n",
    "The trasaction type is very important for fraud detection, since only the types CASH_OUT and TRANSFER are linked to any fraudulent activity. Subsetting the data for only these transaction types, potential features of interest contained directly in the data set identified by a pair plot grouped by the label (isFraud) point to step, amount, oldbalanceOrg, newbalanceOrg, oldbalanceDest, and newbalanceDest.\n",
    "\n",
    "The column isFlaggedFraud is based on a simple criterion of a transaction amount exceeding 200,000 currency units, and hence can be dropped. "
   ]
  },
  {
   "cell_type": "code",
   "execution_count": 5,
   "metadata": {},
   "outputs": [],
   "source": [
    "#drop isFlaggedFraud\n",
    "fraud_detection.drop(columns='isFlaggedFraud',inplace=True)"
   ]
  },
  {
   "cell_type": "code",
   "execution_count": 6,
   "metadata": {},
   "outputs": [
    {
     "data": {
      "text/plain": [
       "(2770409, 10)"
      ]
     },
     "execution_count": 6,
     "metadata": {},
     "output_type": "execute_result"
    }
   ],
   "source": [
    "#only use CASH_OUT and TRANSFER transaction types\n",
    "fraud_types = ['CASH_OUT','TRANSFER']\n",
    "fraud_detection_ft = fraud_detection[fraud_detection.type.isin(fraud_types)]\n",
    "fraud_detection_ft.shape"
   ]
  },
  {
   "cell_type": "code",
   "execution_count": 8,
   "metadata": {},
   "outputs": [
    {
     "data": {
      "text/plain": [
       "[(2762196, 0.9970354557756634), (8213, 0.002964544224336551)]"
      ]
     },
     "execution_count": 8,
     "metadata": {},
     "output_type": "execute_result"
    }
   ],
   "source": [
    "#what percentage of fraud_data_ft is fraud?\n",
    "list(zip(fraud_detection_ft.isFraud.value_counts(),fraud_detection_ft.isFraud.value_counts(normalize=True)))"
   ]
  },
  {
   "cell_type": "code",
   "execution_count": 9,
   "metadata": {},
   "outputs": [],
   "source": [
    "#split data into fraud and legitimate transactions\n",
    "fraud_trans = fraud_detection_ft[fraud_detection_ft.isFraud == 1]\n",
    "legit_trans = fraud_detection_ft[fraud_detection_ft.isFraud == 0]"
   ]
  },
  {
   "cell_type": "code",
   "execution_count": 10,
   "metadata": {},
   "outputs": [
    {
     "data": {
      "text/plain": [
       "<AxesSubplot:xlabel='amount', ylabel='Density'>"
      ]
     },
     "execution_count": 10,
     "metadata": {},
     "output_type": "execute_result"
    },
    {
     "data": {
      "image/png": "[encoded data removed]",
      "text/plain": [
       "<Figure size 432x288 with 1 Axes>"
      ]
     },
     "metadata": {
      "needs_background": "light"
     },
     "output_type": "display_data"
    }
   ],
   "source": [
    "#plot transaction amount for both fraud and legitimate transactions as kde\n",
    "sns.kdeplot(fraud_trans.amount,color='red')\n",
    "sns.kdeplot(legit_trans.amount,color='green')"
   ]
  },
  {
   "cell_type": "markdown",
   "metadata": {},
   "source": [
    "# Log transformation of numerical variables\n",
    "\n",
    "From the data wrangling notebook, we saw that all amount and balance fields were strongly right skewed. We again should do a log transformation to get a more centered distribution and to more clearly see the differences between the fraudulent and legitimate transactions.\n",
    "\n",
    "To reaffirm our assertion of the skewed plots, we show the pair plot for all numerical variables."
   ]
  },
  {
   "cell_type": "code",
   "execution_count": 7,
   "metadata": {},
   "outputs": [
    {
     "name": "stdout",
     "output_type": "stream",
     "text": [
      "<class 'pandas.core.frame.DataFrame'>\n",
      "Int64Index: 2770409 entries, 2 to 6362619\n",
      "Data columns (total 5 columns):\n",
      " #   Column          Dtype  \n",
      "---  ------          -----  \n",
      " 0   amount          float64\n",
      " 1   oldbalanceOrg   float64\n",
      " 2   newbalanceOrig  float64\n",
      " 3   oldbalanceDest  float64\n",
      " 4   newbalanceDest  float64\n",
      "dtypes: float64(5)\n",
      "memory usage: 126.8 MB\n"
     ]
    }
   ],
   "source": [
    "fraud_detection_ft_numeric = fraud_detection_ft.select_dtypes(include=['float64'])\n",
    "fraud_detection_ft_numeric.info()"
   ]
  },
  {
   "cell_type": "code",
   "execution_count": 12,
   "metadata": {},
   "outputs": [
    {
     "data": {
      "text/plain": [
       "array([[<AxesSubplot:title={'center':'amount'}>,\n",
       "        <AxesSubplot:title={'center':'oldbalanceOrg'}>],\n",
       "       [<AxesSubplot:title={'center':'newbalanceOrig'}>,\n",
       "        <AxesSubplot:title={'center':'oldbalanceDest'}>],\n",
       "       [<AxesSubplot:title={'center':'newbalanceDest'}>, <AxesSubplot:>]],\n",
       "      dtype=object)"
      ]
     },
     "execution_count": 12,
     "metadata": {},
     "output_type": "execute_result"
    },
    {
     "data": {
      "image/png": "[encoded data removed]",
      "text/plain": [
       "<Figure size 432x288 with 6 Axes>"
      ]
     },
     "metadata": {
      "needs_background": "light"
     },
     "output_type": "display_data"
    }
   ],
   "source": [
    "#histograms for float64 variables\n",
    "fraud_detection_ft_numeric.hist(bins=40)"
   ]
  },
  {
   "cell_type": "code",
   "execution_count": 13,
   "metadata": {},
   "outputs": [
    {
     "data": {
      "text/html": [
       "<div>\n",
       "<style scoped>\n",
       "    .dataframe tbody tr th:only-of-type {\n",
       "        vertical-align: middle;\n",
       "    }\n",
       "\n",
       "    .dataframe tbody tr th {\n",
       "        vertical-align: top;\n",
       "    }\n",
       "\n",
       "    .dataframe thead th {\n",
       "        text-align: right;\n",
       "    }\n",
       "</style>\n",
       "<table border=\"1\" class=\"dataframe\">\n",
       "  <thead>\n",
       "    <tr style=\"text-align: right;\">\n",
       "      <th></th>\n",
       "      <th>amount</th>\n",
       "      <th>oldbalanceOrg</th>\n",
       "      <th>newbalanceOrig</th>\n",
       "      <th>oldbalanceDest</th>\n",
       "      <th>newbalanceDest</th>\n",
       "    </tr>\n",
       "  </thead>\n",
       "  <tbody>\n",
       "    <tr>\n",
       "      <th>count</th>\n",
       "      <td>2.770409e+06</td>\n",
       "      <td>2.770409e+06</td>\n",
       "      <td>2.770409e+06</td>\n",
       "      <td>2.770409e+06</td>\n",
       "      <td>2.770409e+06</td>\n",
       "    </tr>\n",
       "    <tr>\n",
       "      <th>mean</th>\n",
       "      <td>3.175361e+05</td>\n",
       "      <td>4.764308e+04</td>\n",
       "      <td>1.609190e+04</td>\n",
       "      <td>1.703551e+06</td>\n",
       "      <td>2.049734e+06</td>\n",
       "    </tr>\n",
       "    <tr>\n",
       "      <th>std</th>\n",
       "      <td>8.877897e+05</td>\n",
       "      <td>2.513251e+05</td>\n",
       "      <td>1.512558e+05</td>\n",
       "      <td>4.225550e+06</td>\n",
       "      <td>4.676990e+06</td>\n",
       "    </tr>\n",
       "    <tr>\n",
       "      <th>min</th>\n",
       "      <td>0.000000e+00</td>\n",
       "      <td>0.000000e+00</td>\n",
       "      <td>0.000000e+00</td>\n",
       "      <td>0.000000e+00</td>\n",
       "      <td>0.000000e+00</td>\n",
       "    </tr>\n",
       "    <tr>\n",
       "      <th>25%</th>\n",
       "      <td>8.297354e+04</td>\n",
       "      <td>0.000000e+00</td>\n",
       "      <td>0.000000e+00</td>\n",
       "      <td>1.280734e+05</td>\n",
       "      <td>3.272891e+05</td>\n",
       "    </tr>\n",
       "    <tr>\n",
       "      <th>50%</th>\n",
       "      <td>1.712609e+05</td>\n",
       "      <td>3.039600e+02</td>\n",
       "      <td>0.000000e+00</td>\n",
       "      <td>5.557100e+05</td>\n",
       "      <td>8.280539e+05</td>\n",
       "    </tr>\n",
       "    <tr>\n",
       "      <th>75%</th>\n",
       "      <td>3.067912e+05</td>\n",
       "      <td>3.099700e+04</td>\n",
       "      <td>0.000000e+00</td>\n",
       "      <td>1.735900e+06</td>\n",
       "      <td>2.122198e+06</td>\n",
       "    </tr>\n",
       "    <tr>\n",
       "      <th>max</th>\n",
       "      <td>9.244552e+07</td>\n",
       "      <td>5.958504e+07</td>\n",
       "      <td>4.958504e+07</td>\n",
       "      <td>3.560159e+08</td>\n",
       "      <td>3.561793e+08</td>\n",
       "    </tr>\n",
       "  </tbody>\n",
       "</table>\n",
       "</div>"
      ],
      "text/plain": [
       "             amount  oldbalanceOrg  newbalanceOrig  oldbalanceDest  \\\n",
       "count  2.770409e+06   2.770409e+06    2.770409e+06    2.770409e+06   \n",
       "mean   3.175361e+05   4.764308e+04    1.609190e+04    1.703551e+06   \n",
       "std    8.877897e+05   2.513251e+05    1.512558e+05    4.225550e+06   \n",
       "min    0.000000e+00   0.000000e+00    0.000000e+00    0.000000e+00   \n",
       "25%    8.297354e+04   0.000000e+00    0.000000e+00    1.280734e+05   \n",
       "50%    1.712609e+05   3.039600e+02    0.000000e+00    5.557100e+05   \n",
       "75%    3.067912e+05   3.099700e+04    0.000000e+00    1.735900e+06   \n",
       "max    9.244552e+07   5.958504e+07    4.958504e+07    3.560159e+08   \n",
       "\n",
       "       newbalanceDest  \n",
       "count    2.770409e+06  \n",
       "mean     2.049734e+06  \n",
       "std      4.676990e+06  \n",
       "min      0.000000e+00  \n",
       "25%      3.272891e+05  \n",
       "50%      8.280539e+05  \n",
       "75%      2.122198e+06  \n",
       "max      3.561793e+08  "
      ]
     },
     "execution_count": 13,
     "metadata": {},
     "output_type": "execute_result"
    }
   ],
   "source": [
    "fraud_detection_ft_numeric.describe()"
   ]
  },
  {
   "cell_type": "code",
   "execution_count": 14,
   "metadata": {},
   "outputs": [
    {
     "data": {
      "text/plain": [
       "array([[<AxesSubplot:title={'center':'amount'}>,\n",
       "        <AxesSubplot:title={'center':'oldbalanceOrg'}>],\n",
       "       [<AxesSubplot:title={'center':'newbalanceOrig'}>,\n",
       "        <AxesSubplot:title={'center':'oldbalanceDest'}>],\n",
       "       [<AxesSubplot:title={'center':'newbalanceDest'}>, <AxesSubplot:>]],\n",
       "      dtype=object)"
      ]
     },
     "execution_count": 14,
     "metadata": {},
     "output_type": "execute_result"
    },
    {
     "data": {
      "image/png": "[encoded data removed]",
      "text/plain": [
       "<Figure size 432x288 with 6 Axes>"
      ]
     },
     "metadata": {
      "needs_background": "light"
     },
     "output_type": "display_data"
    }
   ],
   "source": [
    "fraud_detection_ft_numeric_log = fraud_detection_ft_numeric.applymap(lambda x : np.log10(x+1)) #add small constant to avoid inf for log\n",
    "fraud_detection_ft_numeric_log.hist(bins=40)"
   ]
  },
  {
   "cell_type": "markdown",
   "metadata": {},
   "source": [
    "The log-transformed numerical variables now have a more centered distribution (with outliers to the far left of the plot for where the value was 0). "
   ]
  },
  {
   "cell_type": "code",
   "execution_count": 15,
   "metadata": {},
   "outputs": [
    {
     "data": {
      "text/html": [
       "<div>\n",
       "<style scoped>\n",
       "    .dataframe tbody tr th:only-of-type {\n",
       "        vertical-align: middle;\n",
       "    }\n",
       "\n",
       "    .dataframe tbody tr th {\n",
       "        vertical-align: top;\n",
       "    }\n",
       "\n",
       "    .dataframe thead th {\n",
       "        text-align: right;\n",
       "    }\n",
       "</style>\n",
       "<table border=\"1\" class=\"dataframe\">\n",
       "  <thead>\n",
       "    <tr style=\"text-align: right;\">\n",
       "      <th></th>\n",
       "      <th>amount</th>\n",
       "      <th>oldbalanceOrg</th>\n",
       "      <th>newbalanceOrig</th>\n",
       "      <th>oldbalanceDest</th>\n",
       "      <th>newbalanceDest</th>\n",
       "    </tr>\n",
       "  </thead>\n",
       "  <tbody>\n",
       "    <tr>\n",
       "      <th>amount</th>\n",
       "      <td>1.000000</td>\n",
       "      <td>0.010074</td>\n",
       "      <td>-0.284212</td>\n",
       "      <td>0.054126</td>\n",
       "      <td>0.351769</td>\n",
       "    </tr>\n",
       "    <tr>\n",
       "      <th>oldbalanceOrg</th>\n",
       "      <td>0.010074</td>\n",
       "      <td>1.000000</td>\n",
       "      <td>0.426854</td>\n",
       "      <td>-0.403433</td>\n",
       "      <td>-0.254077</td>\n",
       "    </tr>\n",
       "    <tr>\n",
       "      <th>newbalanceOrig</th>\n",
       "      <td>-0.284212</td>\n",
       "      <td>0.426854</td>\n",
       "      <td>1.000000</td>\n",
       "      <td>-0.098118</td>\n",
       "      <td>-0.157719</td>\n",
       "    </tr>\n",
       "    <tr>\n",
       "      <th>oldbalanceDest</th>\n",
       "      <td>0.054126</td>\n",
       "      <td>-0.403433</td>\n",
       "      <td>-0.098118</td>\n",
       "      <td>1.000000</td>\n",
       "      <td>0.584618</td>\n",
       "    </tr>\n",
       "    <tr>\n",
       "      <th>newbalanceDest</th>\n",
       "      <td>0.351769</td>\n",
       "      <td>-0.254077</td>\n",
       "      <td>-0.157719</td>\n",
       "      <td>0.584618</td>\n",
       "      <td>1.000000</td>\n",
       "    </tr>\n",
       "  </tbody>\n",
       "</table>\n",
       "</div>"
      ],
      "text/plain": [
       "                  amount  oldbalanceOrg  newbalanceOrig  oldbalanceDest  \\\n",
       "amount          1.000000       0.010074       -0.284212        0.054126   \n",
       "oldbalanceOrg   0.010074       1.000000        0.426854       -0.403433   \n",
       "newbalanceOrig -0.284212       0.426854        1.000000       -0.098118   \n",
       "oldbalanceDest  0.054126      -0.403433       -0.098118        1.000000   \n",
       "newbalanceDest  0.351769      -0.254077       -0.157719        0.584618   \n",
       "\n",
       "                newbalanceDest  \n",
       "amount                0.351769  \n",
       "oldbalanceOrg        -0.254077  \n",
       "newbalanceOrig       -0.157719  \n",
       "oldbalanceDest        0.584618  \n",
       "newbalanceDest        1.000000  "
      ]
     },
     "execution_count": 15,
     "metadata": {},
     "output_type": "execute_result"
    }
   ],
   "source": [
    "fraud_detection_ft_numeric_log.corr()"
   ]
  },
  {
   "cell_type": "code",
   "execution_count": 16,
   "metadata": {},
   "outputs": [
    {
     "data": {
      "text/plain": [
       "<AxesSubplot:>"
      ]
     },
     "execution_count": 16,
     "metadata": {},
     "output_type": "execute_result"
    },
    {
     "data": {
      "image/png": "[encoded data removed]",
      "text/plain": [
       "<Figure size 432x288 with 2 Axes>"
      ]
     },
     "metadata": {
      "needs_background": "light"
     },
     "output_type": "display_data"
    }
   ],
   "source": [
    "sns.heatmap(fraud_detection_ft_numeric_log.corr(),cmap='viridis')"
   ]
  },
  {
   "cell_type": "markdown",
   "metadata": {},
   "source": [
    "There are some moderate correlations between the newbalanceOrig and oldbalanceOrig, which makes sense as most transfer amounts are probably small relative to the entire balance. We will check this later.\n",
    "Same is true for  newbalanceDest and oldbalanceDest.\n",
    "\n",
    "Amount is negatively correlated with newblanceOrig and somewhat postively correlated with newblanceDest. Again, this makes logical sense as money is being transferred from the originator to the destination."
   ]
  },
  {
   "cell_type": "code",
   "execution_count": 17,
   "metadata": {},
   "outputs": [],
   "source": [
    "#fraud_detection_ft_log = fraud_detection_ft.copy()\n",
    "#fraud_detection_ft_log[fraud_detection_ft_numeric.columns] = fraud_detection_ft_numeric_log"
   ]
  },
  {
   "cell_type": "markdown",
   "metadata": {},
   "source": [
    "# Transaction Amount\n",
    "Does the mean transaction amount differ for fraud vs legitimate transactions?"
   ]
  },
  {
   "cell_type": "code",
   "execution_count": 8,
   "metadata": {},
   "outputs": [
    {
     "data": {
      "text/html": [
       "<div>\n",
       "<style scoped>\n",
       "    .dataframe tbody tr th:only-of-type {\n",
       "        vertical-align: middle;\n",
       "    }\n",
       "\n",
       "    .dataframe tbody tr th {\n",
       "        vertical-align: top;\n",
       "    }\n",
       "\n",
       "    .dataframe thead th {\n",
       "        text-align: right;\n",
       "    }\n",
       "</style>\n",
       "<table border=\"1\" class=\"dataframe\">\n",
       "  <thead>\n",
       "    <tr style=\"text-align: right;\">\n",
       "      <th></th>\n",
       "      <th>isFraud</th>\n",
       "      <th>amount</th>\n",
       "    </tr>\n",
       "  </thead>\n",
       "  <tbody>\n",
       "    <tr>\n",
       "      <th>2</th>\n",
       "      <td>1</td>\n",
       "      <td>181.00</td>\n",
       "    </tr>\n",
       "    <tr>\n",
       "      <th>3</th>\n",
       "      <td>1</td>\n",
       "      <td>181.00</td>\n",
       "    </tr>\n",
       "    <tr>\n",
       "      <th>15</th>\n",
       "      <td>0</td>\n",
       "      <td>229133.94</td>\n",
       "    </tr>\n",
       "    <tr>\n",
       "      <th>19</th>\n",
       "      <td>0</td>\n",
       "      <td>215310.30</td>\n",
       "    </tr>\n",
       "    <tr>\n",
       "      <th>24</th>\n",
       "      <td>0</td>\n",
       "      <td>311685.89</td>\n",
       "    </tr>\n",
       "  </tbody>\n",
       "</table>\n",
       "</div>"
      ],
      "text/plain": [
       "    isFraud     amount\n",
       "2         1     181.00\n",
       "3         1     181.00\n",
       "15        0  229133.94\n",
       "19        0  215310.30\n",
       "24        0  311685.89"
      ]
     },
     "execution_count": 8,
     "metadata": {},
     "output_type": "execute_result"
    }
   ],
   "source": [
    "#data frame for only isFraud and amount (non-zero amounts only)\n",
    "fraud_amount = fraud_detection_ft[['isFraud','amount']][fraud_detection_ft.amount>0]\n",
    "fraud_amount.head()"
   ]
  },
  {
   "cell_type": "code",
   "execution_count": 135,
   "metadata": {},
   "outputs": [
    {
     "data": {
      "text/plain": [
       "<AxesSubplot:xlabel='amount', ylabel='Density'>"
      ]
     },
     "execution_count": 135,
     "metadata": {},
     "output_type": "execute_result"
    },
    {
     "data": {
      "image/png": "[encoded data removed]",
      "text/plain": [
       "<Figure size 432x288 with 1 Axes>"
      ]
     },
     "metadata": {
      "needs_background": "light"
     },
     "output_type": "display_data"
    }
   ],
   "source": [
    "#plot CDF for amounts of fraud vs legitimate transactions\n",
    "sns.histplot(data=fraud_amount,x='amount',hue='isFraud',log_scale=True,cumulative=True,fill=False,stat='density',common_norm=False,element='step')"
   ]
  },
  {
   "cell_type": "code",
   "execution_count": 137,
   "metadata": {},
   "outputs": [
    {
     "data": {
      "text/html": [
       "<div>\n",
       "<style scoped>\n",
       "    .dataframe tbody tr th:only-of-type {\n",
       "        vertical-align: middle;\n",
       "    }\n",
       "\n",
       "    .dataframe tbody tr th {\n",
       "        vertical-align: top;\n",
       "    }\n",
       "\n",
       "    .dataframe thead th {\n",
       "        text-align: right;\n",
       "    }\n",
       "</style>\n",
       "<table border=\"1\" class=\"dataframe\">\n",
       "  <thead>\n",
       "    <tr style=\"text-align: right;\">\n",
       "      <th></th>\n",
       "      <th>isFraud</th>\n",
       "      <th>0</th>\n",
       "      <th>1</th>\n",
       "    </tr>\n",
       "  </thead>\n",
       "  <tbody>\n",
       "    <tr>\n",
       "      <th rowspan=\"8\" valign=\"top\">amount</th>\n",
       "      <th>count</th>\n",
       "      <td>2.762196e+06</td>\n",
       "      <td>8.197000e+03</td>\n",
       "    </tr>\n",
       "    <tr>\n",
       "      <th>mean</th>\n",
       "      <td>3.141155e+05</td>\n",
       "      <td>1.470833e+06</td>\n",
       "    </tr>\n",
       "    <tr>\n",
       "      <th>std</th>\n",
       "      <td>8.771441e+05</td>\n",
       "      <td>2.405723e+06</td>\n",
       "    </tr>\n",
       "    <tr>\n",
       "      <th>min</th>\n",
       "      <td>1.000000e-02</td>\n",
       "      <td>6.380000e+01</td>\n",
       "    </tr>\n",
       "    <tr>\n",
       "      <th>25%</th>\n",
       "      <td>8.290823e+04</td>\n",
       "      <td>1.275643e+05</td>\n",
       "    </tr>\n",
       "    <tr>\n",
       "      <th>50%</th>\n",
       "      <td>1.710345e+05</td>\n",
       "      <td>4.422902e+05</td>\n",
       "    </tr>\n",
       "    <tr>\n",
       "      <th>75%</th>\n",
       "      <td>3.059942e+05</td>\n",
       "      <td>1.525742e+06</td>\n",
       "    </tr>\n",
       "    <tr>\n",
       "      <th>max</th>\n",
       "      <td>9.244552e+07</td>\n",
       "      <td>1.000000e+07</td>\n",
       "    </tr>\n",
       "  </tbody>\n",
       "</table>\n",
       "</div>"
      ],
      "text/plain": [
       "isFraud                  0             1\n",
       "amount count  2.762196e+06  8.197000e+03\n",
       "       mean   3.141155e+05  1.470833e+06\n",
       "       std    8.771441e+05  2.405723e+06\n",
       "       min    1.000000e-02  6.380000e+01\n",
       "       25%    8.290823e+04  1.275643e+05\n",
       "       50%    1.710345e+05  4.422902e+05\n",
       "       75%    3.059942e+05  1.525742e+06\n",
       "       max    9.244552e+07  1.000000e+07"
      ]
     },
     "execution_count": 137,
     "metadata": {},
     "output_type": "execute_result"
    }
   ],
   "source": [
    "fraud_amount.groupby('isFraud').describe().T"
   ]
  },
  {
   "cell_type": "markdown",
   "metadata": {},
   "source": [
    "The CDF and statistical summary data on amount indicate that fraudulent transactions have a distinctly different distribution starting around 100,000+ amounts (recall that at 200K, fraud is automatically flagged by the mobile money transfer company). Futhermore, much higher mean amount (1.47M vs 0.314M) are observed in fraud compared to legitimate transactions.\n",
    "\n",
    "Let's see how statistically significant the difference between the two CDF curves is."
   ]
  },
  {
   "cell_type": "code",
   "execution_count": 11,
   "metadata": {},
   "outputs": [],
   "source": [
    "#Empirical CDF\n",
    "#function taken from https://campus.datacamp.com/courses/statistical-thinking-in-python-part-1\n",
    "def ecdf(data):\n",
    "    \"\"\"Compute ECDF for a one-dimensional array of measurements.\"\"\"\n",
    "    # Number of data points: n\n",
    "    n = len(data)\n",
    "\n",
    "    # x-data for the ECDF: x\n",
    "    x = np.sort(data)\n",
    "\n",
    "    # y-data for the ECDF: y\n",
    "    y = np.arange(1, n+1) / n\n",
    "\n",
    "    return x, y\n"
   ]
  },
  {
   "cell_type": "code",
   "execution_count": 12,
   "metadata": {},
   "outputs": [],
   "source": [
    "#permutation function\n",
    "#function taken from https://campus.datacamp.com/courses/statistical-thinking-in-python-part-2\n",
    "def permutation_sample(data1, data2):\n",
    "    \"\"\"Generate a permutation sample from two data sets.\"\"\"\n",
    "    # Concatenate the data sets: data\n",
    "    data = np.concatenate((data1,data2))\n",
    "    # Permute the concatenated array: permuted_data\n",
    "    permuted_data = np.random.permutation(data)\n",
    "    # Split the permuted array into two: perm_sample_1, perm_sample_2\n",
    "    perm_sample_1 = permuted_data[:len(data1)]\n",
    "    perm_sample_2 = permuted_data[len(data1):]\n",
    "    return perm_sample_1, perm_sample_2"
   ]
  },
  {
   "cell_type": "code",
   "execution_count": 19,
   "metadata": {},
   "outputs": [
    {
     "data": {
      "image/png": "[encoded data removed]",
      "text/plain": [
       "<Figure size 432x288 with 1 Axes>"
      ]
     },
     "metadata": {
      "needs_background": "light"
     },
     "output_type": "display_data"
    }
   ],
   "source": [
    "#graph permutation sample ECDF\n",
    "#function taken from https://campus.datacamp.com/courses/statistical-thinking-in-python-part-2\n",
    "fraud_amt = fraud_amount[fraud_amount.isFraud==1]['amount'].map(np.log10)\n",
    "legit_amt = fraud_amount[fraud_amount.isFraud==0]['amount'].map(np.log10).sample(len(fraud_amt))\n",
    "for _ in range(50):\n",
    "    # Generate permutation samples\n",
    "    perm_sample_1, perm_sample_2 = permutation_sample(fraud_amt,legit_amt)\n",
    "\n",
    "    # Compute ECDFs\n",
    "    x_1, y_1 = ecdf(perm_sample_1)\n",
    "    x_2, y_2 = ecdf(perm_sample_2)\n",
    "    # Plot ECDFs of permutation sample\n",
    "    _ = plt.plot(x_1, y_1, marker='.', linestyle='none',\n",
    "                 color='orange', alpha=0.02)\n",
    "    _ = plt.plot(x_2, y_2, marker='.', linestyle='none',\n",
    "                 color='blue', alpha=0.02)\n",
    "# Create and plot ECDFs from original data\n",
    "x_1, y_1 = ecdf(fraud_amt)\n",
    "x_2, y_2 = ecdf(legit_amt)\n",
    "_ = plt.plot(x_1, y_1, marker='.', linestyle='none', color='orange')\n",
    "_ = plt.plot(x_2, y_2, marker='.', linestyle='none', color='blue')\n",
    "# Label axes, set margin, and show plot\n",
    "plt.margins(0.02)\n",
    "_ = plt.xlabel('transaction amount')\n",
    "_ = plt.ylabel('ECDF')\n",
    "plt.show()"
   ]
  },
  {
   "cell_type": "markdown",
   "metadata": {},
   "source": [
    "The premuted empirical CDF function lies well between the fraud and legitimate transaction amount CDFs at amounts greater than about 10^5. Therefore, we can conclude that the upper ends of the amount distributions differ with statistical significance between fraud and legitimate transactions."
   ]
  },
  {
   "cell_type": "markdown",
   "metadata": {},
   "source": [
    "# Analysis accounting for transaction type and fraud determination"
   ]
  },
  {
   "cell_type": "code",
   "execution_count": 26,
   "metadata": {},
   "outputs": [
    {
     "data": {
      "text/html": [
       "<div>\n",
       "<style scoped>\n",
       "    .dataframe tbody tr th:only-of-type {\n",
       "        vertical-align: middle;\n",
       "    }\n",
       "\n",
       "    .dataframe tbody tr th {\n",
       "        vertical-align: top;\n",
       "    }\n",
       "\n",
       "    .dataframe thead tr th {\n",
       "        text-align: left;\n",
       "    }\n",
       "</style>\n",
       "<table border=\"1\" class=\"dataframe\">\n",
       "  <thead>\n",
       "    <tr>\n",
       "      <th></th>\n",
       "      <th>isFraud</th>\n",
       "      <th colspan=\"2\" halign=\"left\">0</th>\n",
       "      <th colspan=\"2\" halign=\"left\">1</th>\n",
       "    </tr>\n",
       "    <tr>\n",
       "      <th></th>\n",
       "      <th>type</th>\n",
       "      <th>CASH_OUT</th>\n",
       "      <th>TRANSFER</th>\n",
       "      <th>CASH_OUT</th>\n",
       "      <th>TRANSFER</th>\n",
       "    </tr>\n",
       "  </thead>\n",
       "  <tbody>\n",
       "    <tr>\n",
       "      <th rowspan=\"2\" valign=\"top\">amount</th>\n",
       "      <th>mean</th>\n",
       "      <td>1.739172e+05</td>\n",
       "      <td>9.062290e+05</td>\n",
       "      <td>1.455103e+06</td>\n",
       "      <td>1.480892e+06</td>\n",
       "    </tr>\n",
       "    <tr>\n",
       "      <th>std</th>\n",
       "      <td>1.312222e+05</td>\n",
       "      <td>1.874155e+06</td>\n",
       "      <td>2.393842e+06</td>\n",
       "      <td>2.414890e+06</td>\n",
       "    </tr>\n",
       "    <tr>\n",
       "      <th rowspan=\"2\" valign=\"top\">oldbalanceOrg</th>\n",
       "      <th>mean</th>\n",
       "      <td>4.342923e+04</td>\n",
       "      <td>4.055876e+04</td>\n",
       "      <td>1.453869e+06</td>\n",
       "      <td>1.846374e+06</td>\n",
       "    </tr>\n",
       "    <tr>\n",
       "      <th>std</th>\n",
       "      <td>1.338802e+05</td>\n",
       "      <td>1.406186e+05</td>\n",
       "      <td>2.394506e+06</td>\n",
       "      <td>4.404157e+06</td>\n",
       "    </tr>\n",
       "    <tr>\n",
       "      <th rowspan=\"2\" valign=\"top\">newbalanceOrig</th>\n",
       "      <th>mean</th>\n",
       "      <td>1.750626e+04</td>\n",
       "      <td>7.380372e+03</td>\n",
       "      <td>7.258688e+01</td>\n",
       "      <td>3.856046e+05</td>\n",
       "    </tr>\n",
       "    <tr>\n",
       "      <th>std</th>\n",
       "      <td>1.092919e+05</td>\n",
       "      <td>9.402846e+04</td>\n",
       "      <td>4.656888e+03</td>\n",
       "      <td>2.769842e+06</td>\n",
       "    </tr>\n",
       "    <tr>\n",
       "      <th rowspan=\"2\" valign=\"top\">oldbalanceDest</th>\n",
       "      <th>mean</th>\n",
       "      <td>1.498519e+06</td>\n",
       "      <td>2.587490e+06</td>\n",
       "      <td>1.084918e+06</td>\n",
       "      <td>1.073383e+03</td>\n",
       "    </tr>\n",
       "    <tr>\n",
       "      <th>std</th>\n",
       "      <td>3.631698e+06</td>\n",
       "      <td>6.056945e+06</td>\n",
       "      <td>4.650482e+06</td>\n",
       "      <td>3.996103e+04</td>\n",
       "    </tr>\n",
       "    <tr>\n",
       "      <th rowspan=\"2\" valign=\"top\">newbalanceDest</th>\n",
       "      <th>mean</th>\n",
       "      <td>1.689744e+06</td>\n",
       "      <td>3.582075e+06</td>\n",
       "      <td>2.549545e+06</td>\n",
       "      <td>3.981411e+03</td>\n",
       "    </tr>\n",
       "    <tr>\n",
       "      <th>std</th>\n",
       "      <td>3.659342e+06</td>\n",
       "      <td>7.409534e+06</td>\n",
       "      <td>5.220285e+06</td>\n",
       "      <td>7.920767e+04</td>\n",
       "    </tr>\n",
       "  </tbody>\n",
       "</table>\n",
       "</div>"
      ],
      "text/plain": [
       "isFraud                         0                           1              \n",
       "type                     CASH_OUT      TRANSFER      CASH_OUT      TRANSFER\n",
       "amount         mean  1.739172e+05  9.062290e+05  1.455103e+06  1.480892e+06\n",
       "               std   1.312222e+05  1.874155e+06  2.393842e+06  2.414890e+06\n",
       "oldbalanceOrg  mean  4.342923e+04  4.055876e+04  1.453869e+06  1.846374e+06\n",
       "               std   1.338802e+05  1.406186e+05  2.394506e+06  4.404157e+06\n",
       "newbalanceOrig mean  1.750626e+04  7.380372e+03  7.258688e+01  3.856046e+05\n",
       "               std   1.092919e+05  9.402846e+04  4.656888e+03  2.769842e+06\n",
       "oldbalanceDest mean  1.498519e+06  2.587490e+06  1.084918e+06  1.073383e+03\n",
       "               std   3.631698e+06  6.056945e+06  4.650482e+06  3.996103e+04\n",
       "newbalanceDest mean  1.689744e+06  3.582075e+06  2.549545e+06  3.981411e+03\n",
       "               std   3.659342e+06  7.409534e+06  5.220285e+06  7.920767e+04"
      ]
     },
     "execution_count": 26,
     "metadata": {},
     "output_type": "execute_result"
    }
   ],
   "source": [
    "#without log transformation \n",
    "fraud_detection_ft.drop(columns='step').groupby(['isFraud','type']).agg(['mean','std']).T"
   ]
  },
  {
   "cell_type": "markdown",
   "metadata": {},
   "source": [
    "From the above table, it looks like there are distinct differences between the means of the numeric columns for both type and isFraud for all numerical values. However, the high standard deviations make these differences suspect in terms of statistical significance.\n",
    "\n",
    "Let's look at the picture with the log transformation."
   ]
  },
  {
   "cell_type": "code",
   "execution_count": 31,
   "metadata": {},
   "outputs": [],
   "source": [
    "#classify amount as zero or non-zero\n",
    "def is_zero(x):\n",
    "    if x == 0:\n",
    "        return('zero')\n",
    "    else:\n",
    "        return('non-zero')\n",
    "\n",
    "zero_labels = fraud_detection_ft[['amount','oldbalanceOrg','newbalanceOrig','oldbalanceDest','newbalanceDest']].applymap(is_zero)"
   ]
  },
  {
   "cell_type": "code",
   "execution_count": 32,
   "metadata": {},
   "outputs": [
    {
     "data": {
      "text/html": [
       "<div>\n",
       "<style scoped>\n",
       "    .dataframe tbody tr th:only-of-type {\n",
       "        vertical-align: middle;\n",
       "    }\n",
       "\n",
       "    .dataframe tbody tr th {\n",
       "        vertical-align: top;\n",
       "    }\n",
       "\n",
       "    .dataframe thead th {\n",
       "        text-align: right;\n",
       "    }\n",
       "</style>\n",
       "<table border=\"1\" class=\"dataframe\">\n",
       "  <thead>\n",
       "    <tr style=\"text-align: right;\">\n",
       "      <th></th>\n",
       "      <th>amount</th>\n",
       "      <th>oldbalanceOrg</th>\n",
       "      <th>newbalanceOrig</th>\n",
       "      <th>oldbalanceDest</th>\n",
       "      <th>newbalanceDest</th>\n",
       "    </tr>\n",
       "  </thead>\n",
       "  <tbody>\n",
       "    <tr>\n",
       "      <th>2</th>\n",
       "      <td>non-zero</td>\n",
       "      <td>non-zero</td>\n",
       "      <td>zero</td>\n",
       "      <td>zero</td>\n",
       "      <td>zero</td>\n",
       "    </tr>\n",
       "    <tr>\n",
       "      <th>3</th>\n",
       "      <td>non-zero</td>\n",
       "      <td>non-zero</td>\n",
       "      <td>zero</td>\n",
       "      <td>non-zero</td>\n",
       "      <td>zero</td>\n",
       "    </tr>\n",
       "    <tr>\n",
       "      <th>15</th>\n",
       "      <td>non-zero</td>\n",
       "      <td>non-zero</td>\n",
       "      <td>zero</td>\n",
       "      <td>non-zero</td>\n",
       "      <td>non-zero</td>\n",
       "    </tr>\n",
       "    <tr>\n",
       "      <th>19</th>\n",
       "      <td>non-zero</td>\n",
       "      <td>non-zero</td>\n",
       "      <td>zero</td>\n",
       "      <td>non-zero</td>\n",
       "      <td>zero</td>\n",
       "    </tr>\n",
       "    <tr>\n",
       "      <th>24</th>\n",
       "      <td>non-zero</td>\n",
       "      <td>non-zero</td>\n",
       "      <td>zero</td>\n",
       "      <td>non-zero</td>\n",
       "      <td>non-zero</td>\n",
       "    </tr>\n",
       "  </tbody>\n",
       "</table>\n",
       "</div>"
      ],
      "text/plain": [
       "      amount oldbalanceOrg newbalanceOrig oldbalanceDest newbalanceDest\n",
       "2   non-zero      non-zero           zero           zero           zero\n",
       "3   non-zero      non-zero           zero       non-zero           zero\n",
       "15  non-zero      non-zero           zero       non-zero       non-zero\n",
       "19  non-zero      non-zero           zero       non-zero           zero\n",
       "24  non-zero      non-zero           zero       non-zero       non-zero"
      ]
     },
     "execution_count": 32,
     "metadata": {},
     "output_type": "execute_result"
    }
   ],
   "source": [
    "zero_labels.head()"
   ]
  },
  {
   "cell_type": "code",
   "execution_count": 34,
   "metadata": {},
   "outputs": [
    {
     "data": {
      "text/html": [
       "<div>\n",
       "<style scoped>\n",
       "    .dataframe tbody tr th:only-of-type {\n",
       "        vertical-align: middle;\n",
       "    }\n",
       "\n",
       "    .dataframe tbody tr th {\n",
       "        vertical-align: top;\n",
       "    }\n",
       "\n",
       "    .dataframe thead th {\n",
       "        text-align: right;\n",
       "    }\n",
       "</style>\n",
       "<table border=\"1\" class=\"dataframe\">\n",
       "  <thead>\n",
       "    <tr style=\"text-align: right;\">\n",
       "      <th></th>\n",
       "      <th>isFraud</th>\n",
       "      <th>type</th>\n",
       "      <th>amount</th>\n",
       "      <th>oldbalanceOrg</th>\n",
       "      <th>newbalanceOrig</th>\n",
       "      <th>oldbalanceDest</th>\n",
       "      <th>newbalanceDest</th>\n",
       "    </tr>\n",
       "  </thead>\n",
       "  <tbody>\n",
       "    <tr>\n",
       "      <th>2</th>\n",
       "      <td>1</td>\n",
       "      <td>TRANSFER</td>\n",
       "      <td>non-zero</td>\n",
       "      <td>non-zero</td>\n",
       "      <td>zero</td>\n",
       "      <td>zero</td>\n",
       "      <td>zero</td>\n",
       "    </tr>\n",
       "    <tr>\n",
       "      <th>3</th>\n",
       "      <td>1</td>\n",
       "      <td>CASH_OUT</td>\n",
       "      <td>non-zero</td>\n",
       "      <td>non-zero</td>\n",
       "      <td>zero</td>\n",
       "      <td>non-zero</td>\n",
       "      <td>zero</td>\n",
       "    </tr>\n",
       "    <tr>\n",
       "      <th>15</th>\n",
       "      <td>0</td>\n",
       "      <td>CASH_OUT</td>\n",
       "      <td>non-zero</td>\n",
       "      <td>non-zero</td>\n",
       "      <td>zero</td>\n",
       "      <td>non-zero</td>\n",
       "      <td>non-zero</td>\n",
       "    </tr>\n",
       "    <tr>\n",
       "      <th>19</th>\n",
       "      <td>0</td>\n",
       "      <td>TRANSFER</td>\n",
       "      <td>non-zero</td>\n",
       "      <td>non-zero</td>\n",
       "      <td>zero</td>\n",
       "      <td>non-zero</td>\n",
       "      <td>zero</td>\n",
       "    </tr>\n",
       "    <tr>\n",
       "      <th>24</th>\n",
       "      <td>0</td>\n",
       "      <td>TRANSFER</td>\n",
       "      <td>non-zero</td>\n",
       "      <td>non-zero</td>\n",
       "      <td>zero</td>\n",
       "      <td>non-zero</td>\n",
       "      <td>non-zero</td>\n",
       "    </tr>\n",
       "  </tbody>\n",
       "</table>\n",
       "</div>"
      ],
      "text/plain": [
       "    isFraud      type    amount oldbalanceOrg newbalanceOrig oldbalanceDest  \\\n",
       "2         1  TRANSFER  non-zero      non-zero           zero           zero   \n",
       "3         1  CASH_OUT  non-zero      non-zero           zero       non-zero   \n",
       "15        0  CASH_OUT  non-zero      non-zero           zero       non-zero   \n",
       "19        0  TRANSFER  non-zero      non-zero           zero       non-zero   \n",
       "24        0  TRANSFER  non-zero      non-zero           zero       non-zero   \n",
       "\n",
       "   newbalanceDest  \n",
       "2            zero  \n",
       "3            zero  \n",
       "15       non-zero  \n",
       "19           zero  \n",
       "24       non-zero  "
      ]
     },
     "execution_count": 34,
     "metadata": {},
     "output_type": "execute_result"
    }
   ],
   "source": [
    "#combine with type and fraud labels\n",
    "zero_df = pd.merge(fraud_detection_ft[['isFraud','type']],zero_labels,how='inner',left_index=True,right_index=True)\n",
    "zero_df.head()"
   ]
  },
  {
   "cell_type": "code",
   "execution_count": 35,
   "metadata": {},
   "outputs": [
    {
     "data": {
      "text/plain": [
       "isFraud  type      amount  \n",
       "0        CASH_OUT  non-zero    2233384\n",
       "         TRANSFER  non-zero     528812\n",
       "1        CASH_OUT  non-zero       4100\n",
       "         TRANSFER  non-zero       4097\n",
       "         CASH_OUT  zero             16\n",
       "dtype: int64"
      ]
     },
     "execution_count": 35,
     "metadata": {},
     "output_type": "execute_result"
    }
   ],
   "source": [
    "#look at counts of zero/non-zero transactions by fraud and transaction types\n",
    "zero_df[['isFraud','type','amount']].value_counts()"
   ]
  },
  {
   "cell_type": "code",
   "execution_count": 48,
   "metadata": {},
   "outputs": [
    {
     "data": {
      "text/plain": [
       "isFraud  type      amount    oldbalanceOrg  newbalanceOrig  oldbalanceDest  newbalanceDest\n",
       "0        CASH_OUT  non-zero  zero           zero            non-zero        non-zero          1021645\n",
       "                             non-zero       zero            non-zero        non-zero           686922\n",
       "         TRANSFER  non-zero  zero           zero            non-zero        non-zero           282272\n",
       "         CASH_OUT  non-zero  non-zero       zero            zero            non-zero           262248\n",
       "                                            non-zero        non-zero        non-zero           192087\n",
       "         TRANSFER  non-zero  non-zero       zero            non-zero        non-zero           167477\n",
       "         CASH_OUT  non-zero  non-zero       non-zero        zero            non-zero            58003\n",
       "         TRANSFER  non-zero  non-zero       zero            zero            non-zero            56582\n",
       "                                            non-zero        non-zero        non-zero            17022\n",
       "         CASH_OUT  non-zero  non-zero       zero            non-zero        zero                 5018\n",
       "         TRANSFER  non-zero  non-zero       non-zero        zero            non-zero             4140\n",
       "         CASH_OUT  non-zero  zero           zero            non-zero        zero                 3021\n",
       "                             non-zero       non-zero        non-zero        zero                 1763\n",
       "                                            zero            zero            zero                 1146\n",
       "                             zero           zero            zero            non-zero             1077\n",
       "         TRANSFER  non-zero  non-zero       zero            non-zero        zero                  582\n",
       "         CASH_OUT  non-zero  non-zero       non-zero        zero            zero                  435\n",
       "         TRANSFER  non-zero  zero           zero            non-zero        zero                  289\n",
       "                                                            zero            non-zero              213\n",
       "                             non-zero       non-zero        non-zero        zero                  129\n",
       "                                            zero            zero            zero                   87\n",
       "         CASH_OUT  non-zero  zero           zero            zero            zero                   19\n",
       "         TRANSFER  non-zero  non-zero       non-zero        zero            zero                   14\n",
       "                             zero           zero            zero            zero                    5\n",
       "dtype: int64"
      ]
     },
     "execution_count": 48,
     "metadata": {},
     "output_type": "execute_result"
    }
   ],
   "source": [
    "#examine counts of zero/non-zero transactions by all numerical variables for legitimate transactions\n",
    "zero_df[zero_df.isFraud == 0].value_counts()"
   ]
  },
  {
   "cell_type": "code",
   "execution_count": 49,
   "metadata": {},
   "outputs": [
    {
     "data": {
      "text/plain": [
       "isFraud  type      amount    oldbalanceOrg  newbalanceOrig  oldbalanceDest  newbalanceDest\n",
       "1        TRANSFER  non-zero  non-zero       zero            zero            zero              3910\n",
       "         CASH_OUT  non-zero  non-zero       zero            non-zero        non-zero          2819\n",
       "                                                            zero            non-zero          1242\n",
       "         TRANSFER  non-zero  non-zero       non-zero        zero            zero               158\n",
       "                                            zero            zero            non-zero            23\n",
       "         CASH_OUT  non-zero  non-zero       zero            non-zero        zero                15\n",
       "                             zero           zero            non-zero        non-zero            12\n",
       "                   zero      zero           zero            non-zero        non-zero            10\n",
       "                   non-zero  zero           zero            zero            non-zero             9\n",
       "                   zero      zero           zero            zero            zero                 6\n",
       "         TRANSFER  non-zero  zero           zero            non-zero        non-zero             3\n",
       "         CASH_OUT  non-zero  non-zero       zero            zero            zero                 2\n",
       "         TRANSFER  non-zero  zero           zero            zero            non-zero             1\n",
       "                             non-zero       zero            non-zero        non-zero             1\n",
       "                                            non-zero        non-zero        non-zero             1\n",
       "         CASH_OUT  non-zero  non-zero       non-zero        non-zero        non-zero             1\n",
       "dtype: int64"
      ]
     },
     "execution_count": 49,
     "metadata": {},
     "output_type": "execute_result"
    }
   ],
   "source": [
    "#examine counts of zero/non-zero transactions by all numerical variables for fraudulent transactions\n",
    "zero_df[zero_df.isFraud == 1].value_counts()"
   ]
  },
  {
   "cell_type": "markdown",
   "metadata": {},
   "source": [
    "The above tables show that almost all fraudulent transactions empty the originator's account (oldblanceOrg is non-zero and newbalanceOrig is zero). The destination balances seem less correlated with fraud (but this is also because the destination balances are not updated for each transaction, but rather with only each step (see Data Wrangling notebook)).\n",
    "Let's drop the Dest balances for a clearer look:"
   ]
  },
  {
   "cell_type": "code",
   "execution_count": 51,
   "metadata": {},
   "outputs": [
    {
     "data": {
      "text/plain": [
       "isFraud  amount    oldbalanceOrg  newbalanceOrig\n",
       "1        non-zero  non-zero       zero              8012\n",
       "                                  non-zero           160\n",
       "                   zero           zero                25\n",
       "         zero      zero           zero                16\n",
       "dtype: int64"
      ]
     },
     "execution_count": 51,
     "metadata": {},
     "output_type": "execute_result"
    }
   ],
   "source": [
    "#drop Dest balances\n",
    "zero_df.drop(columns=['oldbalanceDest','newbalanceDest','type'])[zero_df.isFraud == 1].value_counts()"
   ]
  },
  {
   "cell_type": "code",
   "execution_count": 52,
   "metadata": {},
   "outputs": [
    {
     "data": {
      "text/plain": [
       "isFraud  amount    oldbalanceOrg  newbalanceOrig\n",
       "0        non-zero  zero           zero              1308541\n",
       "                   non-zero       zero              1180062\n",
       "                                  non-zero           273593\n",
       "dtype: int64"
      ]
     },
     "execution_count": 52,
     "metadata": {},
     "output_type": "execute_result"
    }
   ],
   "source": [
    "#drop Dest balances\n",
    "zero_df.drop(columns=['oldbalanceDest','newbalanceDest','type'])[zero_df.isFraud == 0].value_counts()"
   ]
  },
  {
   "cell_type": "markdown",
   "metadata": {},
   "source": [
    "Effectively all fraudulent transactions drain the originator's account starting from a non-zero amount 8012/80213 = ~ 98% of the time. \n",
    "\n",
    "For the legitimate transactions, this occurs 1180062 / 2762196 = ~43% of the time.\n",
    "\n",
    "How statistically significant is this result? Let's find out"
   ]
  },
  {
   "cell_type": "code",
   "execution_count": 37,
   "metadata": {},
   "outputs": [],
   "source": [
    "#first, create indicator for non-zero amount, non-zero oldbalanceOrg, and zero newbalanceOrg\n",
    "def balance_amount_classifier(amount,oldbalance,newbalance):\n",
    "    if (amount == 'non-zero') & (oldbalance == 'non-zero') & (newbalance == 'zero'):\n",
    "        return(1)\n",
    "    else:\n",
    "        return(0)"
   ]
  },
  {
   "cell_type": "code",
   "execution_count": 38,
   "metadata": {},
   "outputs": [],
   "source": [
    "zero_df['drain_Orig_account'] = np.vectorize(balance_amount_classifier)(zero_df.amount,zero_df.oldbalanceOrg, zero_df.newbalanceOrig)"
   ]
  },
  {
   "cell_type": "code",
   "execution_count": 39,
   "metadata": {},
   "outputs": [
    {
     "data": {
      "text/html": [
       "<div>\n",
       "<style scoped>\n",
       "    .dataframe tbody tr th:only-of-type {\n",
       "        vertical-align: middle;\n",
       "    }\n",
       "\n",
       "    .dataframe tbody tr th {\n",
       "        vertical-align: top;\n",
       "    }\n",
       "\n",
       "    .dataframe thead th {\n",
       "        text-align: right;\n",
       "    }\n",
       "</style>\n",
       "<table border=\"1\" class=\"dataframe\">\n",
       "  <thead>\n",
       "    <tr style=\"text-align: right;\">\n",
       "      <th></th>\n",
       "      <th>isFraud</th>\n",
       "      <th>type</th>\n",
       "      <th>amount</th>\n",
       "      <th>oldbalanceOrg</th>\n",
       "      <th>newbalanceOrig</th>\n",
       "      <th>oldbalanceDest</th>\n",
       "      <th>newbalanceDest</th>\n",
       "      <th>drain_Orig_account</th>\n",
       "    </tr>\n",
       "  </thead>\n",
       "  <tbody>\n",
       "    <tr>\n",
       "      <th>2</th>\n",
       "      <td>1</td>\n",
       "      <td>TRANSFER</td>\n",
       "      <td>non-zero</td>\n",
       "      <td>non-zero</td>\n",
       "      <td>zero</td>\n",
       "      <td>zero</td>\n",
       "      <td>zero</td>\n",
       "      <td>1</td>\n",
       "    </tr>\n",
       "    <tr>\n",
       "      <th>3</th>\n",
       "      <td>1</td>\n",
       "      <td>CASH_OUT</td>\n",
       "      <td>non-zero</td>\n",
       "      <td>non-zero</td>\n",
       "      <td>zero</td>\n",
       "      <td>non-zero</td>\n",
       "      <td>zero</td>\n",
       "      <td>1</td>\n",
       "    </tr>\n",
       "    <tr>\n",
       "      <th>15</th>\n",
       "      <td>0</td>\n",
       "      <td>CASH_OUT</td>\n",
       "      <td>non-zero</td>\n",
       "      <td>non-zero</td>\n",
       "      <td>zero</td>\n",
       "      <td>non-zero</td>\n",
       "      <td>non-zero</td>\n",
       "      <td>1</td>\n",
       "    </tr>\n",
       "    <tr>\n",
       "      <th>19</th>\n",
       "      <td>0</td>\n",
       "      <td>TRANSFER</td>\n",
       "      <td>non-zero</td>\n",
       "      <td>non-zero</td>\n",
       "      <td>zero</td>\n",
       "      <td>non-zero</td>\n",
       "      <td>zero</td>\n",
       "      <td>1</td>\n",
       "    </tr>\n",
       "    <tr>\n",
       "      <th>24</th>\n",
       "      <td>0</td>\n",
       "      <td>TRANSFER</td>\n",
       "      <td>non-zero</td>\n",
       "      <td>non-zero</td>\n",
       "      <td>zero</td>\n",
       "      <td>non-zero</td>\n",
       "      <td>non-zero</td>\n",
       "      <td>1</td>\n",
       "    </tr>\n",
       "  </tbody>\n",
       "</table>\n",
       "</div>"
      ],
      "text/plain": [
       "    isFraud      type    amount oldbalanceOrg newbalanceOrig oldbalanceDest  \\\n",
       "2         1  TRANSFER  non-zero      non-zero           zero           zero   \n",
       "3         1  CASH_OUT  non-zero      non-zero           zero       non-zero   \n",
       "15        0  CASH_OUT  non-zero      non-zero           zero       non-zero   \n",
       "19        0  TRANSFER  non-zero      non-zero           zero       non-zero   \n",
       "24        0  TRANSFER  non-zero      non-zero           zero       non-zero   \n",
       "\n",
       "   newbalanceDest  drain_Orig_account  \n",
       "2            zero                   1  \n",
       "3            zero                   1  \n",
       "15       non-zero                   1  \n",
       "19           zero                   1  \n",
       "24       non-zero                   1  "
      ]
     },
     "execution_count": 39,
     "metadata": {},
     "output_type": "execute_result"
    }
   ],
   "source": [
    "zero_df.head()"
   ]
  },
  {
   "cell_type": "code",
   "execution_count": 94,
   "metadata": {},
   "outputs": [
    {
     "data": {
      "text/plain": [
       "isFraud\n",
       "0    0.427219\n",
       "1    0.975527\n",
       "Name: drain_Orig_account, dtype: float64"
      ]
     },
     "execution_count": 94,
     "metadata": {},
     "output_type": "execute_result"
    }
   ],
   "source": [
    "zero_df.groupby('isFraud')['drain_Orig_account'].mean()"
   ]
  },
  {
   "cell_type": "code",
   "execution_count": 95,
   "metadata": {},
   "outputs": [
    {
     "data": {
      "text/plain": [
       "0.54830782606149"
      ]
     },
     "execution_count": 95,
     "metadata": {},
     "output_type": "execute_result"
    }
   ],
   "source": [
    "obs_diff = zero_df[zero_df.isFraud == 1]['drain_Orig_account'].mean() - zero_df[zero_df.isFraud == 0]['drain_Orig_account'].mean()\n",
    "obs_diff"
   ]
  },
  {
   "cell_type": "code",
   "execution_count": 84,
   "metadata": {},
   "outputs": [],
   "source": [
    "#Permute the balance classified label and calculate means\n",
    "#takes a long time...\n",
    "difference = []\n",
    "for i in range(100):\n",
    "    zero_df['Permutation1'] = np.random.permutation(zero_df.balance_classified)\n",
    "    diff_mean = zero_df[zero_df.isFraud == 1]['Permutation1'].mean() - zero_df[zero_df.isFraud == 0]['Permutation1'].mean()\n",
    "    difference.append(diff_mean)"
   ]
  },
  {
   "cell_type": "code",
   "execution_count": 86,
   "metadata": {},
   "outputs": [
    {
     "data": {
      "text/plain": [
       "(array([ 5.,  5., 11., 17., 20., 16., 11.,  7.,  5.,  3.]),\n",
       " array([-0.01222398, -0.00947627, -0.00672857, -0.00398086, -0.00123316,\n",
       "         0.00151455,  0.00426225,  0.00700996,  0.00975766,  0.01250537,\n",
       "         0.01525307]),\n",
       " <BarContainer object of 10 artists>)"
      ]
     },
     "execution_count": 86,
     "metadata": {},
     "output_type": "execute_result"
    },
    {
     "data": {
      "image/png": "[encoded data removed]",
      "text/plain": [
       "<Figure size 432x288 with 1 Axes>"
      ]
     },
     "metadata": {
      "needs_background": "light"
     },
     "output_type": "display_data"
    }
   ],
   "source": [
    "plt.hist(difference)"
   ]
  },
  {
   "cell_type": "code",
   "execution_count": 87,
   "metadata": {},
   "outputs": [
    {
     "data": {
      "text/plain": [
       "0.0"
      ]
     },
     "execution_count": 87,
     "metadata": {},
     "output_type": "execute_result"
    }
   ],
   "source": [
    "sum([d >= obs_diff for d in difference])/len(difference)"
   ]
  },
  {
   "cell_type": "markdown",
   "metadata": {},
   "source": [
    "That the mean of fraudulent transactions that completely drain the originator's account of 98% is significantly (and practically) different from the average of 43% of legitimate transactions. \n",
    "\n",
    "From our 100 permutations, no differences was as extreme as the observed difference. In fact, the observed difference is about 36 times greater than even the most extreme simulated difference from the permuations. "
   ]
  },
  {
   "cell_type": "markdown",
   "metadata": {},
   "source": [
    "# Analysis for Transactor Type (Customer or Merchant)\n",
    "\n",
    "A transactor (either sender or recipient) can be either a customer or a merchant. This is gleaned from the first letter in the strings for the nameOrig and nameDest columns. Strings starting with a \"C\" denote customers whereas strings starting with a \"M\" denote merchants.\n",
    "\n",
    "Are either type of originator or recipient more likley to be involved in fraud?"
   ]
  },
  {
   "cell_type": "code",
   "execution_count": 102,
   "metadata": {},
   "outputs": [],
   "source": [
    "#regex package\n",
    "import re"
   ]
  },
  {
   "cell_type": "code",
   "execution_count": 109,
   "metadata": {},
   "outputs": [],
   "source": [
    "#define function to classify\n",
    "def transactor_type(name):\n",
    "    if re.match('C',name):\n",
    "        return('Customer')\n",
    "    else:\n",
    "        return('Merchant')"
   ]
  },
  {
   "cell_type": "code",
   "execution_count": 112,
   "metadata": {},
   "outputs": [
    {
     "data": {
      "text/html": [
       "<div>\n",
       "<style scoped>\n",
       "    .dataframe tbody tr th:only-of-type {\n",
       "        vertical-align: middle;\n",
       "    }\n",
       "\n",
       "    .dataframe tbody tr th {\n",
       "        vertical-align: top;\n",
       "    }\n",
       "\n",
       "    .dataframe thead th {\n",
       "        text-align: right;\n",
       "    }\n",
       "</style>\n",
       "<table border=\"1\" class=\"dataframe\">\n",
       "  <thead>\n",
       "    <tr style=\"text-align: right;\">\n",
       "      <th></th>\n",
       "      <th>isFraud</th>\n",
       "      <th>type</th>\n",
       "      <th>nameOrig</th>\n",
       "      <th>nameDest</th>\n",
       "    </tr>\n",
       "  </thead>\n",
       "  <tbody>\n",
       "    <tr>\n",
       "      <th>0</th>\n",
       "      <td>0</td>\n",
       "      <td>PAYMENT</td>\n",
       "      <td>C1231006815</td>\n",
       "      <td>M1979787155</td>\n",
       "    </tr>\n",
       "    <tr>\n",
       "      <th>1</th>\n",
       "      <td>0</td>\n",
       "      <td>PAYMENT</td>\n",
       "      <td>C1666544295</td>\n",
       "      <td>M2044282225</td>\n",
       "    </tr>\n",
       "    <tr>\n",
       "      <th>2</th>\n",
       "      <td>1</td>\n",
       "      <td>TRANSFER</td>\n",
       "      <td>C1305486145</td>\n",
       "      <td>C553264065</td>\n",
       "    </tr>\n",
       "    <tr>\n",
       "      <th>3</th>\n",
       "      <td>1</td>\n",
       "      <td>CASH_OUT</td>\n",
       "      <td>C840083671</td>\n",
       "      <td>C38997010</td>\n",
       "    </tr>\n",
       "    <tr>\n",
       "      <th>4</th>\n",
       "      <td>0</td>\n",
       "      <td>PAYMENT</td>\n",
       "      <td>C2048537720</td>\n",
       "      <td>M1230701703</td>\n",
       "    </tr>\n",
       "  </tbody>\n",
       "</table>\n",
       "</div>"
      ],
      "text/plain": [
       "   isFraud      type     nameOrig     nameDest\n",
       "0        0   PAYMENT  C1231006815  M1979787155\n",
       "1        0   PAYMENT  C1666544295  M2044282225\n",
       "2        1  TRANSFER  C1305486145   C553264065\n",
       "3        1  CASH_OUT   C840083671    C38997010\n",
       "4        0   PAYMENT  C2048537720  M1230701703"
      ]
     },
     "execution_count": 112,
     "metadata": {},
     "output_type": "execute_result"
    }
   ],
   "source": [
    "fraud_detection_transactor_type = fraud_detection[['isFraud','type','nameOrig','nameDest']]\n",
    "fraud_detection_transactor_type.head()"
   ]
  },
  {
   "cell_type": "code",
   "execution_count": 114,
   "metadata": {},
   "outputs": [
    {
     "name": "stderr",
     "output_type": "stream",
     "text": [
      "<ipython-input-114-1eb94a8fa362>:1: SettingWithCopyWarning: \n",
      "A value is trying to be set on a copy of a slice from a DataFrame.\n",
      "Try using .loc[row_indexer,col_indexer] = value instead\n",
      "\n",
      "See the caveats in the documentation: https://pandas.pydata.org/pandas-docs/stable/user_guide/indexing.html#returning-a-view-versus-a-copy\n",
      "  fraud_detection_transactor_type['orig_type'] = fraud_detection_transactor_type['nameOrig'].apply(transactor_type)\n",
      "<ipython-input-114-1eb94a8fa362>:2: SettingWithCopyWarning: \n",
      "A value is trying to be set on a copy of a slice from a DataFrame.\n",
      "Try using .loc[row_indexer,col_indexer] = value instead\n",
      "\n",
      "See the caveats in the documentation: https://pandas.pydata.org/pandas-docs/stable/user_guide/indexing.html#returning-a-view-versus-a-copy\n",
      "  fraud_detection_transactor_type['dest_type'] = fraud_detection_transactor_type['nameDest'].apply(transactor_type)\n"
     ]
    }
   ],
   "source": [
    "fraud_detection_transactor_type['orig_type'] = fraud_detection_transactor_type['nameOrig'].apply(transactor_type)\n",
    "fraud_detection_transactor_type['dest_type'] = fraud_detection_transactor_type['nameDest'].apply(transactor_type)"
   ]
  },
  {
   "cell_type": "code",
   "execution_count": 116,
   "metadata": {},
   "outputs": [
    {
     "data": {
      "text/html": [
       "<div>\n",
       "<style scoped>\n",
       "    .dataframe tbody tr th:only-of-type {\n",
       "        vertical-align: middle;\n",
       "    }\n",
       "\n",
       "    .dataframe tbody tr th {\n",
       "        vertical-align: top;\n",
       "    }\n",
       "\n",
       "    .dataframe thead th {\n",
       "        text-align: right;\n",
       "    }\n",
       "</style>\n",
       "<table border=\"1\" class=\"dataframe\">\n",
       "  <thead>\n",
       "    <tr style=\"text-align: right;\">\n",
       "      <th></th>\n",
       "      <th>isFraud</th>\n",
       "      <th>type</th>\n",
       "      <th>nameOrig</th>\n",
       "      <th>nameDest</th>\n",
       "      <th>orig_type</th>\n",
       "      <th>dest_type</th>\n",
       "    </tr>\n",
       "  </thead>\n",
       "  <tbody>\n",
       "    <tr>\n",
       "      <th>0</th>\n",
       "      <td>0</td>\n",
       "      <td>PAYMENT</td>\n",
       "      <td>C1231006815</td>\n",
       "      <td>M1979787155</td>\n",
       "      <td>Customer</td>\n",
       "      <td>Merchant</td>\n",
       "    </tr>\n",
       "    <tr>\n",
       "      <th>1</th>\n",
       "      <td>0</td>\n",
       "      <td>PAYMENT</td>\n",
       "      <td>C1666544295</td>\n",
       "      <td>M2044282225</td>\n",
       "      <td>Customer</td>\n",
       "      <td>Merchant</td>\n",
       "    </tr>\n",
       "    <tr>\n",
       "      <th>2</th>\n",
       "      <td>1</td>\n",
       "      <td>TRANSFER</td>\n",
       "      <td>C1305486145</td>\n",
       "      <td>C553264065</td>\n",
       "      <td>Customer</td>\n",
       "      <td>Customer</td>\n",
       "    </tr>\n",
       "    <tr>\n",
       "      <th>3</th>\n",
       "      <td>1</td>\n",
       "      <td>CASH_OUT</td>\n",
       "      <td>C840083671</td>\n",
       "      <td>C38997010</td>\n",
       "      <td>Customer</td>\n",
       "      <td>Customer</td>\n",
       "    </tr>\n",
       "    <tr>\n",
       "      <th>4</th>\n",
       "      <td>0</td>\n",
       "      <td>PAYMENT</td>\n",
       "      <td>C2048537720</td>\n",
       "      <td>M1230701703</td>\n",
       "      <td>Customer</td>\n",
       "      <td>Merchant</td>\n",
       "    </tr>\n",
       "  </tbody>\n",
       "</table>\n",
       "</div>"
      ],
      "text/plain": [
       "   isFraud      type     nameOrig     nameDest orig_type dest_type\n",
       "0        0   PAYMENT  C1231006815  M1979787155  Customer  Merchant\n",
       "1        0   PAYMENT  C1666544295  M2044282225  Customer  Merchant\n",
       "2        1  TRANSFER  C1305486145   C553264065  Customer  Customer\n",
       "3        1  CASH_OUT   C840083671    C38997010  Customer  Customer\n",
       "4        0   PAYMENT  C2048537720  M1230701703  Customer  Merchant"
      ]
     },
     "execution_count": 116,
     "metadata": {},
     "output_type": "execute_result"
    }
   ],
   "source": [
    "fraud_detection_transactor_type.head()"
   ]
  },
  {
   "cell_type": "code",
   "execution_count": 122,
   "metadata": {},
   "outputs": [],
   "source": [
    "fraud_detection_transactor_type.drop(columns=['nameOrig','nameDest'],inplace=True)"
   ]
  },
  {
   "cell_type": "code",
   "execution_count": 123,
   "metadata": {},
   "outputs": [
    {
     "data": {
      "text/plain": [
       "isFraud  type      orig_type  dest_type\n",
       "0        CASH_OUT  Customer   Customer     2233384\n",
       "         PAYMENT   Customer   Merchant     2151495\n",
       "         CASH_IN   Customer   Customer     1399284\n",
       "         TRANSFER  Customer   Customer      528812\n",
       "         DEBIT     Customer   Customer       41432\n",
       "1        CASH_OUT  Customer   Customer        4116\n",
       "         TRANSFER  Customer   Customer        4097\n",
       "dtype: int64"
      ]
     },
     "execution_count": 123,
     "metadata": {},
     "output_type": "execute_result"
    }
   ],
   "source": [
    "fraud_detection_transactor_type.value_counts()"
   ]
  },
  {
   "cell_type": "markdown",
   "metadata": {},
   "source": [
    "Our analysis shows that fraud occurs only between two customers and never involve a merchant. Therefore, we can drop all records where a merchant is involved. We already do this implicitly by excluding transaction type of PAYMENT (the only type of transaction that a merchant is ever part of) since only CASH_OUT and TRANSFER are involved in fraudulent transactions anyway.\n",
    "\n",
    "So, it looks like the nameOrig and nameDest columns are not useful for detecting fraud in this data set. We already established that there are very few \"repeat\" customers in the data set, so no social network analysis or history can really be taken into account."
   ]
  },
  {
   "cell_type": "markdown",
   "metadata": {},
   "source": [
    "# Final feature set\n",
    "\n",
    "From the analysis we did above, the final set of features can be limited to the transaction type, transaction amount, and the feature engineered field \"drain_Orig_account\" which is 1 for transactions leaving newbalanceOrig as zero with a non-zero oldbalanceOrg and 0 otherwise.\n",
    "\n",
    "From our previous data wrangling notebook, we saw that step (i.e., hour) also could be used to predict fraud since fraudulent transactions followed a roughly uniform distribution with step whereas the same was not true of legitimate transaction which dropped off sharply at around 60% through the steps."
   ]
  },
  {
   "cell_type": "code",
   "execution_count": 42,
   "metadata": {},
   "outputs": [
    {
     "data": {
      "text/html": [
       "<div>\n",
       "<style scoped>\n",
       "    .dataframe tbody tr th:only-of-type {\n",
       "        vertical-align: middle;\n",
       "    }\n",
       "\n",
       "    .dataframe tbody tr th {\n",
       "        vertical-align: top;\n",
       "    }\n",
       "\n",
       "    .dataframe thead th {\n",
       "        text-align: right;\n",
       "    }\n",
       "</style>\n",
       "<table border=\"1\" class=\"dataframe\">\n",
       "  <thead>\n",
       "    <tr style=\"text-align: right;\">\n",
       "      <th></th>\n",
       "      <th>step</th>\n",
       "      <th>type</th>\n",
       "      <th>amount</th>\n",
       "      <th>isFraud</th>\n",
       "      <th>drain_Orig_account</th>\n",
       "    </tr>\n",
       "  </thead>\n",
       "  <tbody>\n",
       "    <tr>\n",
       "      <th>2</th>\n",
       "      <td>1</td>\n",
       "      <td>TRANSFER</td>\n",
       "      <td>181.00</td>\n",
       "      <td>1</td>\n",
       "      <td>1</td>\n",
       "    </tr>\n",
       "    <tr>\n",
       "      <th>3</th>\n",
       "      <td>1</td>\n",
       "      <td>CASH_OUT</td>\n",
       "      <td>181.00</td>\n",
       "      <td>1</td>\n",
       "      <td>1</td>\n",
       "    </tr>\n",
       "    <tr>\n",
       "      <th>15</th>\n",
       "      <td>1</td>\n",
       "      <td>CASH_OUT</td>\n",
       "      <td>229133.94</td>\n",
       "      <td>0</td>\n",
       "      <td>1</td>\n",
       "    </tr>\n",
       "    <tr>\n",
       "      <th>19</th>\n",
       "      <td>1</td>\n",
       "      <td>TRANSFER</td>\n",
       "      <td>215310.30</td>\n",
       "      <td>0</td>\n",
       "      <td>1</td>\n",
       "    </tr>\n",
       "    <tr>\n",
       "      <th>24</th>\n",
       "      <td>1</td>\n",
       "      <td>TRANSFER</td>\n",
       "      <td>311685.89</td>\n",
       "      <td>0</td>\n",
       "      <td>1</td>\n",
       "    </tr>\n",
       "  </tbody>\n",
       "</table>\n",
       "</div>"
      ],
      "text/plain": [
       "    step      type     amount  isFraud  drain_Orig_account\n",
       "2      1  TRANSFER     181.00        1                   1\n",
       "3      1  CASH_OUT     181.00        1                   1\n",
       "15     1  CASH_OUT  229133.94        0                   1\n",
       "19     1  TRANSFER  215310.30        0                   1\n",
       "24     1  TRANSFER  311685.89        0                   1"
      ]
     },
     "execution_count": 42,
     "metadata": {},
     "output_type": "execute_result"
    }
   ],
   "source": [
    "#prepare and print final data\n",
    "final_data = pd.merge(fraud_detection_ft[['step','type','amount','isFraud']],zero_df['drain_Orig_account'],left_index=True,right_index=True)\n",
    "final_data.head()"
   ]
  },
  {
   "cell_type": "code",
   "execution_count": 43,
   "metadata": {},
   "outputs": [],
   "source": [
    "#write final data file\n",
    "final_data.to_csv('../data/EDA_final_data.csv',index=False,index_label=False)"
   ]
  }
 ],
 "metadata": {
  "kernelspec": {
   "display_name": "Python 3",
   "language": "python",
   "name": "python3"
  },
  "language_info": {
   "codemirror_mode": {
    "name": "ipython",
    "version": 3
   },
   "file_extension": ".py",
   "mimetype": "text/x-python",
   "name": "python",
   "nbconvert_exporter": "python",
   "pygments_lexer": "ipython3",
   "version": "3.8.5"
  }
 },
 "nbformat": 4,
 "nbformat_minor": 4
}
