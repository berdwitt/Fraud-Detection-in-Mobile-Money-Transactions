{
 "cells": [
  {
   "cell_type": "markdown",
   "metadata": {},
   "source": [
    "# Modeling"
   ]
  },
  {
   "cell_type": "code",
   "execution_count": 253,
   "metadata": {},
   "outputs": [],
   "source": [
    "#import necessary packages\n",
    "import numpy as np\n",
    "import pandas as pd\n",
    "import matplotlib.pyplot as plt\n",
    "from sklearn.linear_model import LogisticRegression\n",
    "from sklearn.ensemble import RandomForestClassifier\n",
    "from sklearn.svm import SVC\n",
    "from sklearn.pipeline import make_pipeline\n",
    "from sklearn.model_selection import cross_validate, GridSearchCV\n",
    "from sklearn.metrics import confusion_matrix, ConfusionMatrixDisplay, roc_curve, auc, plot_roc_curve, accuracy_score\n",
    "from sklearn.metrics import log_loss,f1_score, matthews_corrcoef, classification_report, plot_precision_recall_curve\n",
    "from sklearn.model_selection import cross_val_score"
   ]
  },
  {
   "cell_type": "markdown",
   "metadata": {},
   "source": [
    "### Load Data"
   ]
  },
  {
   "cell_type": "code",
   "execution_count": 27,
   "metadata": {},
   "outputs": [],
   "source": [
    "X_train = pd.read_csv('../data/Training_Data_Features.csv')\n",
    "X_test = pd.read_csv('../data/Testing_Data_Features.csv')\n",
    "y_train = pd.read_csv('../data/Training_Data_Labels.csv')\n",
    "y_test = pd.read_csv('../data/Testing_Data_Labels.csv')"
   ]
  },
  {
   "cell_type": "code",
   "execution_count": 29,
   "metadata": {},
   "outputs": [
    {
     "data": {
      "text/plain": [
       "isFraud    int64\n",
       "dtype: object"
      ]
     },
     "execution_count": 29,
     "metadata": {},
     "output_type": "execute_result"
    }
   ],
   "source": [
    "#check data type for label\n",
    "y_train.dtypes"
   ]
  },
  {
   "cell_type": "code",
   "execution_count": 222,
   "metadata": {},
   "outputs": [
    {
     "data": {
      "text/html": [
       "<div>\n",
       "<style scoped>\n",
       "    .dataframe tbody tr th:only-of-type {\n",
       "        vertical-align: middle;\n",
       "    }\n",
       "\n",
       "    .dataframe tbody tr th {\n",
       "        vertical-align: top;\n",
       "    }\n",
       "\n",
       "    .dataframe thead th {\n",
       "        text-align: right;\n",
       "    }\n",
       "</style>\n",
       "<table border=\"1\" class=\"dataframe\">\n",
       "  <thead>\n",
       "    <tr style=\"text-align: right;\">\n",
       "      <th></th>\n",
       "      <th>step</th>\n",
       "      <th>type_CASH_OUT</th>\n",
       "      <th>type_TRANSFER</th>\n",
       "      <th>drain_Orig_account_No</th>\n",
       "      <th>drain_Orig_account_Yes</th>\n",
       "      <th>amount_scaled</th>\n",
       "    </tr>\n",
       "  </thead>\n",
       "  <tbody>\n",
       "    <tr>\n",
       "      <th>0</th>\n",
       "      <td>202</td>\n",
       "      <td>1</td>\n",
       "      <td>0</td>\n",
       "      <td>1</td>\n",
       "      <td>0</td>\n",
       "      <td>0.579142</td>\n",
       "    </tr>\n",
       "    <tr>\n",
       "      <th>1</th>\n",
       "      <td>169</td>\n",
       "      <td>1</td>\n",
       "      <td>0</td>\n",
       "      <td>0</td>\n",
       "      <td>1</td>\n",
       "      <td>-1.604630</td>\n",
       "    </tr>\n",
       "    <tr>\n",
       "      <th>2</th>\n",
       "      <td>215</td>\n",
       "      <td>1</td>\n",
       "      <td>0</td>\n",
       "      <td>0</td>\n",
       "      <td>1</td>\n",
       "      <td>0.615045</td>\n",
       "    </tr>\n",
       "    <tr>\n",
       "      <th>3</th>\n",
       "      <td>526</td>\n",
       "      <td>1</td>\n",
       "      <td>0</td>\n",
       "      <td>0</td>\n",
       "      <td>1</td>\n",
       "      <td>0.215005</td>\n",
       "    </tr>\n",
       "    <tr>\n",
       "      <th>4</th>\n",
       "      <td>630</td>\n",
       "      <td>0</td>\n",
       "      <td>1</td>\n",
       "      <td>0</td>\n",
       "      <td>1</td>\n",
       "      <td>-1.668755</td>\n",
       "    </tr>\n",
       "  </tbody>\n",
       "</table>\n",
       "</div>"
      ],
      "text/plain": [
       "   step  type_CASH_OUT  type_TRANSFER  drain_Orig_account_No  \\\n",
       "0   202              1              0                      1   \n",
       "1   169              1              0                      0   \n",
       "2   215              1              0                      0   \n",
       "3   526              1              0                      0   \n",
       "4   630              0              1                      0   \n",
       "\n",
       "   drain_Orig_account_Yes  amount_scaled  \n",
       "0                       0       0.579142  \n",
       "1                       1      -1.604630  \n",
       "2                       1       0.615045  \n",
       "3                       1       0.215005  \n",
       "4                       1      -1.668755  "
      ]
     },
     "execution_count": 222,
     "metadata": {},
     "output_type": "execute_result"
    }
   ],
   "source": [
    "X_train.head()"
   ]
  },
  {
   "cell_type": "code",
   "execution_count": 30,
   "metadata": {},
   "outputs": [],
   "source": [
    "#convert to series\n",
    "y_train = y_train.iloc[:,0]\n",
    "y_test = y_test.iloc[:,0]"
   ]
  },
  {
   "cell_type": "markdown",
   "metadata": {},
   "source": [
    "# Logisitc Regression\n",
    "\n",
    "As classifiers go, logistic regression is a well-known and simple place to start. The model is robust to feature correlation and provides a probabilistic interpretation to the classification results.\n",
    "\n",
    "Below, we'll set up a logistic regression classifier on the training data."
   ]
  },
  {
   "cell_type": "code",
   "execution_count": 63,
   "metadata": {},
   "outputs": [
    {
     "data": {
      "text/plain": [
       "LogisticRegression(random_state=42)"
      ]
     },
     "execution_count": 63,
     "metadata": {},
     "output_type": "execute_result"
    }
   ],
   "source": [
    "log_mod = LogisticRegression(random_state=42)\n",
    "log_mod.fit(X_train,y_train)"
   ]
  },
  {
   "cell_type": "markdown",
   "metadata": {},
   "source": [
    "Let's see how well the model does (note we did no hyperparameter tuning at this point)"
   ]
  },
  {
   "cell_type": "code",
   "execution_count": 64,
   "metadata": {},
   "outputs": [
    {
     "data": {
      "text/plain": [
       "0.8094451208905896"
      ]
     },
     "execution_count": 64,
     "metadata": {},
     "output_type": "execute_result"
    }
   ],
   "source": [
    "log_mod.score(X_train,y_train)"
   ]
  },
  {
   "cell_type": "code",
   "execution_count": 60,
   "metadata": {},
   "outputs": [
    {
     "data": {
      "text/plain": [
       "<sklearn.metrics._plot.confusion_matrix.ConfusionMatrixDisplay at 0x1dbbe80cf40>"
      ]
     },
     "execution_count": 60,
     "metadata": {},
     "output_type": "execute_result"
    },
    {
     "data": {
      "image/png": "[encoded data removed]",
      "text/plain": [
       "<Figure size 432x288 with 2 Axes>"
      ]
     },
     "metadata": {
      "needs_background": "light"
     },
     "output_type": "display_data"
    }
   ],
   "source": [
    "y_pr_log = log_mod.predict(X_test)\n",
    "cm = confusion_matrix(y_test,y_pr_log,normalize='true')\n",
    "disp = ConfusionMatrixDisplay(cm)\n",
    "disp.plot()"
   ]
  },
  {
   "cell_type": "code",
   "execution_count": 42,
   "metadata": {},
   "outputs": [
    {
     "data": {
      "text/plain": [
       "0.8094561688311688"
      ]
     },
     "execution_count": 42,
     "metadata": {},
     "output_type": "execute_result"
    }
   ],
   "source": [
    "log_mod.score(X_test,y_test)"
   ]
  },
  {
   "cell_type": "markdown",
   "metadata": {},
   "source": [
    "Nice, 81% mean accuracy is not too bad for this completely balanced dataset. Also, the scores on the test and train datasets is very close, implying that the model did not overfit (possibly because the data is fairly simple and homogenous over thousands of samples)."
   ]
  },
  {
   "cell_type": "markdown",
   "metadata": {},
   "source": [
    "### What effect does \"step\" variable have in terms of model predictions?\n",
    "What would be the effect of removing step? In the \"real-world\", the time of day would likely play an important role in fraud prediction. Is that also the case for this dataset? During our EDA, we did see that fraud was uniformly occurring (except very early and near the end, where the fraud decreased). However, the legitimate transactions had strong heterogeneity in their occurrence. Let's remove step to see how it affects the score for the model above."
   ]
  },
  {
   "cell_type": "code",
   "execution_count": 61,
   "metadata": {},
   "outputs": [
    {
     "data": {
      "text/plain": [
       "0.7682205600974082"
      ]
     },
     "execution_count": 61,
     "metadata": {},
     "output_type": "execute_result"
    }
   ],
   "source": [
    "X_train_no_step = X_train.drop(columns='step')\n",
    "log_mod = LogisticRegression(random_state=42)\n",
    "log_mod.fit(X_train_no_step,y_train)\n",
    "log_mod.score(X_train_no_step,y_train)"
   ]
  },
  {
   "cell_type": "code",
   "execution_count": 62,
   "metadata": {},
   "outputs": [
    {
     "data": {
      "text/plain": [
       "<sklearn.metrics._plot.confusion_matrix.ConfusionMatrixDisplay at 0x1dbbe825f70>"
      ]
     },
     "execution_count": 62,
     "metadata": {},
     "output_type": "execute_result"
    },
    {
     "data": {
      "image/png": "[encoded data removed]",
      "text/plain": [
       "<Figure size 432x288 with 2 Axes>"
      ]
     },
     "metadata": {
      "needs_background": "light"
     },
     "output_type": "display_data"
    }
   ],
   "source": [
    "X_test_no_step = X_test.drop(columns='step')\n",
    "y_pr_log_no_step = log_mod.predict(X_test_no_step)\n",
    "cm = confusion_matrix(y_test,y_pr_log_no_step,normalize='true')\n",
    "disp = ConfusionMatrixDisplay(cm)\n",
    "disp.plot()"
   ]
  },
  {
   "cell_type": "code",
   "execution_count": 47,
   "metadata": {},
   "outputs": [
    {
     "data": {
      "text/plain": [
       "0.7635957792207793"
      ]
     },
     "execution_count": 47,
     "metadata": {},
     "output_type": "execute_result"
    }
   ],
   "source": [
    "log_mod.score(X_test_no_step,y_test)"
   ]
  },
  {
   "cell_type": "markdown",
   "metadata": {},
   "source": [
    "It appears that step does improve the model predictions by about 5% mean accuracy. From the confusion matrix, we see that the area the model benefited from most with step is the avoiding false positives (upper-right quadrant of confusion matrix) and missing true negatives (upper-left quadrant). \n",
    "This makes sense, because the step provides data on where the legitimate transactions are concentrated. Without this information, the model overpredicts fraud."
   ]
  },
  {
   "cell_type": "markdown",
   "metadata": {},
   "source": [
    "### ROC Curve\n",
    "Keeping step in the model, let's plot the ROC curve."
   ]
  },
  {
   "cell_type": "code",
   "execution_count": 77,
   "metadata": {},
   "outputs": [],
   "source": [
    "#get false positive and true postive rates with predicted probabilities from log_mod\n",
    "fpr, tpr, thresholds = roc_curve(y_test,log_mod.predict_proba(X_test)[:,1])"
   ]
  },
  {
   "cell_type": "code",
   "execution_count": 78,
   "metadata": {},
   "outputs": [
    {
     "data": {
      "text/plain": [
       "0.893"
      ]
     },
     "execution_count": 78,
     "metadata": {},
     "output_type": "execute_result"
    }
   ],
   "source": [
    "area_under_curve = round(auc(fpr,tpr),3)\n",
    "area_under_curve"
   ]
  },
  {
   "cell_type": "code",
   "execution_count": 72,
   "metadata": {},
   "outputs": [
    {
     "data": {
      "text/plain": [
       "<sklearn.metrics._plot.roc_curve.RocCurveDisplay at 0x1dbbd4cb8e0>"
      ]
     },
     "execution_count": 72,
     "metadata": {},
     "output_type": "execute_result"
    },
    {
     "data": {
      "image/png": "[encoded data removed]",
      "text/plain": [
       "<Figure size 432x288 with 1 Axes>"
      ]
     },
     "metadata": {
      "needs_background": "light"
     },
     "output_type": "display_data"
    }
   ],
   "source": [
    "plot_roc_curve(log_mod, X_test, y_test,response_method='predict_proba')"
   ]
  },
  {
   "cell_type": "markdown",
   "metadata": {},
   "source": [
    "An AUC of 0.89 is great! Of course, we also want to use the amount of money lost assessing the model's success. If the model is not able to detect fraud with high dollar amounts, or is equally likely to misclassify high and low dollar fraud, then this would not be desirable. "
   ]
  },
  {
   "cell_type": "markdown",
   "metadata": {},
   "source": [
    "### Grid search with cross validation for hyperparameter tuning"
   ]
  },
  {
   "cell_type": "markdown",
   "metadata": {},
   "source": [
    "Allow for l1 or l2 penalty with liblinear solver and range of regularization strengths."
   ]
  },
  {
   "cell_type": "code",
   "execution_count": 92,
   "metadata": {},
   "outputs": [
    {
     "data": {
      "text/plain": [
       "0.8088452548882323"
      ]
     },
     "execution_count": 92,
     "metadata": {},
     "output_type": "execute_result"
    }
   ],
   "source": [
    "Cs = [0.001, 0.1, 1, 10, 100]\n",
    "pnlty = ['l2','l1']\n",
    "slvr = ['liblinear']\n",
    "param_grid = {'penalty':pnlty,'C': Cs, 'solver' : slvr}\n",
    "\n",
    "log_mod_gs = GridSearchCV(log_mod,param_grid,cv=5)\n",
    "\n",
    "#fit data\n",
    "log_mod_gs.fit(X_test,y_test)\n",
    "log_mod_gs.best_score_"
   ]
  },
  {
   "cell_type": "markdown",
   "metadata": {},
   "source": [
    "Keep default penalty and solver with more iterations added and range of regularization strengths."
   ]
  },
  {
   "cell_type": "code",
   "execution_count": 94,
   "metadata": {},
   "outputs": [
    {
     "data": {
      "text/plain": [
       "0.8092513462587906"
      ]
     },
     "execution_count": 94,
     "metadata": {},
     "output_type": "execute_result"
    }
   ],
   "source": [
    "Cs = [0.001, 0.1, 1, 10, 100]\n",
    "pnlty = ['l2']\n",
    "slvr = ['lbfgs']\n",
    "mx_iter = [1000]\n",
    "param_grid = {'penalty':pnlty,'C': Cs, 'solver' : slvr,'max_iter':mx_iter}\n",
    "\n",
    "log_mod_gs = GridSearchCV(log_mod,param_grid,cv=5)\n",
    "\n",
    "#fit data\n",
    "log_mod_gs.fit(X_test,y_test)\n",
    "log_mod_gs.best_score_"
   ]
  },
  {
   "cell_type": "markdown",
   "metadata": {},
   "source": [
    "Change to elastic net penalty and also vary l1 ratios with saga solver."
   ]
  },
  {
   "cell_type": "code",
   "execution_count": 99,
   "metadata": {},
   "outputs": [
    {
     "data": {
      "text/plain": [
       "0.8116862470526456"
      ]
     },
     "execution_count": 99,
     "metadata": {},
     "output_type": "execute_result"
    }
   ],
   "source": [
    "Cs = [0.001, 0.1, 1, 10, 100]\n",
    "l1 = [0,0.1,0.5,1]\n",
    "pnlty = ['elasticnet']\n",
    "slvr = ['saga']\n",
    "mx_iter = [10000]\n",
    "param_grid = {'penalty':pnlty,'C': Cs, 'solver' : slvr,'max_iter':mx_iter,'l1_ratio':l1}\n",
    "\n",
    "log_mod_gs = GridSearchCV(log_mod,param_grid,cv=5)\n",
    "\n",
    "#fit data\n",
    "log_mod_gs.fit(X_test,y_test)\n",
    "log_mod_gs.best_score_"
   ]
  },
  {
   "cell_type": "markdown",
   "metadata": {},
   "source": [
    "From the three grid searches above, it appears that no significant gains are to be had by hyperparameter tuning for this logistic model. The best mean accuracy is still about 81%."
   ]
  },
  {
   "cell_type": "markdown",
   "metadata": {},
   "source": [
    "# Random Forest Classifer\n",
    "\n",
    "The random forest ensemble classifier is one of the most versatile and robust out-of-the-box classifiers in existence today. They are typically easy to tune and hard to overfit relative to gradient boosting, and the method is very easy to parallelize. Let's try it out on our dataset! "
   ]
  },
  {
   "cell_type": "code",
   "execution_count": 247,
   "metadata": {},
   "outputs": [],
   "source": [
    "#random forest with default parameters\n",
    "rf_mod = RandomForestClassifier(random_state=42,n_jobs=-1)\n",
    "rf_mod.fit(X_train,y_train)\n",
    "y_pred_rf = rf_mod.predict(X_test)"
   ]
  },
  {
   "cell_type": "code",
   "execution_count": 248,
   "metadata": {},
   "outputs": [
    {
     "data": {
      "text/plain": [
       "1.0"
      ]
     },
     "execution_count": 248,
     "metadata": {},
     "output_type": "execute_result"
    }
   ],
   "source": [
    "#training error without cross-validation\n",
    "rf_mod.score(X_train,y_train)"
   ]
  },
  {
   "cell_type": "markdown",
   "metadata": {},
   "source": [
    "The train accuracy is 100%! What about if we use cross-validation?"
   ]
  },
  {
   "cell_type": "code",
   "execution_count": 198,
   "metadata": {},
   "outputs": [
    {
     "name": "stdout",
     "output_type": "stream",
     "text": [
      "[0.89478261 0.88       0.88652174 0.88081775 0.88864724]\n",
      "0.8861538665204153\n"
     ]
    }
   ],
   "source": [
    "#training data error with cv\n",
    "cv_rf_tr = cross_val_score(rf_mod, X_train, y_train, cv=5)\n",
    "print(cv_rf_tr)\n",
    "print(cv_rf_tr.mean())"
   ]
  },
  {
   "cell_type": "markdown",
   "metadata": {},
   "source": [
    "So, with cv the accuracy on the training set is around 89%.  The cross-validated scores give us a much better idea of how the model will perform in \"real life\". However, what's really important is the score on the test data."
   ]
  },
  {
   "cell_type": "code",
   "execution_count": 189,
   "metadata": {},
   "outputs": [
    {
     "name": "stdout",
     "output_type": "stream",
     "text": [
      "[0.87018256 0.87221095 0.86916836 0.89238579 0.9035533 ]\n",
      "0.8815001904840354\n"
     ]
    }
   ],
   "source": [
    "#testing data error with cv\n",
    "cv_rf_tst = cross_val_score(rf_mod, X_test, y_test, cv=5)\n",
    "print(cv_rf_tst)\n",
    "print(cv_rf_tst.mean())"
   ]
  },
  {
   "cell_type": "code",
   "execution_count": 199,
   "metadata": {},
   "outputs": [
    {
     "data": {
      "text/plain": [
       "<sklearn.metrics._plot.confusion_matrix.ConfusionMatrixDisplay at 0x1dbbfda09a0>"
      ]
     },
     "execution_count": 199,
     "metadata": {},
     "output_type": "execute_result"
    },
    {
     "data": {
      "image/png": "[encoded data removed]",
      "text/plain": [
       "<Figure size 432x288 with 2 Axes>"
      ]
     },
     "metadata": {
      "needs_background": "light"
     },
     "output_type": "display_data"
    }
   ],
   "source": [
    "cm = confusion_matrix(y_test, y_pred_rf,normalize='true')\n",
    "disp = ConfusionMatrixDisplay(cm)\n",
    "disp.plot()"
   ]
  },
  {
   "cell_type": "code",
   "execution_count": 200,
   "metadata": {},
   "outputs": [
    {
     "data": {
      "text/plain": [
       "0.957"
      ]
     },
     "execution_count": 200,
     "metadata": {},
     "output_type": "execute_result"
    }
   ],
   "source": [
    "fpr, tpr, thresholds = roc_curve(y_test,rf_mod.predict_proba(X_test)[:,1])\n",
    "area_under_curve = round(auc(fpr,tpr),3)\n",
    "area_under_curve"
   ]
  },
  {
   "cell_type": "markdown",
   "metadata": {},
   "source": [
    "Even without any hyperparameter tuning, the random forest model outperforms even the best logistic regression model so far! Both true positives and true negatives predictions are around 90% accurate, and overall mean accuracy is about 88% (compared to about 81% for the logistic regression model). The area under the ROC curve is also close to 0.96 for the random forest, compared to the 0.89 for the logistic model. Clearly, random forest is a better model for the classification of fraudulent transactions."
   ]
  },
  {
   "cell_type": "markdown",
   "metadata": {},
   "source": [
    "#### Log Loss\n",
    "Let's try log loss as another evaluation metric"
   ]
  },
  {
   "cell_type": "code",
   "execution_count": 158,
   "metadata": {},
   "outputs": [
    {
     "data": {
      "text/plain": [
       "0.40529049945924056"
      ]
     },
     "execution_count": 158,
     "metadata": {},
     "output_type": "execute_result"
    }
   ],
   "source": [
    "#random forest log loss\n",
    "rf_log_loss = log_loss(y_test, rf_mod.predict_proba(X_test)[:,1])\n",
    "rf_log_loss"
   ]
  },
  {
   "cell_type": "code",
   "execution_count": 117,
   "metadata": {},
   "outputs": [
    {
     "data": {
      "text/plain": [
       "0.3958530149181658"
      ]
     },
     "execution_count": 117,
     "metadata": {},
     "output_type": "execute_result"
    }
   ],
   "source": [
    "#logistic regression log loss\n",
    "log_log_loss = log_loss(y_test,log_mod.predict_proba(X_test)[:,1])\n",
    "log_log_loss"
   ]
  },
  {
   "cell_type": "markdown",
   "metadata": {},
   "source": [
    "Interstingly, the logarithmic model has a slightly lower log loss compared to the random forest. This implies that the random forest model's was more certain of its incorrect classifications as compared to the logistic model. "
   ]
  },
  {
   "attachments": {},
   "cell_type": "markdown",
   "metadata": {},
   "source": [
    "#### Matthews correlation coefficient"
   ]
  },
  {
   "cell_type": "code",
   "execution_count": 120,
   "metadata": {},
   "outputs": [
    {
     "data": {
      "text/plain": [
       "0.5438029449773948"
      ]
     },
     "execution_count": 120,
     "metadata": {},
     "output_type": "execute_result"
    }
   ],
   "source": [
    "#logistic regression\n",
    "matthews_corrcoef(y_test, y_pr_log)"
   ]
  },
  {
   "cell_type": "code",
   "execution_count": 159,
   "metadata": {},
   "outputs": [
    {
     "data": {
      "text/plain": [
       "0.7746053697138746"
      ]
     },
     "execution_count": 159,
     "metadata": {},
     "output_type": "execute_result"
    }
   ],
   "source": [
    "#random forest\n",
    "matthews_corrcoef(y_test, y_pred_rf)"
   ]
  },
  {
   "cell_type": "markdown",
   "metadata": {},
   "source": [
    "The MCC takes into account all quadrants of the confusion matrix (true positive, false positive, true negative, and false negative). The metric is independent of the positive/negative label (i.e., they can be swapped without affecting the MCC), and is hence better than the F1 score for binary classification.\n",
    "\n",
    "Here, we notice that the MCC is significantly better for the random forest model compared to logistic regression."
   ]
  },
  {
   "cell_type": "markdown",
   "metadata": {},
   "source": [
    "### Grid Search with Random Forest"
   ]
  },
  {
   "cell_type": "code",
   "execution_count": 249,
   "metadata": {},
   "outputs": [
    {
     "data": {
      "text/plain": [
       "0.8896321273899804"
      ]
     },
     "execution_count": 249,
     "metadata": {},
     "output_type": "execute_result"
    }
   ],
   "source": [
    "n_est = [10,100,1000]\n",
    "crtrn = ['gini','entropy']\n",
    "mxdpth = [None,2,5,10,20]\n",
    "param_grid = {'n_estimators':n_est,'criterion': crtrn, 'max_depth' : mxdpth}\n",
    "\n",
    "rf_mod_gs = GridSearchCV(rf_mod,param_grid,cv=5)\n",
    "\n",
    "#fit data\n",
    "rf_mod_gs.fit(X_train,y_train)\n",
    "rf_mod_gs.best_score_"
   ]
  },
  {
   "cell_type": "code",
   "execution_count": 251,
   "metadata": {},
   "outputs": [
    {
     "data": {
      "text/plain": [
       "0.890625"
      ]
     },
     "execution_count": 251,
     "metadata": {},
     "output_type": "execute_result"
    }
   ],
   "source": [
    "rf_mod_gs.score(X_test,y_test)"
   ]
  },
  {
   "cell_type": "markdown",
   "metadata": {},
   "source": [
    "The grid search very slightly improved the mean classification accuracy of the random forest model by about 1 percent when varying the number of estimators, the purity gain criterion, and the maximum depth of the trees relative to the default values.\n",
    "\n",
    "The best parameters are listed below:"
   ]
  },
  {
   "cell_type": "code",
   "execution_count": 250,
   "metadata": {},
   "outputs": [
    {
     "data": {
      "text/plain": [
       "{'criterion': 'gini', 'max_depth': 20, 'n_estimators': 100}"
      ]
     },
     "execution_count": 250,
     "metadata": {},
     "output_type": "execute_result"
    }
   ],
   "source": [
    "rf_mod_gs.best_params_"
   ]
  },
  {
   "cell_type": "markdown",
   "metadata": {},
   "source": [
    "## Effect of varying min samples to split node on random forest model accuracy"
   ]
  },
  {
   "cell_type": "code",
   "execution_count": 191,
   "metadata": {},
   "outputs": [
    {
     "data": {
      "image/png": "[encoded data removed]",
      "text/plain": [
       "<Figure size 432x288 with 1 Axes>"
      ]
     },
     "metadata": {
      "needs_background": "light"
     },
     "output_type": "display_data"
    }
   ],
   "source": [
    "#code below taken from https://medium.com/all-things-ai/in-depth-parameter-tuning-for-random-forest-d67bb7e920d\n",
    "min_splits = np.linspace(2, 32, 32, endpoint=True)\n",
    "train_results = []\n",
    "test_results = []\n",
    "for min_split in min_splits:\n",
    "   rf = RandomForestClassifier(min_samples_split=int(min_split), random_state=42, n_jobs=-1)\n",
    "   rf.fit(X_train, y_train)\n",
    "   train_pred = rf.predict(X_train)\n",
    "   false_positive_rate, true_positive_rate, thresholds = roc_curve(y_train, train_pred)\n",
    "   roc_auc = auc(false_positive_rate, true_positive_rate)\n",
    "   train_results.append(roc_auc)\n",
    "   y_pred = rf.predict(X_test)\n",
    "   false_positive_rate, true_positive_rate, thresholds = roc_curve(y_test, y_pred)\n",
    "   roc_auc = auc(false_positive_rate, true_positive_rate)\n",
    "   test_results.append(roc_auc)\n",
    "from matplotlib.legend_handler import HandlerLine2D\n",
    "line1, = plt.plot(min_splits, train_results, 'b', label=\"Train AUC\")\n",
    "line2, = plt.plot(min_splits, test_results, 'r', label=\"Test AUC\")\n",
    "plt.legend(handler_map={line1: HandlerLine2D(numpoints=2)})\n",
    "plt.ylabel('AUC score')\n",
    "plt.xlabel('Min Samples for Split')\n",
    "plt.show()"
   ]
  },
  {
   "cell_type": "markdown",
   "metadata": {},
   "source": [
    "At smaller minimum samples required for a split, the random forest model seemed to be overfitting. This makes sense, since if we increase this number then there is a reduced chance for the forest to fit to noise in the data. \n",
    "Recall, with min samples required for splitting set at 2, we at 100% accuracy with the training data, but under 89% with test data. \n",
    "\n",
    "It looks like around min samples for split of 15, we maximize the test AUC."
   ]
  },
  {
   "cell_type": "code",
   "execution_count": 218,
   "metadata": {},
   "outputs": [],
   "source": [
    "#random forest with default parameters\n",
    "rf_mod2 = RandomForestClassifier(random_state=42,n_jobs=-1,min_samples_split=15)\n",
    "rf_mod2.fit(X_train,y_train)\n",
    "y_pred_rf = rf_mod2.predict(X_test)"
   ]
  },
  {
   "cell_type": "code",
   "execution_count": 219,
   "metadata": {},
   "outputs": [
    {
     "name": "stdout",
     "output_type": "stream",
     "text": [
      "[0.89913043 0.88782609 0.89434783 0.89430187 0.89169204]\n",
      "0.8934596516443822\n"
     ]
    }
   ],
   "source": [
    "#training data error\n",
    "cv_rf_tr = cross_val_score(rf_mod2, X_train, y_train, cv=5)\n",
    "print(cv_rf_tr)\n",
    "print(cv_rf_tr.mean())"
   ]
  },
  {
   "cell_type": "code",
   "execution_count": 220,
   "metadata": {},
   "outputs": [
    {
     "name": "stdout",
     "output_type": "stream",
     "text": [
      "[0.88336714 0.88539554 0.87728195 0.89035533 0.89746193]\n",
      "0.8867723767259399\n"
     ]
    }
   ],
   "source": [
    "#training data error\n",
    "cv_rf_tst = cross_val_score(rf_mod2, X_test, y_test, cv=5)\n",
    "print(cv_rf_tst)\n",
    "print(cv_rf_tst.mean())"
   ]
  },
  {
   "cell_type": "code",
   "execution_count": 221,
   "metadata": {},
   "outputs": [
    {
     "data": {
      "text/plain": [
       "<sklearn.metrics._plot.confusion_matrix.ConfusionMatrixDisplay at 0x1dbca63d070>"
      ]
     },
     "execution_count": 221,
     "metadata": {},
     "output_type": "execute_result"
    },
    {
     "data": {
      "image/png": "[encoded data removed]",
      "text/plain": [
       "<Figure size 432x288 with 2 Axes>"
      ]
     },
     "metadata": {
      "needs_background": "light"
     },
     "output_type": "display_data"
    }
   ],
   "source": [
    "cm = confusion_matrix(y_test, y_pred_rf,normalize='true')\n",
    "disp = ConfusionMatrixDisplay(cm)\n",
    "disp.plot()"
   ]
  },
  {
   "cell_type": "markdown",
   "metadata": {},
   "source": [
    "The tuning of the hyperparameter for min number of samples required for a split did imporve the random forest model, albeit by only a percent or so. But, with fraud, every bit helps!"
   ]
  },
  {
   "cell_type": "markdown",
   "metadata": {},
   "source": [
    "## Feature Importance\n",
    "\n",
    "The feature importance (also known as Gini importance) and is defined as the total decrease in node impurity (weighted by the probability of reaching that node (which is approximated by the proportion of samples reaching that node)) averaged over all trees of the ensemble."
   ]
  },
  {
   "cell_type": "code",
   "execution_count": 225,
   "metadata": {},
   "outputs": [
    {
     "name": "stdout",
     "output_type": "stream",
     "text": [
      "5\n"
     ]
    },
    {
     "data": {
      "image/png": "[encoded data removed]",
      "text/plain": [
       "<Figure size 720x720 with 1 Axes>"
      ]
     },
     "metadata": {
      "needs_background": "light"
     },
     "output_type": "display_data"
    }
   ],
   "source": [
    "#code below adapted from Springboard Random Forest Case Study Notebook\n",
    "feature_importance = rf_mod2.feature_importances_\n",
    "# make importances relative to max importance\n",
    "feature_importance = 100.0 * (feature_importance / feature_importance.max())[:5]\n",
    "sorted_idx = np.argsort(feature_importance)[:5]\n",
    "\n",
    "pos = np.arange(sorted_idx.shape[0]) + .5\n",
    "print(pos.size)\n",
    "sorted_idx.size\n",
    "plt.figure(figsize=(10,10))\n",
    "plt.barh(pos, feature_importance[sorted_idx], align='center')\n",
    "plt.yticks(pos, X_train.columns[sorted_idx])\n",
    "plt.xlabel('Relative Importance')\n",
    "plt.title('Variable Importance')\n",
    "plt.show()"
   ]
  },
  {
   "cell_type": "markdown",
   "metadata": {},
   "source": [
    "From our calculation of the feature (or Gini) importance, we see that the variable step is the most important predictor for fraud, followed by whether the account of the originator is emptied or not. Finally, the transaction type is the least important group of features. "
   ]
  },
  {
   "cell_type": "markdown",
   "metadata": {},
   "source": [
    "# Support Vector Machines\n",
    " \n",
    "Support vector machine (SVM) classifiers can be very accurate. They do need to be more carefuly tuned than RF models and are more senstive to outliers. Let's try a SVM model on our mobile transactions data.\n",
    "\n",
    "Another possible issue with SVM is that the time to fit the model varies as $O(n^2)$, which can make it impractical for larger datasets."
   ]
  },
  {
   "cell_type": "code",
   "execution_count": 226,
   "metadata": {},
   "outputs": [],
   "source": [
    "#starting with default parameters to get baseline performance\n",
    "svm_mod = SVC(random_state=42)\n",
    "cv_svm_tr = cross_val_score(svm_mod, X_train, y_train, cv=5)"
   ]
  },
  {
   "cell_type": "code",
   "execution_count": 228,
   "metadata": {},
   "outputs": [
    {
     "name": "stdout",
     "output_type": "stream",
     "text": [
      "[0.69391304 0.7026087  0.70652174 0.6876903  0.68377555]\n"
     ]
    },
    {
     "data": {
      "text/plain": [
       "0.6949018665960626"
      ]
     },
     "execution_count": 228,
     "metadata": {},
     "output_type": "execute_result"
    }
   ],
   "source": [
    "print(cv_svm_tr)\n",
    "cv_svm_tr.mean()"
   ]
  },
  {
   "cell_type": "code",
   "execution_count": null,
   "metadata": {},
   "outputs": [],
   "source": [
    "cm = confusion_matrix(y_test, cv_svm_tr.p,normalize='true')\n",
    "disp = ConfusionMatrixDisplay(cm)\n",
    "disp.plot()"
   ]
  },
  {
   "cell_type": "code",
   "execution_count": 230,
   "metadata": {},
   "outputs": [
    {
     "data": {
      "text/plain": [
       "0.697849025974026"
      ]
     },
     "execution_count": 230,
     "metadata": {},
     "output_type": "execute_result"
    }
   ],
   "source": [
    "svm_mod.fit(X_train,y_train)\n",
    "svm_mod.score(X_test,y_test)"
   ]
  },
  {
   "cell_type": "code",
   "execution_count": 233,
   "metadata": {},
   "outputs": [
    {
     "data": {
      "text/plain": [
       "<sklearn.metrics._plot.confusion_matrix.ConfusionMatrixDisplay at 0x1dbd5d30220>"
      ]
     },
     "execution_count": 233,
     "metadata": {},
     "output_type": "execute_result"
    },
    {
     "data": {
      "image/png": "[encoded data removed]",
      "text/plain": [
       "<Figure size 432x288 with 2 Axes>"
      ]
     },
     "metadata": {
      "needs_background": "light"
     },
     "output_type": "display_data"
    }
   ],
   "source": [
    "y_pred_svm = svm_mod.predict(X_test)\n",
    "cm = confusion_matrix(y_test, y_pred_svm)\n",
    "disp = ConfusionMatrixDisplay(cm)\n",
    "disp.plot()"
   ]
  },
  {
   "cell_type": "code",
   "execution_count": 236,
   "metadata": {},
   "outputs": [
    {
     "name": "stdout",
     "output_type": "stream",
     "text": [
      "              precision    recall  f1-score   support\n",
      "\n",
      "           0       0.63      0.95      0.76      2479\n",
      "           1       0.89      0.45      0.59      2449\n",
      "\n",
      "    accuracy                           0.70      4928\n",
      "   macro avg       0.76      0.70      0.68      4928\n",
      "weighted avg       0.76      0.70      0.68      4928\n",
      "\n"
     ]
    }
   ],
   "source": [
    "print(classification_report(y_test, y_pred_svm))"
   ]
  },
  {
   "cell_type": "markdown",
   "metadata": {},
   "source": [
    "Without any hyperparameter tuning, the SVM model does not do very well relative to either logistic regression or RF, achieving a mean accuracy of only about 69%. From the confusion matrix above, the biggest problem with the SVM model is that it incorrectly predicts many fraudulent transactions as legitimate (poor recall). This is very bad in our case, and suggests that the hyperparameters require tuning."
   ]
  },
  {
   "cell_type": "markdown",
   "metadata": {},
   "source": [
    "## Grid Searach for SVM"
   ]
  },
  {
   "cell_type": "code",
   "execution_count": 237,
   "metadata": {},
   "outputs": [
    {
     "data": {
      "text/plain": [
       "0.8960687633564689"
      ]
     },
     "execution_count": 237,
     "metadata": {},
     "output_type": "execute_result"
    }
   ],
   "source": [
    "n_est = [10,100,1000]\n",
    "crtrn = ['gini','entropy']\n",
    "mxdpth = [None,2,5,10,20]\n",
    "param_grid = {'C': [0.1, 1, 10, 100, 1000], \n",
    "              'gamma': [1, 0.1, 0.01, 0.001, 0.0001],\n",
    "              'kernel': ['rbf']} \n",
    "\n",
    "svm_mod_gs = GridSearchCV(svm_mod,param_grid,cv=5)\n",
    "\n",
    "#fit data\n",
    "svm_mod_gs.fit(X_train,y_train)\n",
    "svm_mod_gs.best_score_"
   ]
  },
  {
   "cell_type": "code",
   "execution_count": 238,
   "metadata": {},
   "outputs": [
    {
     "data": {
      "text/plain": [
       "<sklearn.metrics._plot.confusion_matrix.ConfusionMatrixDisplay at 0x1dbc34c1a30>"
      ]
     },
     "execution_count": 238,
     "metadata": {},
     "output_type": "execute_result"
    },
    {
     "data": {
      "image/png": "[encoded data removed]",
      "text/plain": [
       "<Figure size 432x288 with 2 Axes>"
      ]
     },
     "metadata": {
      "needs_background": "light"
     },
     "output_type": "display_data"
    }
   ],
   "source": [
    "y_pred_svm_gs = svm_mod_gs.predict(X_test)\n",
    "cm = confusion_matrix(y_test, y_pred_svm_gs)\n",
    "disp = ConfusionMatrixDisplay(cm)\n",
    "disp.plot()"
   ]
  },
  {
   "cell_type": "code",
   "execution_count": 239,
   "metadata": {},
   "outputs": [
    {
     "name": "stdout",
     "output_type": "stream",
     "text": [
      "              precision    recall  f1-score   support\n",
      "\n",
      "           0       0.89      0.90      0.90      2479\n",
      "           1       0.90      0.89      0.89      2449\n",
      "\n",
      "    accuracy                           0.90      4928\n",
      "   macro avg       0.90      0.90      0.90      4928\n",
      "weighted avg       0.90      0.90      0.90      4928\n",
      "\n"
     ]
    }
   ],
   "source": [
    "print(classification_report(y_test, y_pred_svm_gs))"
   ]
  },
  {
   "cell_type": "markdown",
   "metadata": {},
   "source": [
    "With a little hyperparameter tuning, the SVM classifier went from being by far the worst model to the best, yeilding 90% mean accuracy!"
   ]
  },
  {
   "cell_type": "markdown",
   "metadata": {},
   "source": [
    "# Final comparison of Logistic Regression, Random Forest, and Support Vector Machines Classifiers\n",
    "\n",
    "We have looked at many differnt comparison evaluation metrics for the three models discussed above. Fraud is very costly to customers and the money transfer company. While false positives can be annoying to the customer, they are far better than false negatives where entire accounts can be wiped out. Ultimately, we want to choose a metric that focuses on minimizing the false negatives, or equivalently, maximizing recall. \n",
    "\n",
    "Let's look at our classification reports again for the best logistic and random forest models, again. "
   ]
  },
  {
   "cell_type": "markdown",
   "metadata": {},
   "source": [
    "## Logistic Regression"
   ]
  },
  {
   "cell_type": "code",
   "execution_count": 242,
   "metadata": {},
   "outputs": [
    {
     "name": "stdout",
     "output_type": "stream",
     "text": [
      "              precision    recall  f1-score   support\n",
      "\n",
      "           0       0.85      0.76      0.80      2479\n",
      "           1       0.78      0.87      0.82      2449\n",
      "\n",
      "    accuracy                           0.81      4928\n",
      "   macro avg       0.82      0.81      0.81      4928\n",
      "weighted avg       0.82      0.81      0.81      4928\n",
      "\n"
     ]
    }
   ],
   "source": [
    "print(classification_report(y_test, log_mod_gs.predict(X_test)))"
   ]
  },
  {
   "cell_type": "code",
   "execution_count": 254,
   "metadata": {},
   "outputs": [
    {
     "data": {
      "text/plain": [
       "<sklearn.metrics._plot.precision_recall_curve.PrecisionRecallDisplay at 0x1dbd5d589a0>"
      ]
     },
     "execution_count": 254,
     "metadata": {},
     "output_type": "execute_result"
    },
    {
     "data": {
      "image/png": "[encoded data removed]",
      "text/plain": [
       "<Figure size 432x288 with 1 Axes>"
      ]
     },
     "metadata": {
      "needs_background": "light"
     },
     "output_type": "display_data"
    }
   ],
   "source": [
    "plot_precision_recall_curve(log_mod_gs,X_test,y_test)"
   ]
  },
  {
   "cell_type": "markdown",
   "metadata": {},
   "source": [
    "## Random Forest"
   ]
  },
  {
   "cell_type": "code",
   "execution_count": 252,
   "metadata": {},
   "outputs": [
    {
     "name": "stdout",
     "output_type": "stream",
     "text": [
      "              precision    recall  f1-score   support\n",
      "\n",
      "           0       0.90      0.89      0.89      2479\n",
      "           1       0.89      0.90      0.89      2449\n",
      "\n",
      "    accuracy                           0.89      4928\n",
      "   macro avg       0.89      0.89      0.89      4928\n",
      "weighted avg       0.89      0.89      0.89      4928\n",
      "\n"
     ]
    }
   ],
   "source": [
    "print(classification_report(y_test, rf_mod_gs.predict(X_test)))"
   ]
  },
  {
   "cell_type": "code",
   "execution_count": 255,
   "metadata": {},
   "outputs": [
    {
     "data": {
      "text/plain": [
       "<sklearn.metrics._plot.precision_recall_curve.PrecisionRecallDisplay at 0x1dbd5ad1fa0>"
      ]
     },
     "execution_count": 255,
     "metadata": {},
     "output_type": "execute_result"
    },
    {
     "data": {
      "image/png": "[encoded data removed]",
      "text/plain": [
       "<Figure size 432x288 with 1 Axes>"
      ]
     },
     "metadata": {
      "needs_background": "light"
     },
     "output_type": "display_data"
    }
   ],
   "source": [
    "plot_precision_recall_curve(rf_mod_gs,X_test,y_test)"
   ]
  },
  {
   "cell_type": "markdown",
   "metadata": {},
   "source": [
    "## Support Vector Machine"
   ]
  },
  {
   "cell_type": "code",
   "execution_count": 244,
   "metadata": {},
   "outputs": [
    {
     "name": "stdout",
     "output_type": "stream",
     "text": [
      "              precision    recall  f1-score   support\n",
      "\n",
      "           0       0.89      0.90      0.90      2479\n",
      "           1       0.90      0.89      0.89      2449\n",
      "\n",
      "    accuracy                           0.90      4928\n",
      "   macro avg       0.90      0.90      0.90      4928\n",
      "weighted avg       0.90      0.90      0.90      4928\n",
      "\n"
     ]
    }
   ],
   "source": [
    "print(classification_report(y_test, y_pred_svm_gs))"
   ]
  },
  {
   "cell_type": "code",
   "execution_count": 256,
   "metadata": {},
   "outputs": [
    {
     "data": {
      "text/plain": [
       "<sklearn.metrics._plot.precision_recall_curve.PrecisionRecallDisplay at 0x1dbd5b7e8e0>"
      ]
     },
     "execution_count": 256,
     "metadata": {},
     "output_type": "execute_result"
    },
    {
     "data": {
      "image/png": "[encoded data removed]",
      "text/plain": [
       "<Figure size 432x288 with 1 Axes>"
      ]
     },
     "metadata": {
      "needs_background": "light"
     },
     "output_type": "display_data"
    }
   ],
   "source": [
    "plot_precision_recall_curve(svm_mod_gs,X_test,y_test)"
   ]
  },
  {
   "cell_type": "markdown",
   "metadata": {},
   "source": [
    "# Conclusions\n",
    "\n",
    "The best performing model in terms of overall accuracy was the SVM classifier, but RF is very close to the same performance. Also, RF is much faster to fit (parallelizable) and does not require extensive hyperparameter tuning to get a reasonable result, whereas SVM took a long time to fit and where hyperparameter tuning was essential for model performance.\n",
    "SVM beat RF in terms of F1-score as well, but again, only slightly. In conclusion, SVM is the best classifier among the group, but whether it would be a good as real-time fraud detection model that may need to continously learn off of new data is another question. \n",
    "\n",
    "Overall, the random forest model may be better than SVM since no lengthly hyperparameter tuning needs to be done, and is much faster to train and more robust to outliers, overall. Furthermore, it scales better with more observations compared to SVM.\n",
    "\n",
    "Logistic regression, while providing reasonable performance, was clearly the worst model in the group for this problem.\n",
    "\n",
    "Finally, from the RF classifier, we saw that step is the most important feature in terms of Gini importance, followed by whether the account of the originator was emptied or not and then the transaction type coming in last."
   ]
  }
 ],
 "metadata": {
  "kernelspec": {
   "display_name": "Python 3",
   "language": "python",
   "name": "python3"
  },
  "language_info": {
   "codemirror_mode": {
    "name": "ipython",
    "version": 3
   },
   "file_extension": ".py",
   "mimetype": "text/x-python",
   "name": "python",
   "nbconvert_exporter": "python",
   "pygments_lexer": "ipython3",
   "version": "3.8.5"
  }
 },
 "nbformat": 4,
 "nbformat_minor": 4
}
