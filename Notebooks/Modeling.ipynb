{
 "cells": [
  {
   "cell_type": "markdown",
   "metadata": {},
   "source": [
    "# Modeling"
   ]
  },
  {
   "cell_type": "code",
   "execution_count": 1,
   "metadata": {},
   "outputs": [],
   "source": [
    "#import necessary packages\n",
    "import numpy as np\n",
    "import pandas as pd\n",
    "import matplotlib.pyplot as plt\n",
    "from sklearn.linear_model import LogisticRegression\n",
    "from sklearn.ensemble import RandomForestClassifier\n",
    "from sklearn.svm import SVC\n",
    "from sklearn.pipeline import make_pipeline\n",
    "from sklearn.model_selection import cross_validate, GridSearchCV\n",
    "from sklearn.metrics import confusion_matrix, ConfusionMatrixDisplay, roc_curve, auc, plot_roc_curve, accuracy_score\n",
    "from sklearn.metrics import log_loss,f1_score, matthews_corrcoef, classification_report, plot_precision_recall_curve, precision_recall_curve\n",
    "from sklearn.model_selection import cross_val_score\n",
    "from sklearn.model_selection import TimeSeriesSplit"
   ]
  },
  {
   "cell_type": "markdown",
   "metadata": {},
   "source": [
    "### Load Data"
   ]
  },
  {
   "cell_type": "code",
   "execution_count": 2,
   "metadata": {},
   "outputs": [],
   "source": [
    "X_train = pd.read_csv('../data/Training_Data_Features.csv')\n",
    "X_test = pd.read_csv('../data/Testing_Data_Features.csv')\n",
    "y_train = pd.read_csv('../data/Training_Data_Labels.csv')\n",
    "y_test = pd.read_csv('../data/Testing_Data_Labels.csv')"
   ]
  },
  {
   "cell_type": "code",
   "execution_count": 4,
   "metadata": {},
   "outputs": [
    {
     "data": {
      "text/plain": [
       "isFraud    int64\n",
       "dtype: object"
      ]
     },
     "execution_count": 4,
     "metadata": {},
     "output_type": "execute_result"
    }
   ],
   "source": [
    "#check data type for label\n",
    "y_train.dtypes"
   ]
  },
  {
   "cell_type": "code",
   "execution_count": 4,
   "metadata": {},
   "outputs": [
    {
     "data": {
      "text/html": [
       "<div>\n",
       "<style scoped>\n",
       "    .dataframe tbody tr th:only-of-type {\n",
       "        vertical-align: middle;\n",
       "    }\n",
       "\n",
       "    .dataframe tbody tr th {\n",
       "        vertical-align: top;\n",
       "    }\n",
       "\n",
       "    .dataframe thead th {\n",
       "        text-align: right;\n",
       "    }\n",
       "</style>\n",
       "<table border=\"1\" class=\"dataframe\">\n",
       "  <thead>\n",
       "    <tr style=\"text-align: right;\">\n",
       "      <th></th>\n",
       "      <th>step</th>\n",
       "      <th>type_CASH_OUT</th>\n",
       "      <th>type_TRANSFER</th>\n",
       "      <th>drain_Orig_account_No</th>\n",
       "      <th>drain_Orig_account_Yes</th>\n",
       "      <th>amount_scaled</th>\n",
       "    </tr>\n",
       "  </thead>\n",
       "  <tbody>\n",
       "    <tr>\n",
       "      <th>0</th>\n",
       "      <td>202</td>\n",
       "      <td>1</td>\n",
       "      <td>0</td>\n",
       "      <td>1</td>\n",
       "      <td>0</td>\n",
       "      <td>0.579142</td>\n",
       "    </tr>\n",
       "    <tr>\n",
       "      <th>1</th>\n",
       "      <td>169</td>\n",
       "      <td>1</td>\n",
       "      <td>0</td>\n",
       "      <td>0</td>\n",
       "      <td>1</td>\n",
       "      <td>-1.604630</td>\n",
       "    </tr>\n",
       "    <tr>\n",
       "      <th>2</th>\n",
       "      <td>215</td>\n",
       "      <td>1</td>\n",
       "      <td>0</td>\n",
       "      <td>0</td>\n",
       "      <td>1</td>\n",
       "      <td>0.615045</td>\n",
       "    </tr>\n",
       "    <tr>\n",
       "      <th>3</th>\n",
       "      <td>526</td>\n",
       "      <td>1</td>\n",
       "      <td>0</td>\n",
       "      <td>0</td>\n",
       "      <td>1</td>\n",
       "      <td>0.215005</td>\n",
       "    </tr>\n",
       "    <tr>\n",
       "      <th>4</th>\n",
       "      <td>630</td>\n",
       "      <td>0</td>\n",
       "      <td>1</td>\n",
       "      <td>0</td>\n",
       "      <td>1</td>\n",
       "      <td>-1.668755</td>\n",
       "    </tr>\n",
       "  </tbody>\n",
       "</table>\n",
       "</div>"
      ],
      "text/plain": [
       "   step  type_CASH_OUT  type_TRANSFER  drain_Orig_account_No  \\\n",
       "0   202              1              0                      1   \n",
       "1   169              1              0                      0   \n",
       "2   215              1              0                      0   \n",
       "3   526              1              0                      0   \n",
       "4   630              0              1                      0   \n",
       "\n",
       "   drain_Orig_account_Yes  amount_scaled  \n",
       "0                       0       0.579142  \n",
       "1                       1      -1.604630  \n",
       "2                       1       0.615045  \n",
       "3                       1       0.215005  \n",
       "4                       1      -1.668755  "
      ]
     },
     "execution_count": 4,
     "metadata": {},
     "output_type": "execute_result"
    }
   ],
   "source": [
    "X_train.head()"
   ]
  },
  {
   "cell_type": "code",
   "execution_count": 3,
   "metadata": {},
   "outputs": [],
   "source": [
    "#convert to series\n",
    "y_train = y_train.iloc[:,0]\n",
    "y_test = y_test.iloc[:,0]"
   ]
  },
  {
   "cell_type": "markdown",
   "metadata": {},
   "source": [
    "# Logisitc Regression\n",
    "\n",
    "As classifiers go, logistic regression is a well-known and simple place to start. The model is robust to feature correlation and provides a probabilistic interpretation to the classification results.\n",
    "\n",
    "Below, we'll set up a logistic regression classifier on the training data."
   ]
  },
  {
   "cell_type": "code",
   "execution_count": 4,
   "metadata": {},
   "outputs": [
    {
     "data": {
      "text/plain": [
       "LogisticRegression(random_state=42)"
      ]
     },
     "execution_count": 4,
     "metadata": {},
     "output_type": "execute_result"
    }
   ],
   "source": [
    "log_mod = LogisticRegression(random_state=42)\n",
    "log_mod.fit(X_train,y_train)"
   ]
  },
  {
   "cell_type": "markdown",
   "metadata": {},
   "source": [
    "Let's see how well the model does (note we did no hyperparameter tuning at this point)"
   ]
  },
  {
   "cell_type": "code",
   "execution_count": 7,
   "metadata": {},
   "outputs": [
    {
     "data": {
      "text/plain": [
       "0.8094451208905896"
      ]
     },
     "execution_count": 7,
     "metadata": {},
     "output_type": "execute_result"
    }
   ],
   "source": [
    "log_mod.score(X_train,y_train)"
   ]
  },
  {
   "cell_type": "code",
   "execution_count": 8,
   "metadata": {},
   "outputs": [
    {
     "data": {
      "text/plain": [
       "<sklearn.metrics._plot.confusion_matrix.ConfusionMatrixDisplay at 0x1fc766754f0>"
      ]
     },
     "execution_count": 8,
     "metadata": {},
     "output_type": "execute_result"
    },
    {
     "data": {
      "image/png": "[encoded data removed]",
      "text/plain": [
       "<Figure size 432x288 with 2 Axes>"
      ]
     },
     "metadata": {
      "needs_background": "light"
     },
     "output_type": "display_data"
    }
   ],
   "source": [
    "y_pr_log = log_mod.predict(X_test)\n",
    "cm = confusion_matrix(y_test,y_pr_log,normalize='true')\n",
    "disp = ConfusionMatrixDisplay(cm)\n",
    "disp.plot()"
   ]
  },
  {
   "cell_type": "code",
   "execution_count": 9,
   "metadata": {},
   "outputs": [
    {
     "data": {
      "text/plain": [
       "0.8094561688311688"
      ]
     },
     "execution_count": 9,
     "metadata": {},
     "output_type": "execute_result"
    }
   ],
   "source": [
    "log_mod.score(X_test,y_test)"
   ]
  },
  {
   "cell_type": "markdown",
   "metadata": {},
   "source": [
    "Nice, 81% mean accuracy is not too bad for this completely balanced dataset. Also, the scores on the test and train datasets is very close, implying that the model did not overfit (possibly because the data is fairly simple and homogenous over thousands of samples)."
   ]
  },
  {
   "cell_type": "markdown",
   "metadata": {},
   "source": [
    "### What effect does \"step\" variable have in terms of model predictions?\n",
    "What would be the effect of removing step? In the \"real-world\", the time of day would likely play an important role in fraud prediction. Is that also the case for this dataset? During our EDA, we did see that fraud was uniformly occurring (except very early and near the end, where the fraud decreased). However, the legitimate transactions had strong heterogeneity in their occurrence. Let's remove step to see how it affects the score for the model above."
   ]
  },
  {
   "cell_type": "code",
   "execution_count": 15,
   "metadata": {},
   "outputs": [
    {
     "data": {
      "text/plain": [
       "0.7682205600974082"
      ]
     },
     "execution_count": 15,
     "metadata": {},
     "output_type": "execute_result"
    }
   ],
   "source": [
    "X_train_no_step = X_train.drop(columns='step')\n",
    "log_mod_no_step = LogisticRegression(random_state=42)\n",
    "log_mod_no_step.fit(X_train_no_step,y_train)\n",
    "log_mod_no_step.score(X_train_no_step,y_train)"
   ]
  },
  {
   "cell_type": "code",
   "execution_count": 16,
   "metadata": {},
   "outputs": [
    {
     "data": {
      "text/plain": [
       "<sklearn.metrics._plot.confusion_matrix.ConfusionMatrixDisplay at 0x1fc7bde88b0>"
      ]
     },
     "execution_count": 16,
     "metadata": {},
     "output_type": "execute_result"
    },
    {
     "data": {
      "image/png": "[encoded data removed]",
      "text/plain": [
       "<Figure size 432x288 with 2 Axes>"
      ]
     },
     "metadata": {
      "needs_background": "light"
     },
     "output_type": "display_data"
    }
   ],
   "source": [
    "X_test_no_step = X_test.drop(columns='step')\n",
    "y_pr_log_no_step = log_mod_no_step.predict(X_test_no_step)\n",
    "cm = confusion_matrix(y_test,y_pr_log_no_step,normalize='true')\n",
    "disp = ConfusionMatrixDisplay(cm)\n",
    "disp.plot()"
   ]
  },
  {
   "cell_type": "code",
   "execution_count": 17,
   "metadata": {},
   "outputs": [
    {
     "data": {
      "text/plain": [
       "0.7635957792207793"
      ]
     },
     "execution_count": 17,
     "metadata": {},
     "output_type": "execute_result"
    }
   ],
   "source": [
    "log_mod_no_step.score(X_test_no_step,y_test)"
   ]
  },
  {
   "cell_type": "markdown",
   "metadata": {},
   "source": [
    "It appears that step does improve the model predictions by about 5% mean accuracy. From the confusion matrix, we see that the area the model benefited from most with step is the avoiding false positives (upper-right quadrant of confusion matrix) and missing true negatives (upper-left quadrant). \n",
    "This makes sense, because the step provides data on where the legitimate transactions are concentrated. Without this information, the model overpredicts fraud."
   ]
  },
  {
   "cell_type": "markdown",
   "metadata": {},
   "source": [
    "## Time-Based Model Accuracy\n",
    "\n",
    "Typically, k-fold cross validation is the way that we access the performance of machine learning model and guard against overfitting. The process of randomly partitioning and fitting the model on n-1 folds and testing its performance on the remaining fold works well for predictions that can be assumed to be independent of time. However, when there is a temporal component to a problem where statistics can change with time, a time-based cross validation is usually a better assessment of the model’s performance. This approach allows us to capture how well the model does over different time periods. With time-based cross validation, the training data always comes from a time before the testing data, where this “sliding window” method trains and tests data at successive, equally spaced periods of time.\n",
    "\n",
    "As mentioned, the time-based cross validation approach is only necessary if the model’s performance depends strongly on the time interval. Let’s see if this is the case with our data. "
   ]
  },
  {
   "cell_type": "code",
   "execution_count": 252,
   "metadata": {},
   "outputs": [
    {
     "data": {
      "image/png": "[encoded data removed]",
      "text/plain": [
       "<Figure size 432x288 with 1 Axes>"
      ]
     },
     "metadata": {
      "needs_background": "light"
     },
     "output_type": "display_data"
    }
   ],
   "source": [
    "#calculate accuracy of logistic regression classifier on time-step sorted data over n intervals\n",
    "n=25\n",
    "scores=[]\n",
    "n_len = len(X_all)\n",
    "n_len_1 = int(n_len/n)\n",
    "start = 0\n",
    "end = n_len_1\n",
    "for i in range(0,n):\n",
    "    #print(start,end)\n",
    "    X_fold = X_all[start:end]\n",
    "    y_fold = y_all[start:end]\n",
    "    score = n_log_mod.score(X_fold,y_fold)\n",
    "    scores.append(score)\n",
    "    start = start + n_len_1 +1\n",
    "    end = end + n_len_1 +1\n",
    "plt.plot(scores)\n",
    "plt.xlabel('Time Series Fold')\n",
    "plt.ylabel('Model Accuracy')\n",
    "plt.show()"
   ]
  },
  {
   "cell_type": "code",
   "execution_count": 256,
   "metadata": {},
   "outputs": [
    {
     "data": {
      "text/plain": [
       "0.9668769716088328"
      ]
     },
     "execution_count": 256,
     "metadata": {},
     "output_type": "execute_result"
    }
   ],
   "source": [
    "np.max(scores)"
   ]
  },
  {
   "cell_type": "markdown",
   "metadata": {},
   "source": [
    "We see that the model does particularly well in the later time steps and poorly during the beginning and middle. Why is this? From the confusion matrix, we know that the logistic model does very well with classifying fraudulent transactions but less well when it comes to predicting legitimate transactions. Perhaps the variation in the model's peformance comes from the relative ratio of legitimate transactions in the test data."
   ]
  },
  {
   "cell_type": "code",
   "execution_count": 246,
   "metadata": {},
   "outputs": [
    {
     "data": {
      "image/png": "[encoded data removed]",
      "text/plain": [
       "<Figure size 432x288 with 1 Axes>"
      ]
     },
     "metadata": {
      "needs_background": "light"
     },
     "output_type": "display_data"
    }
   ],
   "source": [
    "n=25\n",
    "fracs_legit=[]\n",
    "n_len = len(X_all)\n",
    "n_len_1 = int(n_len/n)\n",
    "start = 0\n",
    "end = n_len_1\n",
    "for i in range(0,n):\n",
    "    #print(start,end)\n",
    "    y_fold = y_all[start:end]\n",
    "    frac_legit = len(y_fold[y_fold == 0]) / len(y_fold)\n",
    "    fracs_legit.append(frac_legit)\n",
    "    start = start + n_len_1 +1\n",
    "    end = end + n_len_1 +1\n",
    "plt.plot(fracs_legit)\n",
    "plt.xlabel('Time Series Fold')\n",
    "plt.ylabel('Fraction of legitimate Transactions')\n",
    "plt.show()"
   ]
  },
  {
   "cell_type": "code",
   "execution_count": 257,
   "metadata": {},
   "outputs": [
    {
     "data": {
      "image/png": "[encoded data removed]",
      "text/plain": [
       "<Figure size 432x288 with 1 Axes>"
      ]
     },
     "metadata": {
      "needs_background": "light"
     },
     "output_type": "display_data"
    }
   ],
   "source": [
    "plt.plot(scores,label='Model Accuracy')\n",
    "plt.plot(fracs_legit,label='Frac. Legit Transactions')\n",
    "plt.ylabel('Accuracy')\n",
    "plt.xlabel('Time Series Window')\n",
    "plt.legend()\n",
    "plt.show()"
   ]
  },
  {
   "cell_type": "code",
   "execution_count": 276,
   "metadata": {},
   "outputs": [
    {
     "data": {
      "image/png": "[encoded data removed]",
      "text/plain": [
       "<Figure size 432x288 with 1 Axes>"
      ]
     },
     "metadata": {
      "needs_background": "light"
     },
     "output_type": "display_data"
    }
   ],
   "source": [
    "#np.polyfit(fracs_legit,scores,deg=1)\n",
    "from scipy.stats import linregress\n",
    "from scipy import stats\n",
    "x=fracs_legit\n",
    "y=scores\n",
    "gradient, intercept, r_value, p_value, std_err = stats.linregress(x,y)\n",
    "mn=np.min(x)\n",
    "mx=np.max(x)\n",
    "x1=np.linspace(mn,mx,10)\n",
    "y1=gradient*x1+intercept\n",
    "plt.plot(x,y,'ob')\n",
    "plt.plot(x1,y1,'-r')\n",
    "plt.xlabel('Fraction of Legitimate Transactions per Window')\n",
    "plt.ylabel('Model Accuracy per Window')\n",
    "plt.show()"
   ]
  },
  {
   "cell_type": "code",
   "execution_count": 277,
   "metadata": {},
   "outputs": [
    {
     "data": {
      "text/plain": [
       "(-0.18636951799813445,\n",
       " 0.902783356808889,\n",
       " -0.5920929647809219,\n",
       " 0.0018201301174300601,\n",
       " 0.05289149864613866)"
      ]
     },
     "execution_count": 277,
     "metadata": {},
     "output_type": "execute_result"
    }
   ],
   "source": [
    "gradient, intercept, r_value, p_value, std_err"
   ]
  },
  {
   "cell_type": "code",
   "execution_count": 13,
   "metadata": {},
   "outputs": [
    {
     "data": {
      "image/png": "[encoded data removed]",
      "text/plain": [
       "<Figure size 432x288 with 1 Axes>"
      ]
     },
     "metadata": {
      "needs_background": "light"
     },
     "output_type": "display_data"
    }
   ],
   "source": [
    "# Create time-series cross-validation object\n",
    "cv = TimeSeriesSplit(n_splits=5)\n",
    "# Iterate through CV splits\n",
    "fig, ax = plt.subplots()\n",
    "for ii, (tr, tt) in enumerate(cv.split(X_train, y_train)):\n",
    "    # Plot the training data on each iteration, to see the behavior of the CV\n",
    "    ax.plot(tr, ii + y_train[tr])\n",
    "ax.set(title='Training data on each CV iteration', ylabel='CV iteration')\n",
    "plt.show()"
   ]
  },
  {
   "cell_type": "code",
   "execution_count": 74,
   "metadata": {},
   "outputs": [],
   "source": [
    "X_all = pd.read_csv('../data/Data_Features.csv')\n",
    "y_all = pd.read_csv('../data/Data_Labels.csv')"
   ]
  },
  {
   "cell_type": "code",
   "execution_count": 75,
   "metadata": {},
   "outputs": [],
   "source": [
    "all_vals = X_all.merge(y_all,left_index=True,right_index=True).sort_values(by='step')\n",
    "X_all = all_vals.drop(columns=['isFraud'])\n",
    "y_all = all_vals['isFraud']"
   ]
  },
  {
   "cell_type": "code",
   "execution_count": 96,
   "metadata": {},
   "outputs": [],
   "source": [
    "tscv = TimeSeriesSplit(n_splits=10)\n",
    "test_scores = []\n",
    "train_scores = []\n",
    "train_indices = []\n",
    "test_indices = []\n",
    "for train_index, test_index in tscv.split(X_all):\n",
    "    #print(\"TRAIN:\", train_index, \"TEST:\", test_index)\n",
    "    train_indices.append(train_index)\n",
    "    test_indices.append(test_index)\n",
    "    X_train_ts, X_test_ts = X_all.iloc[train_index], X_all.iloc[test_index]\n",
    "    y_train_ts, y_test_ts = y_all.iloc[train_index], y_all.iloc[test_index]\n",
    "    #fit model\n",
    "    log_mod.fit(X_train_ts,y_train_ts)\n",
    "    train_scores.append(log_mod.score(X_train_ts,y_train_ts))\n",
    "    test_scores.append(log_mod.score(X_test_ts,y_test_ts))\n",
    "    "
   ]
  },
  {
   "cell_type": "code",
   "execution_count": 97,
   "metadata": {},
   "outputs": [
    {
     "data": {
      "text/plain": [
       "[array([   0,    1,    2, ..., 1493, 1494, 1495]),\n",
       " array([   0,    1,    2, ..., 2986, 2987, 2988]),\n",
       " array([   0,    1,    2, ..., 4479, 4480, 4481]),\n",
       " array([   0,    1,    2, ..., 5972, 5973, 5974]),\n",
       " array([   0,    1,    2, ..., 7465, 7466, 7467]),\n",
       " array([   0,    1,    2, ..., 8958, 8959, 8960]),\n",
       " array([    0,     1,     2, ..., 10451, 10452, 10453]),\n",
       " array([    0,     1,     2, ..., 11944, 11945, 11946]),\n",
       " array([    0,     1,     2, ..., 13437, 13438, 13439]),\n",
       " array([    0,     1,     2, ..., 14930, 14931, 14932])]"
      ]
     },
     "execution_count": 97,
     "metadata": {},
     "output_type": "execute_result"
    }
   ],
   "source": [
    "train_indices"
   ]
  },
  {
   "cell_type": "code",
   "execution_count": 95,
   "metadata": {},
   "outputs": [
    {
     "data": {
      "image/png": "[encoded data removed]",
      "text/plain": [
       "<Figure size 432x288 with 1 Axes>"
      ]
     },
     "metadata": {
      "needs_background": "light"
     },
     "output_type": "display_data"
    }
   ],
   "source": [
    "plt.plot(train_scores,label='training scores')\n",
    "plt.plot(test_scores,label='testing scores')\n",
    "plt.xlabel('Time Series Split Fold')\n",
    "plt.ylabel('Accuracy')\n",
    "plt.legend()\n",
    "plt.show()"
   ]
  },
  {
   "cell_type": "code",
   "execution_count": 170,
   "metadata": {},
   "outputs": [],
   "source": [
    "def accuracy_empirical_distributions(n=1000):\n",
    "    '''\n",
    "    Bootstrap determination of logistic model accuracy for each time split\n",
    "    \n",
    "    Takes number of runs as input\n",
    "    \n",
    "    Training with the LogisticRegression(C=100,max_iter=1000,random_state=42) model since\n",
    "    performance is almost as good as LogisticRegression(C=0.1, l1_ratio=0.1, max_iter=10000, penalty='elasticnet',\n",
    "    random_state=42, solver='saga') model, but training is much quicker!\n",
    "    '''\n",
    "    accuracy_array_list = []\n",
    "    for cv in range(0,6):\n",
    "        X_train_ts, X_test_ts = X_all.iloc[train_indices[cv]], X_all.iloc[test_indices[cv]]\n",
    "        y_train_ts, y_test_ts = y_all.iloc[train_indices[cv]], y_all.iloc[test_indices[cv]]\n",
    "        accuracy_array = []\n",
    "        for i in range(0,n):\n",
    "            bs_sample = np.random.choice(X_train_ts.index, size=len(X_train_ts))\n",
    "            X_bs = X_train_ts.loc[bs_sample]\n",
    "            y_bs = y_train_ts.loc[bs_sample]\n",
    "            n_log_mod = LogisticRegression(C=100,max_iter=1000,random_state=42)\n",
    "            n_log_mod.fit(X_bs,y_bs)\n",
    "            accuracy_array.append(n_log_mod.score(X_test_ts,y_test_ts))\n",
    "        accuracy_array_list.append(accuracy_array)\n",
    "    return(accuracy_array_list)"
   ]
  },
  {
   "cell_type": "code",
   "execution_count": 171,
   "metadata": {},
   "outputs": [],
   "source": [
    "accuracy_array_return = accuracy_empirical_distributions()"
   ]
  },
  {
   "cell_type": "code",
   "execution_count": 175,
   "metadata": {},
   "outputs": [],
   "source": [
    "accuracy_means = [np.mean(x) for x in accuracy_array_return]\n",
    "accuracy_ci = [2*np.std(x) for x in accuracy_array_return]"
   ]
  },
  {
   "cell_type": "code",
   "execution_count": 191,
   "metadata": {},
   "outputs": [
    {
     "data": {
      "text/plain": [
       "Text(0.5, 0, 'Time Series Split Fold')"
      ]
     },
     "execution_count": 191,
     "metadata": {},
     "output_type": "execute_result"
    },
    {
     "data": {
      "image/png": "[encoded data removed]",
      "text/plain": [
       "<Figure size 432x288 with 1 Axes>"
      ]
     },
     "metadata": {
      "needs_background": "light"
     },
     "output_type": "display_data"
    }
   ],
   "source": [
    "plt.plot(accuracy_means)\n",
    "plt.errorbar(x=range(0,len(accuracy_ci)),y=accuracy_means,yerr=accuracy_ci,color='black',ecolor='black',capsize=5)\n",
    "plt.ylabel('Accuracy')\n",
    "plt.xlabel('Time Series Split Fold')"
   ]
  },
  {
   "cell_type": "markdown",
   "metadata": {},
   "source": [
    "### ROC Curve\n",
    "Keeping step in the model, let's plot the ROC curve."
   ]
  },
  {
   "cell_type": "code",
   "execution_count": 19,
   "metadata": {},
   "outputs": [],
   "source": [
    "#get false positive and true postive rates with predicted probabilities from log_mod\n",
    "fpr, tpr, thresholds = roc_curve(y_test,log_mod.predict_proba(X_test)[:,1])"
   ]
  },
  {
   "cell_type": "code",
   "execution_count": 20,
   "metadata": {},
   "outputs": [
    {
     "data": {
      "text/plain": [
       "0.893"
      ]
     },
     "execution_count": 20,
     "metadata": {},
     "output_type": "execute_result"
    }
   ],
   "source": [
    "area_under_curve = round(auc(fpr,tpr),3)\n",
    "area_under_curve"
   ]
  },
  {
   "cell_type": "code",
   "execution_count": 72,
   "metadata": {},
   "outputs": [
    {
     "data": {
      "text/plain": [
       "<sklearn.metrics._plot.roc_curve.RocCurveDisplay at 0x1dbbd4cb8e0>"
      ]
     },
     "execution_count": 72,
     "metadata": {},
     "output_type": "execute_result"
    },
    {
     "data": {
      "image/png": "[encoded data removed]",
      "text/plain": [
       "<Figure size 432x288 with 1 Axes>"
      ]
     },
     "metadata": {
      "needs_background": "light"
     },
     "output_type": "display_data"
    }
   ],
   "source": [
    "plot_roc_curve(log_mod, X_test, y_test,response_method='predict_proba')"
   ]
  },
  {
   "cell_type": "markdown",
   "metadata": {},
   "source": [
    "An AUC of 0.89 is great! Of course, we also want to use the amount of money lost assessing the model's success. If the model is not able to detect fraud with high dollar amounts, or is equally likely to misclassify high and low dollar fraud, then this would not be desirable. "
   ]
  },
  {
   "cell_type": "markdown",
   "metadata": {},
   "source": [
    "### Grid search with cross validation for hyperparameter tuning"
   ]
  },
  {
   "cell_type": "markdown",
   "metadata": {},
   "source": [
    "Allow for l1 or l2 penalty with liblinear solver and range of regularization strengths."
   ]
  },
  {
   "cell_type": "code",
   "execution_count": 39,
   "metadata": {},
   "outputs": [
    {
     "data": {
      "text/plain": [
       "0.8088452548882323"
      ]
     },
     "execution_count": 39,
     "metadata": {},
     "output_type": "execute_result"
    }
   ],
   "source": [
    "Cs = [0.001, 0.1, 1, 10, 100]\n",
    "pnlty = ['l2','l1']\n",
    "slvr = ['liblinear']\n",
    "param_grid = {'penalty':pnlty,'C': Cs, 'solver' : slvr}\n",
    "\n",
    "log_mod_gs = GridSearchCV(log_mod,param_grid,cv=5)\n",
    "\n",
    "#fit data\n",
    "log_mod_gs.fit(X_test,y_test)\n",
    "log_mod_gs.best_score_"
   ]
  },
  {
   "cell_type": "code",
   "execution_count": 40,
   "metadata": {},
   "outputs": [
    {
     "data": {
      "text/plain": [
       "LogisticRegression(C=0.1, random_state=42, solver='liblinear')"
      ]
     },
     "execution_count": 40,
     "metadata": {},
     "output_type": "execute_result"
    }
   ],
   "source": [
    "log_mod_gs.best_estimator_"
   ]
  },
  {
   "cell_type": "markdown",
   "metadata": {},
   "source": [
    "Keep default penalty and solver with more iterations added and range of regularization strengths."
   ]
  },
  {
   "cell_type": "code",
   "execution_count": 138,
   "metadata": {},
   "outputs": [
    {
     "data": {
      "text/plain": [
       "0.8092513462587906"
      ]
     },
     "execution_count": 138,
     "metadata": {},
     "output_type": "execute_result"
    }
   ],
   "source": [
    "Cs = [0.001, 0.1, 1, 10, 100]\n",
    "pnlty = ['l2']\n",
    "slvr = ['lbfgs']\n",
    "mx_iter = [1000]\n",
    "param_grid = {'penalty':pnlty,'C': Cs, 'solver' : slvr,'max_iter':mx_iter}\n",
    "\n",
    "log_mod_gs = GridSearchCV(log_mod,param_grid,cv=5)\n",
    "\n",
    "#fit data\n",
    "log_mod_gs.fit(X_test,y_test)\n",
    "log_mod_gs.best_score_"
   ]
  },
  {
   "cell_type": "code",
   "execution_count": 139,
   "metadata": {},
   "outputs": [
    {
     "data": {
      "text/plain": [
       "LogisticRegression(C=100, max_iter=1000, random_state=42)"
      ]
     },
     "execution_count": 139,
     "metadata": {},
     "output_type": "execute_result"
    }
   ],
   "source": [
    "log_mod_gs.best_estimator_"
   ]
  },
  {
   "cell_type": "code",
   "execution_count": 141,
   "metadata": {},
   "outputs": [
    {
     "data": {
      "text/plain": [
       "array([[ 0.00325436, -1.28171206,  0.19225175, -2.6670484 ,  1.57758809,\n",
       "         0.36963756]])"
      ]
     },
     "execution_count": 141,
     "metadata": {},
     "output_type": "execute_result"
    }
   ],
   "source": [
    "log_mod_best_2 = LogisticRegression(C=100, max_iter=1000, random_state=42)\n",
    "log_mod_best_2.fit(X_train,y_train)\n",
    "log_mod_best_2.coef_"
   ]
  },
  {
   "cell_type": "markdown",
   "metadata": {},
   "source": [
    "Change to elastic net penalty and also vary l1 ratios with saga solver."
   ]
  },
  {
   "cell_type": "code",
   "execution_count": 25,
   "metadata": {},
   "outputs": [
    {
     "data": {
      "text/plain": [
       "0.8116862470526456"
      ]
     },
     "execution_count": 25,
     "metadata": {},
     "output_type": "execute_result"
    }
   ],
   "source": [
    "Cs = [0.001, 0.1, 1, 10, 100]\n",
    "l1 = [0,0.1,0.5,1]\n",
    "pnlty = ['elasticnet']\n",
    "slvr = ['saga']\n",
    "mx_iter = [10000]\n",
    "param_grid = {'penalty':pnlty,'C': Cs, 'solver' : slvr,'max_iter':mx_iter,'l1_ratio':l1}\n",
    "\n",
    "log_mod_gs = GridSearchCV(log_mod,param_grid,cv=5)\n",
    "\n",
    "#fit data\n",
    "log_mod_gs.fit(X_test,y_test)\n",
    "log_mod_gs.best_score_"
   ]
  },
  {
   "cell_type": "code",
   "execution_count": 26,
   "metadata": {},
   "outputs": [
    {
     "data": {
      "text/plain": [
       "LogisticRegression(C=0.1, l1_ratio=0.1, max_iter=10000, penalty='elasticnet',\n",
       "                   random_state=42, solver='saga')"
      ]
     },
     "execution_count": 26,
     "metadata": {},
     "output_type": "execute_result"
    }
   ],
   "source": [
    "log_mod_gs.best_estimator_"
   ]
  },
  {
   "cell_type": "code",
   "execution_count": 27,
   "metadata": {},
   "outputs": [
    {
     "data": {
      "text/plain": [
       "(0.8113584971299357, 0.8120941558441559)"
      ]
     },
     "execution_count": 27,
     "metadata": {},
     "output_type": "execute_result"
    }
   ],
   "source": [
    "log_mod_gs.score(X_train,y_train), log_mod_gs.score(X_test,y_test)"
   ]
  },
  {
   "cell_type": "markdown",
   "metadata": {},
   "source": [
    "From the three grid searches above, it appears that no significant gains are to be had by hyperparameter tuning for this logistic model. The best mean accuracy is still about 81%. Both train and test scores are very similar, suggesting no over-fitting."
   ]
  },
  {
   "cell_type": "code",
   "execution_count": 33,
   "metadata": {},
   "outputs": [
    {
     "data": {
      "text/plain": [
       "array([[ 0.00300864, -1.11747313,  0.2312698 , -2.2142325 ,  1.32802913,\n",
       "         0.34412942]])"
      ]
     },
     "execution_count": 33,
     "metadata": {},
     "output_type": "execute_result"
    }
   ],
   "source": [
    "log_mod_best = LogisticRegression(C=0.1, l1_ratio=0.1, max_iter=10000, penalty='elasticnet',\n",
    "                   random_state=42, solver='saga')\n",
    "\n",
    "log_mod_best.fit(X_train,y_train)"
   ]
  },
  {
   "cell_type": "code",
   "execution_count": 41,
   "metadata": {},
   "outputs": [
    {
     "name": "stdout",
     "output_type": "stream",
     "text": [
      "[[ 0.00300864 -1.11747313  0.2312698  -2.2142325   1.32802913  0.34412942]]\n"
     ]
    }
   ],
   "source": [
    "print(log_mod_best.coef_)"
   ]
  },
  {
   "cell_type": "code",
   "execution_count": 127,
   "metadata": {},
   "outputs": [],
   "source": [
    "def coefficient_empirical_distributions(n=1000):\n",
    "    '''\n",
    "    Bootstrap determination of logistic model coefficents\n",
    "    \n",
    "    Takes number of runs as input\n",
    "    \n",
    "    Training with the LogisticRegression(C=100,max_iter=1000,random_state=42) model since\n",
    "    performance is almost as good as LogisticRegression(C=0.1, l1_ratio=0.1, max_iter=10000, penalty='elasticnet',\n",
    "    random_state=42, solver='saga') model, but training is much quicker!\n",
    "    '''\n",
    "    coef_array = []\n",
    "    for i in range(0,n):\n",
    "        bs_sample = np.random.choice(X_train.index, size=len(X_train))\n",
    "        X_bs = X_train.iloc[bs_sample]\n",
    "        y_bs = y_train.iloc[bs_sample]\n",
    "        n_log_mod = LogisticRegression(C=100,max_iter=1000,random_state=42)\n",
    "        n_log_mod.fit(X_bs,y_bs)\n",
    "        coef_array.extend(n_log_mod.coef_.tolist())\n",
    "    return(coef_array)"
   ]
  },
  {
   "cell_type": "code",
   "execution_count": 129,
   "metadata": {},
   "outputs": [],
   "source": [
    "coefs = coefficient_empirical_distributions()"
   ]
  },
  {
   "cell_type": "code",
   "execution_count": 142,
   "metadata": {},
   "outputs": [
    {
     "data": {
      "text/html": [
       "<div>\n",
       "<style scoped>\n",
       "    .dataframe tbody tr th:only-of-type {\n",
       "        vertical-align: middle;\n",
       "    }\n",
       "\n",
       "    .dataframe tbody tr th {\n",
       "        vertical-align: top;\n",
       "    }\n",
       "\n",
       "    .dataframe thead th {\n",
       "        text-align: right;\n",
       "    }\n",
       "</style>\n",
       "<table border=\"1\" class=\"dataframe\">\n",
       "  <thead>\n",
       "    <tr style=\"text-align: right;\">\n",
       "      <th></th>\n",
       "      <th>step</th>\n",
       "      <th>type_CASH_OUT</th>\n",
       "      <th>type_TRANSFER</th>\n",
       "      <th>drain_Orig_account_No</th>\n",
       "      <th>drain_Orig_account_Yes</th>\n",
       "      <th>amount_scaled</th>\n",
       "    </tr>\n",
       "  </thead>\n",
       "  <tbody>\n",
       "    <tr>\n",
       "      <th>0</th>\n",
       "      <td>0.003495</td>\n",
       "      <td>-1.270509</td>\n",
       "      <td>0.123990</td>\n",
       "      <td>-2.689833</td>\n",
       "      <td>1.543314</td>\n",
       "      <td>0.353092</td>\n",
       "    </tr>\n",
       "    <tr>\n",
       "      <th>1</th>\n",
       "      <td>0.003302</td>\n",
       "      <td>-1.375481</td>\n",
       "      <td>0.286264</td>\n",
       "      <td>-2.712139</td>\n",
       "      <td>1.622921</td>\n",
       "      <td>0.377500</td>\n",
       "    </tr>\n",
       "    <tr>\n",
       "      <th>2</th>\n",
       "      <td>0.003312</td>\n",
       "      <td>-1.252039</td>\n",
       "      <td>0.149144</td>\n",
       "      <td>-2.697352</td>\n",
       "      <td>1.594457</td>\n",
       "      <td>0.373358</td>\n",
       "    </tr>\n",
       "    <tr>\n",
       "      <th>3</th>\n",
       "      <td>0.003457</td>\n",
       "      <td>-1.302556</td>\n",
       "      <td>0.161630</td>\n",
       "      <td>-2.726785</td>\n",
       "      <td>1.585860</td>\n",
       "      <td>0.386442</td>\n",
       "    </tr>\n",
       "    <tr>\n",
       "      <th>4</th>\n",
       "      <td>0.003133</td>\n",
       "      <td>-1.302024</td>\n",
       "      <td>0.230291</td>\n",
       "      <td>-2.672281</td>\n",
       "      <td>1.600549</td>\n",
       "      <td>0.334250</td>\n",
       "    </tr>\n",
       "  </tbody>\n",
       "</table>\n",
       "</div>"
      ],
      "text/plain": [
       "       step  type_CASH_OUT  type_TRANSFER  drain_Orig_account_No  \\\n",
       "0  0.003495      -1.270509       0.123990              -2.689833   \n",
       "1  0.003302      -1.375481       0.286264              -2.712139   \n",
       "2  0.003312      -1.252039       0.149144              -2.697352   \n",
       "3  0.003457      -1.302556       0.161630              -2.726785   \n",
       "4  0.003133      -1.302024       0.230291              -2.672281   \n",
       "\n",
       "   drain_Orig_account_Yes  amount_scaled  \n",
       "0                1.543314       0.353092  \n",
       "1                1.622921       0.377500  \n",
       "2                1.594457       0.373358  \n",
       "3                1.585860       0.386442  \n",
       "4                1.600549       0.334250  "
      ]
     },
     "execution_count": 142,
     "metadata": {},
     "output_type": "execute_result"
    }
   ],
   "source": [
    "coef_df = pd.DataFrame(coefs,columns=['step','type_CASH_OUT','type_TRANSFER','drain_Orig_account_No',\n",
    "                                      'drain_Orig_account_Yes','amount_scaled'])\n",
    "coef_df.head()"
   ]
  },
  {
   "cell_type": "code",
   "execution_count": 149,
   "metadata": {},
   "outputs": [
    {
     "data": {
      "text/plain": [
       "array([[<AxesSubplot:title={'center':'step'}>,\n",
       "        <AxesSubplot:title={'center':'type_CASH_OUT'}>],\n",
       "       [<AxesSubplot:title={'center':'type_TRANSFER'}>,\n",
       "        <AxesSubplot:title={'center':'drain_Orig_account_No'}>],\n",
       "       [<AxesSubplot:title={'center':'drain_Orig_account_Yes'}>,\n",
       "        <AxesSubplot:title={'center':'amount_scaled'}>]], dtype=object)"
      ]
     },
     "execution_count": 149,
     "metadata": {},
     "output_type": "execute_result"
    },
    {
     "data": {
      "image/png": "[encoded data removed]",
      "text/plain": [
       "<Figure size 720x720 with 6 Axes>"
      ]
     },
     "metadata": {
      "needs_background": "light"
     },
     "output_type": "display_data"
    }
   ],
   "source": [
    "#plot of estimated coefficient values from bootstrapped samples fitted to logistic regression model\n",
    "coef_df.hist(figsize=(10,10))"
   ]
  },
  {
   "cell_type": "code",
   "execution_count": 153,
   "metadata": {},
   "outputs": [
    {
     "data": {
      "text/html": [
       "<div>\n",
       "<style scoped>\n",
       "    .dataframe tbody tr th:only-of-type {\n",
       "        vertical-align: middle;\n",
       "    }\n",
       "\n",
       "    .dataframe tbody tr th {\n",
       "        vertical-align: top;\n",
       "    }\n",
       "\n",
       "    .dataframe thead th {\n",
       "        text-align: right;\n",
       "    }\n",
       "</style>\n",
       "<table border=\"1\" class=\"dataframe\">\n",
       "  <thead>\n",
       "    <tr style=\"text-align: right;\">\n",
       "      <th></th>\n",
       "      <th>step</th>\n",
       "      <th>type_CASH_OUT</th>\n",
       "      <th>type_TRANSFER</th>\n",
       "      <th>drain_Orig_account_No</th>\n",
       "      <th>drain_Orig_account_Yes</th>\n",
       "      <th>amount_scaled</th>\n",
       "    </tr>\n",
       "  </thead>\n",
       "  <tbody>\n",
       "    <tr>\n",
       "      <th>0.01</th>\n",
       "      <td>0.002959</td>\n",
       "      <td>-1.373842</td>\n",
       "      <td>0.118406</td>\n",
       "      <td>-2.805243</td>\n",
       "      <td>1.491057</td>\n",
       "      <td>0.326832</td>\n",
       "    </tr>\n",
       "    <tr>\n",
       "      <th>0.99</th>\n",
       "      <td>0.003568</td>\n",
       "      <td>-1.201032</td>\n",
       "      <td>0.272883</td>\n",
       "      <td>-2.546273</td>\n",
       "      <td>1.672308</td>\n",
       "      <td>0.417037</td>\n",
       "    </tr>\n",
       "  </tbody>\n",
       "</table>\n",
       "</div>"
      ],
      "text/plain": [
       "          step  type_CASH_OUT  type_TRANSFER  drain_Orig_account_No  \\\n",
       "0.01  0.002959      -1.373842       0.118406              -2.805243   \n",
       "0.99  0.003568      -1.201032       0.272883              -2.546273   \n",
       "\n",
       "      drain_Orig_account_Yes  amount_scaled  \n",
       "0.01                1.491057       0.326832  \n",
       "0.99                1.672308       0.417037  "
      ]
     },
     "execution_count": 153,
     "metadata": {},
     "output_type": "execute_result"
    }
   ],
   "source": [
    "#get 1st and 99th percentiles for distribution of coefficients\n",
    "coef_df.quantile([0.01,0.99])"
   ]
  },
  {
   "cell_type": "markdown",
   "metadata": {},
   "source": [
    "Based on the coefficients of the logistic model, the step, type_TRANSFER, drain_Orig_account_Yes, and amount scaled are correlated with a fraudulent transaction, whereas type_CASH_OUT and drain_Orig_account_No are negatively correlated with fraud.\n",
    "\n",
    "From a simulation of 1000 bootstrapped samples used to fit the same logistic regression model, inspection of the histogram plots of the coefficients and the table of 1st to 99th percentile ranges of each coefficent distribution in the table above indicate that they are all statistically significant at p = ~0."
   ]
  },
  {
   "cell_type": "markdown",
   "metadata": {},
   "source": [
    "# Random Forest Classifer\n",
    "\n",
    "The random forest ensemble classifier is one of the most versatile and robust out-of-the-box classifiers in existence today. They are typically easy to tune and hard to overfit relative to gradient boosting, and the method is very easy to parallelize. Let's try it out on our dataset! "
   ]
  },
  {
   "cell_type": "code",
   "execution_count": 14,
   "metadata": {},
   "outputs": [],
   "source": [
    "#random forest with default parameters\n",
    "rf_mod = RandomForestClassifier(random_state=42,n_jobs=-1)"
   ]
  },
  {
   "cell_type": "code",
   "execution_count": null,
   "metadata": {},
   "outputs": [],
   "source": [
    "rf_mod.fit(X_train,y_train)\n",
    "y_pred_rf = rf_mod.predict(X_test)"
   ]
  },
  {
   "cell_type": "code",
   "execution_count": 248,
   "metadata": {},
   "outputs": [
    {
     "data": {
      "text/plain": [
       "1.0"
      ]
     },
     "execution_count": 248,
     "metadata": {},
     "output_type": "execute_result"
    }
   ],
   "source": [
    "#training error without cross-validation\n",
    "rf_mod.score(X_train,y_train)"
   ]
  },
  {
   "cell_type": "markdown",
   "metadata": {},
   "source": [
    "The train accuracy is 100%! What about if we use cross-validation?"
   ]
  },
  {
   "cell_type": "code",
   "execution_count": 198,
   "metadata": {},
   "outputs": [
    {
     "name": "stdout",
     "output_type": "stream",
     "text": [
      "[0.89478261 0.88       0.88652174 0.88081775 0.88864724]\n",
      "0.8861538665204153\n"
     ]
    }
   ],
   "source": [
    "#training data error with cv\n",
    "cv_rf_tr = cross_val_score(rf_mod, X_train, y_train, cv=5)\n",
    "print(cv_rf_tr)\n",
    "print(cv_rf_tr.mean())"
   ]
  },
  {
   "cell_type": "markdown",
   "metadata": {},
   "source": [
    "So, with cv the accuracy on the training set is around 89%.  The cross-validated scores give us a much better idea of how the model will perform in \"real life\". However, what's really important is the score on the test data."
   ]
  },
  {
   "cell_type": "code",
   "execution_count": 189,
   "metadata": {},
   "outputs": [
    {
     "name": "stdout",
     "output_type": "stream",
     "text": [
      "[0.87018256 0.87221095 0.86916836 0.89238579 0.9035533 ]\n",
      "0.8815001904840354\n"
     ]
    }
   ],
   "source": [
    "#testing data error with cv\n",
    "cv_rf_tst = cross_val_score(rf_mod, X_test, y_test, cv=5)\n",
    "print(cv_rf_tst)\n",
    "print(cv_rf_tst.mean())"
   ]
  },
  {
   "cell_type": "code",
   "execution_count": 199,
   "metadata": {},
   "outputs": [
    {
     "data": {
      "text/plain": [
       "<sklearn.metrics._plot.confusion_matrix.ConfusionMatrixDisplay at 0x1dbbfda09a0>"
      ]
     },
     "execution_count": 199,
     "metadata": {},
     "output_type": "execute_result"
    },
    {
     "data": {
      "image/png": "[encoded data removed]",
      "text/plain": [
       "<Figure size 432x288 with 2 Axes>"
      ]
     },
     "metadata": {
      "needs_background": "light"
     },
     "output_type": "display_data"
    }
   ],
   "source": [
    "cm = confusion_matrix(y_test, y_pred_rf,normalize='true')\n",
    "disp = ConfusionMatrixDisplay(cm)\n",
    "disp.plot()"
   ]
  },
  {
   "cell_type": "code",
   "execution_count": 200,
   "metadata": {},
   "outputs": [
    {
     "data": {
      "text/plain": [
       "0.957"
      ]
     },
     "execution_count": 200,
     "metadata": {},
     "output_type": "execute_result"
    }
   ],
   "source": [
    "fpr, tpr, thresholds = roc_curve(y_test,rf_mod.predict_proba(X_test)[:,1])\n",
    "area_under_curve = round(auc(fpr,tpr),3)\n",
    "area_under_curve"
   ]
  },
  {
   "cell_type": "markdown",
   "metadata": {},
   "source": [
    "Even without any hyperparameter tuning, the random forest model outperforms even the best logistic regression model so far! Both true positives and true negatives predictions are around 90% accurate, and overall mean accuracy is about 88% (compared to about 81% for the logistic regression model). The area under the ROC curve is also close to 0.96 for the random forest, compared to the 0.89 for the logistic model. Clearly, random forest is a better model for the classification of fraudulent transactions."
   ]
  },
  {
   "cell_type": "markdown",
   "metadata": {},
   "source": [
    "#### Log Loss\n",
    "Let's try log loss as another evaluation metric"
   ]
  },
  {
   "cell_type": "code",
   "execution_count": 158,
   "metadata": {},
   "outputs": [
    {
     "data": {
      "text/plain": [
       "0.40529049945924056"
      ]
     },
     "execution_count": 158,
     "metadata": {},
     "output_type": "execute_result"
    }
   ],
   "source": [
    "#random forest log loss\n",
    "rf_log_loss = log_loss(y_test, rf_mod.predict_proba(X_test)[:,1])\n",
    "rf_log_loss"
   ]
  },
  {
   "cell_type": "code",
   "execution_count": 117,
   "metadata": {},
   "outputs": [
    {
     "data": {
      "text/plain": [
       "0.3958530149181658"
      ]
     },
     "execution_count": 117,
     "metadata": {},
     "output_type": "execute_result"
    }
   ],
   "source": [
    "#logistic regression log loss\n",
    "log_log_loss = log_loss(y_test,log_mod.predict_proba(X_test)[:,1])\n",
    "log_log_loss"
   ]
  },
  {
   "cell_type": "markdown",
   "metadata": {},
   "source": [
    "Interstingly, the logarithmic model has a slightly lower log loss compared to the random forest. This implies that the random forest model's was more certain of its incorrect classifications as compared to the logistic model. "
   ]
  },
  {
   "cell_type": "markdown",
   "metadata": {},
   "source": [
    "#### Matthews correlation coefficient"
   ]
  },
  {
   "cell_type": "code",
   "execution_count": 120,
   "metadata": {},
   "outputs": [
    {
     "data": {
      "text/plain": [
       "0.5438029449773948"
      ]
     },
     "execution_count": 120,
     "metadata": {},
     "output_type": "execute_result"
    }
   ],
   "source": [
    "#logistic regression\n",
    "matthews_corrcoef(y_test, y_pr_log)"
   ]
  },
  {
   "cell_type": "code",
   "execution_count": 159,
   "metadata": {},
   "outputs": [
    {
     "data": {
      "text/plain": [
       "0.7746053697138746"
      ]
     },
     "execution_count": 159,
     "metadata": {},
     "output_type": "execute_result"
    }
   ],
   "source": [
    "#random forest\n",
    "matthews_corrcoef(y_test, y_pred_rf)"
   ]
  },
  {
   "cell_type": "markdown",
   "metadata": {},
   "source": [
    "The MCC takes into account all quadrants of the confusion matrix (true positive, false positive, true negative, and false negative). The metric is independent of the positive/negative label (i.e., they can be swapped without affecting the MCC), and is hence better than the F1 score for binary classification.\n",
    "\n",
    "Here, we notice that the MCC is significantly better for the random forest model compared to logistic regression."
   ]
  },
  {
   "cell_type": "markdown",
   "metadata": {},
   "source": [
    "### Grid Search with Random Forest"
   ]
  },
  {
   "cell_type": "code",
   "execution_count": 249,
   "metadata": {},
   "outputs": [
    {
     "data": {
      "text/plain": [
       "0.8896321273899804"
      ]
     },
     "execution_count": 249,
     "metadata": {},
     "output_type": "execute_result"
    }
   ],
   "source": [
    "n_est = [10,100,1000]\n",
    "crtrn = ['gini','entropy']\n",
    "mxdpth = [None,2,5,10,20]\n",
    "param_grid = {'n_estimators':n_est,'criterion': crtrn, 'max_depth' : mxdpth}\n",
    "\n",
    "rf_mod_gs = GridSearchCV(rf_mod,param_grid,cv=5)\n",
    "\n",
    "#fit data\n",
    "rf_mod_gs.fit(X_train,y_train)\n",
    "rf_mod_gs.best_score_"
   ]
  },
  {
   "cell_type": "code",
   "execution_count": 251,
   "metadata": {},
   "outputs": [
    {
     "data": {
      "text/plain": [
       "0.890625"
      ]
     },
     "execution_count": 251,
     "metadata": {},
     "output_type": "execute_result"
    }
   ],
   "source": [
    "rf_mod_gs.score(X_test,y_test)"
   ]
  },
  {
   "cell_type": "markdown",
   "metadata": {},
   "source": [
    "The grid search very slightly improved the mean classification accuracy of the random forest model by about 1 percent when varying the number of estimators, the purity gain criterion, and the maximum depth of the trees relative to the default values.\n",
    "\n",
    "The best parameters are listed below:"
   ]
  },
  {
   "cell_type": "code",
   "execution_count": 250,
   "metadata": {},
   "outputs": [
    {
     "data": {
      "text/plain": [
       "{'criterion': 'gini', 'max_depth': 20, 'n_estimators': 100}"
      ]
     },
     "execution_count": 250,
     "metadata": {},
     "output_type": "execute_result"
    }
   ],
   "source": [
    "rf_mod_gs.best_params_"
   ]
  },
  {
   "cell_type": "markdown",
   "metadata": {},
   "source": [
    "## Effect of varying min samples to split node on random forest model accuracy"
   ]
  },
  {
   "cell_type": "code",
   "execution_count": 191,
   "metadata": {},
   "outputs": [
    {
     "data": {
      "image/png": "[encoded data removed]",
      "text/plain": [
       "<Figure size 432x288 with 1 Axes>"
      ]
     },
     "metadata": {
      "needs_background": "light"
     },
     "output_type": "display_data"
    }
   ],
   "source": [
    "#code below taken from https://medium.com/all-things-ai/in-depth-parameter-tuning-for-random-forest-d67bb7e920d\n",
    "min_splits = np.linspace(2, 32, 32, endpoint=True)\n",
    "train_results = []\n",
    "test_results = []\n",
    "for min_split in min_splits:\n",
    "   rf = RandomForestClassifier(min_samples_split=int(min_split), random_state=42, n_jobs=-1)\n",
    "   rf.fit(X_train, y_train)\n",
    "   train_pred = rf.predict(X_train)\n",
    "   false_positive_rate, true_positive_rate, thresholds = roc_curve(y_train, train_pred)\n",
    "   roc_auc = auc(false_positive_rate, true_positive_rate)\n",
    "   train_results.append(roc_auc)\n",
    "   y_pred = rf.predict(X_test)\n",
    "   false_positive_rate, true_positive_rate, thresholds = roc_curve(y_test, y_pred)\n",
    "   roc_auc = auc(false_positive_rate, true_positive_rate)\n",
    "   test_results.append(roc_auc)\n",
    "from matplotlib.legend_handler import HandlerLine2D\n",
    "line1, = plt.plot(min_splits, train_results, 'b', label=\"Train AUC\")\n",
    "line2, = plt.plot(min_splits, test_results, 'r', label=\"Test AUC\")\n",
    "plt.legend(handler_map={line1: HandlerLine2D(numpoints=2)})\n",
    "plt.ylabel('AUC score')\n",
    "plt.xlabel('Min Samples for Split')\n",
    "plt.show()"
   ]
  },
  {
   "cell_type": "markdown",
   "metadata": {},
   "source": [
    "At smaller minimum samples required for a split, the random forest model seemed to be overfitting. This makes sense, since if we increase this number then there is a reduced chance for the forest to fit to noise in the data. \n",
    "Recall, with min samples required for splitting set at 2, we at 100% accuracy with the training data, but under 89% with test data. \n",
    "\n",
    "It looks like around min samples for split of 15, we maximize the test AUC."
   ]
  },
  {
   "cell_type": "code",
   "execution_count": 16,
   "metadata": {},
   "outputs": [
    {
     "data": {
      "text/plain": [
       "0.8946773455377575"
      ]
     },
     "execution_count": 16,
     "metadata": {},
     "output_type": "execute_result"
    }
   ],
   "source": [
    "#random forest grid search including min_samples_split\n",
    "n_est = [10,100,1000]\n",
    "crtrn = ['gini','entropy']\n",
    "mxdpth = [None,2,5,10,20]\n",
    "min_ss = [5,10,15,20]\n",
    "param_grid = {'n_estimators':n_est,'criterion': crtrn, 'max_depth' : mxdpth, 'min_samples_split' : min_ss}\n",
    "\n",
    "rf_mod_gs = GridSearchCV(rf_mod,param_grid,cv=5)\n",
    "\n",
    "#fit data\n",
    "rf_mod_gs.fit(X_train,y_train)\n",
    "rf_mod_gs.best_score_"
   ]
  },
  {
   "cell_type": "code",
   "execution_count": 17,
   "metadata": {},
   "outputs": [
    {
     "data": {
      "text/plain": [
       "(0.9551226300226127, 0.8963068181818182)"
      ]
     },
     "execution_count": 17,
     "metadata": {},
     "output_type": "execute_result"
    }
   ],
   "source": [
    "rf_mod_gs.score(X_train,y_train), rf_mod_gs.score(X_test,y_test)"
   ]
  },
  {
   "cell_type": "code",
   "execution_count": 18,
   "metadata": {},
   "outputs": [
    {
     "data": {
      "text/plain": [
       "{'criterion': 'gini',\n",
       " 'max_depth': None,\n",
       " 'min_samples_split': 10,\n",
       " 'n_estimators': 100}"
      ]
     },
     "execution_count": 18,
     "metadata": {},
     "output_type": "execute_result"
    }
   ],
   "source": [
    "rf_mod_gs.best_params_"
   ]
  },
  {
   "cell_type": "code",
   "execution_count": 248,
   "metadata": {},
   "outputs": [],
   "source": [
    "#random forest with default parameters\n",
    "rf_mod2 = RandomForestClassifier(random_state=42,n_jobs=-1, criterion='gini',max_depth=None,min_samples_split=10,n_estimators=100)"
   ]
  },
  {
   "cell_type": "code",
   "execution_count": 21,
   "metadata": {},
   "outputs": [
    {
     "name": "stdout",
     "output_type": "stream",
     "text": [
      "[0.90043478 0.89130435 0.89217391 0.89430187 0.89517181]\n",
      "0.8946773455377575\n"
     ]
    }
   ],
   "source": [
    "#training data error\n",
    "cv_rf_tr = cross_val_score(rf_mod2, X_train, y_train, cv=5)\n",
    "print(cv_rf_tr)\n",
    "print(cv_rf_tr.mean())"
   ]
  },
  {
   "cell_type": "code",
   "execution_count": 22,
   "metadata": {},
   "outputs": [
    {
     "name": "stdout",
     "output_type": "stream",
     "text": [
      "[0.88336714 0.88336714 0.87221095 0.89441624 0.90050761]\n",
      "0.8867738182267481\n"
     ]
    }
   ],
   "source": [
    "#training data error\n",
    "cv_rf_tst = cross_val_score(rf_mod2, X_test, y_test, cv=5)\n",
    "print(cv_rf_tst)\n",
    "print(cv_rf_tst.mean())"
   ]
  },
  {
   "cell_type": "code",
   "execution_count": 25,
   "metadata": {},
   "outputs": [],
   "source": [
    "rf_mod2.fit(X_train,y_train)\n",
    "y_pred_rf = rf_mod2.predict(X_test)"
   ]
  },
  {
   "cell_type": "code",
   "execution_count": 26,
   "metadata": {},
   "outputs": [
    {
     "data": {
      "text/plain": [
       "<sklearn.metrics._plot.confusion_matrix.ConfusionMatrixDisplay at 0x279d6f3d8e0>"
      ]
     },
     "execution_count": 26,
     "metadata": {},
     "output_type": "execute_result"
    },
    {
     "data": {
      "image/png": "[encoded data removed]",
      "text/plain": [
       "<Figure size 432x288 with 2 Axes>"
      ]
     },
     "metadata": {
      "needs_background": "light"
     },
     "output_type": "display_data"
    }
   ],
   "source": [
    "cm = confusion_matrix(y_test, y_pred_rf,normalize='true')\n",
    "disp = ConfusionMatrixDisplay(cm)\n",
    "disp.plot()"
   ]
  },
  {
   "cell_type": "markdown",
   "metadata": {},
   "source": [
    "The tuning of the hyperparameter for min number of samples required for a split did imporve the random forest model, albeit by only a percent or so. But, with fraud, every bit helps!"
   ]
  },
  {
   "cell_type": "markdown",
   "metadata": {},
   "source": [
    "## Feature Importance\n",
    "\n",
    "The feature importance (also known as Gini importance) and is defined as the total decrease in node impurity (weighted by the probability of reaching that node (which is approximated by the proportion of samples reaching that node)) averaged over all trees of the ensemble."
   ]
  },
  {
   "cell_type": "code",
   "execution_count": 28,
   "metadata": {},
   "outputs": [
    {
     "name": "stdout",
     "output_type": "stream",
     "text": [
      "6\n"
     ]
    },
    {
     "data": {
      "image/png": "[encoded data removed]",
      "text/plain": [
       "<Figure size 720x720 with 1 Axes>"
      ]
     },
     "metadata": {
      "needs_background": "light"
     },
     "output_type": "display_data"
    }
   ],
   "source": [
    "#code below adapted from Springboard Random Forest Case Study Notebook\n",
    "feature_importance = rf_mod2.feature_importances_\n",
    "# make importances relative to max importance\n",
    "feature_importance = 100.0 * (feature_importance / feature_importance.max())[:6]\n",
    "sorted_idx = np.argsort(feature_importance)[:6]\n",
    "\n",
    "pos = np.arange(sorted_idx.shape[0]) + .5\n",
    "print(pos.size)\n",
    "sorted_idx.size\n",
    "plt.figure(figsize=(10,10))\n",
    "plt.barh(pos, feature_importance[sorted_idx], align='center')\n",
    "plt.yticks(pos, X_train.columns[sorted_idx])\n",
    "plt.xlabel('Relative Importance')\n",
    "plt.title('Variable Importance')\n",
    "plt.show()"
   ]
  },
  {
   "cell_type": "code",
   "execution_count": 250,
   "metadata": {},
   "outputs": [
    {
     "data": {
      "image/png": "[encoded data removed]",
      "text/plain": [
       "<Figure size 432x288 with 1 Axes>"
      ]
     },
     "metadata": {
      "needs_background": "light"
     },
     "output_type": "display_data"
    }
   ],
   "source": [
    "#calculate accuracy of logistic regression classifier on time-step sorted data over n intervals\n",
    "n=25\n",
    "scores=[]\n",
    "n_len = len(X_all)\n",
    "n_len_1 = int(n_len/n)\n",
    "start = 0\n",
    "end = n_len_1\n",
    "rf_mod2.fit(X_train,y_train)\n",
    "for i in range(0,n):\n",
    "    #print(start,end)\n",
    "    X_fold = X_all[start:end]\n",
    "    y_fold = y_all[start:end]\n",
    "    score = rf_mod2.score(X_fold,y_fold)\n",
    "    scores.append(score)\n",
    "    start = start + n_len_1 +1\n",
    "    end = end + n_len_1 +1\n",
    "plt.plot(scores)\n",
    "plt.xlabel('Time Series Fold')\n",
    "plt.ylabel('Model Accuracy')\n",
    "plt.show()"
   ]
  },
  {
   "cell_type": "markdown",
   "metadata": {},
   "source": [
    "From our calculation of the feature (or Gini) importance, we see that the variable step is the most important predictor for fraud, followed by whether the account of the originator is emptied or not. Finally, the transaction type is the least important group of features. "
   ]
  },
  {
   "cell_type": "markdown",
   "metadata": {},
   "source": [
    "# Support Vector Machines\n",
    " \n",
    "Support vector machine (SVM) classifiers can be very accurate. They do need to be more carefuly tuned than RF models and are more senstive to outliers. Let's try a SVM model on our mobile transactions data.\n",
    "\n",
    "Another possible issue with SVM is that the time to fit the model varies as $O(n^2)$, which can make it impractical for larger datasets."
   ]
  },
  {
   "cell_type": "code",
   "execution_count": 7,
   "metadata": {},
   "outputs": [],
   "source": [
    "#starting with default parameters to get baseline performance\n",
    "svm_mod = SVC(random_state=42)\n",
    "cv_svm_tr = cross_val_score(svm_mod, X_train, y_train, cv=5)"
   ]
  },
  {
   "cell_type": "code",
   "execution_count": 228,
   "metadata": {},
   "outputs": [
    {
     "name": "stdout",
     "output_type": "stream",
     "text": [
      "[0.69391304 0.7026087  0.70652174 0.6876903  0.68377555]\n"
     ]
    },
    {
     "data": {
      "text/plain": [
       "0.6949018665960626"
      ]
     },
     "execution_count": 228,
     "metadata": {},
     "output_type": "execute_result"
    }
   ],
   "source": [
    "print(cv_svm_tr)\n",
    "cv_svm_tr.mean()"
   ]
  },
  {
   "cell_type": "code",
   "execution_count": null,
   "metadata": {},
   "outputs": [],
   "source": [
    "cm = confusion_matrix(y_test, cv_svm_tr.p,normalize='true')\n",
    "disp = ConfusionMatrixDisplay(cm)\n",
    "disp.plot()"
   ]
  },
  {
   "cell_type": "code",
   "execution_count": 230,
   "metadata": {},
   "outputs": [
    {
     "data": {
      "text/plain": [
       "0.697849025974026"
      ]
     },
     "execution_count": 230,
     "metadata": {},
     "output_type": "execute_result"
    }
   ],
   "source": [
    "svm_mod.fit(X_train,y_train)\n",
    "svm_mod.score(X_test,y_test)"
   ]
  },
  {
   "cell_type": "code",
   "execution_count": 233,
   "metadata": {},
   "outputs": [
    {
     "data": {
      "text/plain": [
       "<sklearn.metrics._plot.confusion_matrix.ConfusionMatrixDisplay at 0x1dbd5d30220>"
      ]
     },
     "execution_count": 233,
     "metadata": {},
     "output_type": "execute_result"
    },
    {
     "data": {
      "image/png": "[encoded data removed]",
      "text/plain": [
       "<Figure size 432x288 with 2 Axes>"
      ]
     },
     "metadata": {
      "needs_background": "light"
     },
     "output_type": "display_data"
    }
   ],
   "source": [
    "y_pred_svm = svm_mod.predict(X_test)\n",
    "cm = confusion_matrix(y_test, y_pred_svm)\n",
    "disp = ConfusionMatrixDisplay(cm)\n",
    "disp.plot()"
   ]
  },
  {
   "cell_type": "code",
   "execution_count": 236,
   "metadata": {},
   "outputs": [
    {
     "name": "stdout",
     "output_type": "stream",
     "text": [
      "              precision    recall  f1-score   support\n",
      "\n",
      "           0       0.63      0.95      0.76      2479\n",
      "           1       0.89      0.45      0.59      2449\n",
      "\n",
      "    accuracy                           0.70      4928\n",
      "   macro avg       0.76      0.70      0.68      4928\n",
      "weighted avg       0.76      0.70      0.68      4928\n",
      "\n"
     ]
    }
   ],
   "source": [
    "print(classification_report(y_test, y_pred_svm))"
   ]
  },
  {
   "cell_type": "markdown",
   "metadata": {},
   "source": [
    "Without any hyperparameter tuning, the SVM model does not do very well relative to either logistic regression or RF, achieving a mean accuracy of only about 69%. From the confusion matrix above, the biggest problem with the SVM model is that it incorrectly predicts many fraudulent transactions as legitimate (poor recall). This is very bad in our case, and suggests that the hyperparameters require tuning."
   ]
  },
  {
   "cell_type": "markdown",
   "metadata": {},
   "source": [
    "## Grid Searach for SVM"
   ]
  },
  {
   "cell_type": "code",
   "execution_count": 29,
   "metadata": {},
   "outputs": [
    {
     "data": {
      "text/plain": [
       "0.8960687633564689"
      ]
     },
     "execution_count": 29,
     "metadata": {},
     "output_type": "execute_result"
    }
   ],
   "source": [
    "param_grid = {'C': [0.1, 1, 10, 100, 1000], \n",
    "              'gamma': [1, 0.1, 0.01, 0.001, 0.0001],\n",
    "              'kernel': ['rbf']} \n",
    "\n",
    "svm_mod_gs = GridSearchCV(svm_mod,param_grid,cv=5)\n",
    "\n",
    "#fit data\n",
    "svm_mod_gs.fit(X_train,y_train)\n",
    "svm_mod_gs.best_score_"
   ]
  },
  {
   "cell_type": "code",
   "execution_count": 31,
   "metadata": {},
   "outputs": [
    {
     "data": {
      "text/plain": [
       "{'C': 1000, 'gamma': 0.01, 'kernel': 'rbf'}"
      ]
     },
     "execution_count": 31,
     "metadata": {},
     "output_type": "execute_result"
    }
   ],
   "source": [
    "svm_mod_gs.best_params_"
   ]
  },
  {
   "cell_type": "code",
   "execution_count": 32,
   "metadata": {},
   "outputs": [
    {
     "data": {
      "text/plain": [
       "(0.9132022960514872, 0.8952922077922078)"
      ]
     },
     "execution_count": 32,
     "metadata": {},
     "output_type": "execute_result"
    }
   ],
   "source": [
    "svm_mod_gs.score(X_train,y_train), svm_mod_gs.score(X_test,y_test)"
   ]
  },
  {
   "cell_type": "code",
   "execution_count": 30,
   "metadata": {},
   "outputs": [
    {
     "data": {
      "text/plain": [
       "<sklearn.metrics._plot.confusion_matrix.ConfusionMatrixDisplay at 0x279ec36b490>"
      ]
     },
     "execution_count": 30,
     "metadata": {},
     "output_type": "execute_result"
    },
    {
     "data": {
      "image/png": "[encoded data removed]",
      "text/plain": [
       "<Figure size 432x288 with 2 Axes>"
      ]
     },
     "metadata": {
      "needs_background": "light"
     },
     "output_type": "display_data"
    }
   ],
   "source": [
    "y_pred_svm_gs = svm_mod_gs.predict(X_test)\n",
    "cm = confusion_matrix(y_test, y_pred_svm_gs)\n",
    "disp = ConfusionMatrixDisplay(cm)\n",
    "disp.plot()"
   ]
  },
  {
   "cell_type": "code",
   "execution_count": 12,
   "metadata": {},
   "outputs": [
    {
     "data": {
      "text/plain": [
       "<sklearn.metrics._plot.confusion_matrix.ConfusionMatrixDisplay at 0x279d6502250>"
      ]
     },
     "execution_count": 12,
     "metadata": {},
     "output_type": "execute_result"
    },
    {
     "data": {
      "image/png": "[encoded data removed]",
      "text/plain": [
       "<Figure size 432x288 with 2 Axes>"
      ]
     },
     "metadata": {
      "needs_background": "light"
     },
     "output_type": "display_data"
    }
   ],
   "source": [
    "y_pred_svm_gs = svm_mod_gs.predict(X_test)\n",
    "cm = confusion_matrix(y_test, y_pred_svm_gs,normalize='true')\n",
    "disp = ConfusionMatrixDisplay(cm)\n",
    "disp.plot()"
   ]
  },
  {
   "cell_type": "code",
   "execution_count": 239,
   "metadata": {},
   "outputs": [
    {
     "name": "stdout",
     "output_type": "stream",
     "text": [
      "              precision    recall  f1-score   support\n",
      "\n",
      "           0       0.89      0.90      0.90      2479\n",
      "           1       0.90      0.89      0.89      2449\n",
      "\n",
      "    accuracy                           0.90      4928\n",
      "   macro avg       0.90      0.90      0.90      4928\n",
      "weighted avg       0.90      0.90      0.90      4928\n",
      "\n"
     ]
    }
   ],
   "source": [
    "print(classification_report(y_test, y_pred_svm_gs))"
   ]
  },
  {
   "cell_type": "code",
   "execution_count": 66,
   "metadata": {},
   "outputs": [
    {
     "data": {
      "text/plain": [
       "SVC(C=1000, gamma=0.01, probability=True, random_state=42)"
      ]
     },
     "execution_count": 66,
     "metadata": {},
     "output_type": "execute_result"
    }
   ],
   "source": [
    "svm_mod_prob = SVC(C=1000,gamma=0.01,kernel='rbf',random_state=42,probability=True)\n",
    "\n",
    "#fit data\n",
    "svm_mod_prob.fit(X_train,y_train)"
   ]
  },
  {
   "cell_type": "code",
   "execution_count": null,
   "metadata": {},
   "outputs": [],
   "source": []
  },
  {
   "cell_type": "markdown",
   "metadata": {},
   "source": [
    "With a little hyperparameter tuning, the SVM classifier went from being by far the worst model to the best, yeilding 90% mean accuracy!"
   ]
  },
  {
   "cell_type": "markdown",
   "metadata": {},
   "source": [
    "# Final comparison of Logistic Regression, Random Forest, and Support Vector Machines Classifiers\n",
    "\n",
    "We have looked at many differnt comparison evaluation metrics for the three models discussed above. Fraud is very costly to customers and the money transfer company. While false positives can be annoying to the customer, they are far better than false negatives where entire accounts can be wiped out. Ultimately, we want to choose a metric that focuses on minimizing the false negatives, or equivalently, maximizing recall. \n",
    "\n",
    "Let's look at our classification reports again for the best logistic and random forest models, again. "
   ]
  },
  {
   "cell_type": "markdown",
   "metadata": {},
   "source": [
    "## Logistic Regression"
   ]
  },
  {
   "cell_type": "code",
   "execution_count": 242,
   "metadata": {},
   "outputs": [
    {
     "name": "stdout",
     "output_type": "stream",
     "text": [
      "              precision    recall  f1-score   support\n",
      "\n",
      "           0       0.85      0.76      0.80      2479\n",
      "           1       0.78      0.87      0.82      2449\n",
      "\n",
      "    accuracy                           0.81      4928\n",
      "   macro avg       0.82      0.81      0.81      4928\n",
      "weighted avg       0.82      0.81      0.81      4928\n",
      "\n"
     ]
    }
   ],
   "source": [
    "print(classification_report(y_test, log_mod_gs.predict(X_test)))"
   ]
  },
  {
   "cell_type": "code",
   "execution_count": 254,
   "metadata": {},
   "outputs": [
    {
     "data": {
      "text/plain": [
       "<sklearn.metrics._plot.precision_recall_curve.PrecisionRecallDisplay at 0x1dbd5d589a0>"
      ]
     },
     "execution_count": 254,
     "metadata": {},
     "output_type": "execute_result"
    },
    {
     "data": {
      "image/png": "[encoded data removed]",
      "text/plain": [
       "<Figure size 432x288 with 1 Axes>"
      ]
     },
     "metadata": {
      "needs_background": "light"
     },
     "output_type": "display_data"
    }
   ],
   "source": [
    "plot_precision_recall_curve(log_mod_gs,X_test,y_test)"
   ]
  },
  {
   "cell_type": "markdown",
   "metadata": {},
   "source": [
    "## Random Forest"
   ]
  },
  {
   "cell_type": "code",
   "execution_count": 252,
   "metadata": {},
   "outputs": [
    {
     "name": "stdout",
     "output_type": "stream",
     "text": [
      "              precision    recall  f1-score   support\n",
      "\n",
      "           0       0.90      0.89      0.89      2479\n",
      "           1       0.89      0.90      0.89      2449\n",
      "\n",
      "    accuracy                           0.89      4928\n",
      "   macro avg       0.89      0.89      0.89      4928\n",
      "weighted avg       0.89      0.89      0.89      4928\n",
      "\n"
     ]
    }
   ],
   "source": [
    "print(classification_report(y_test, rf_mod_gs.predict(X_test)))"
   ]
  },
  {
   "cell_type": "code",
   "execution_count": 255,
   "metadata": {},
   "outputs": [
    {
     "data": {
      "text/plain": [
       "<sklearn.metrics._plot.precision_recall_curve.PrecisionRecallDisplay at 0x1dbd5ad1fa0>"
      ]
     },
     "execution_count": 255,
     "metadata": {},
     "output_type": "execute_result"
    },
    {
     "data": {
      "image/png": "[encoded data removed]",
      "text/plain": [
       "<Figure size 432x288 with 1 Axes>"
      ]
     },
     "metadata": {
      "needs_background": "light"
     },
     "output_type": "display_data"
    }
   ],
   "source": [
    "plot_precision_recall_curve(rf_mod_gs,X_test,y_test)"
   ]
  },
  {
   "cell_type": "markdown",
   "metadata": {},
   "source": [
    "## Support Vector Machine"
   ]
  },
  {
   "cell_type": "code",
   "execution_count": 244,
   "metadata": {},
   "outputs": [
    {
     "name": "stdout",
     "output_type": "stream",
     "text": [
      "              precision    recall  f1-score   support\n",
      "\n",
      "           0       0.89      0.90      0.90      2479\n",
      "           1       0.90      0.89      0.89      2449\n",
      "\n",
      "    accuracy                           0.90      4928\n",
      "   macro avg       0.90      0.90      0.90      4928\n",
      "weighted avg       0.90      0.90      0.90      4928\n",
      "\n"
     ]
    }
   ],
   "source": [
    "print(classification_report(y_test, y_pred_svm_gs))"
   ]
  },
  {
   "cell_type": "code",
   "execution_count": 256,
   "metadata": {},
   "outputs": [
    {
     "data": {
      "text/plain": [
       "<sklearn.metrics._plot.precision_recall_curve.PrecisionRecallDisplay at 0x1dbd5b7e8e0>"
      ]
     },
     "execution_count": 256,
     "metadata": {},
     "output_type": "execute_result"
    },
    {
     "data": {
      "image/png": "[encoded data removed]",
      "text/plain": [
       "<Figure size 432x288 with 1 Axes>"
      ]
     },
     "metadata": {
      "needs_background": "light"
     },
     "output_type": "display_data"
    }
   ],
   "source": [
    "plot_precision_recall_curve(svm_mod_gs,X_test,y_test)"
   ]
  },
  {
   "cell_type": "code",
   "execution_count": 67,
   "metadata": {},
   "outputs": [],
   "source": [
    "p1,r1,_ = precision_recall_curve(y_test,log_mod_gs.predict_proba(X_test)[:,1])\n",
    "p2,r2,_ =precision_recall_curve(y_test,rf_mod_gs.predict_proba(X_test)[:,1])\n",
    "p3,r3,_ =precision_recall_curve(y_test,svm_mod_prob.predict_proba(X_test)[:,1])"
   ]
  },
  {
   "cell_type": "code",
   "execution_count": 82,
   "metadata": {},
   "outputs": [
    {
     "data": {
      "image/png": "[encoded data removed]",
      "text/plain": [
       "<Figure size 720x720 with 1 Axes>"
      ]
     },
     "metadata": {
      "needs_background": "light"
     },
     "output_type": "display_data"
    }
   ],
   "source": [
    "plt.figure(figsize=(10,10))\n",
    "plt.plot(r1,p1,label='Logistic Reg (AP=0.88)')\n",
    "plt.plot(r2,p2,label='Random Forest (AP=0.95)')\n",
    "plt.plot(r3,p3,label='SVM (AP=0.96)')\n",
    "plt.xlabel(\"Recall\",fontsize=14)\n",
    "plt.xticks(fontsize=14)\n",
    "plt.yticks(fontsize=14)\n",
    "plt.ylabel(\"Precision\",fontsize=14)\n",
    "plt.title(\"Precision-Recall Curves for Each Model\",fontsize=16)\n",
    "plt.legend()\n",
    "plt.show()"
   ]
  },
  {
   "cell_type": "markdown",
   "metadata": {},
   "source": [
    "# Conclusions\n",
    "\n",
    "The best performing model in terms of overall accuracy was the SVM classifier, but RF is very close to the same performance. Also, RF is much faster to fit (parallelizable) and does not require extensive hyperparameter tuning to get a reasonable result, whereas SVM took a long time to fit and where hyperparameter tuning was essential for model performance.\n",
    "SVM beat RF in terms of F1-score and average precision, but again, only slightly. In conclusion, SVM is the best classifier among the group, but whether it would be a good as real-time fraud detection model that may need to continously learn off of new data is another question. \n",
    "\n",
    "Overall, the random forest model may be better than SVM since no lengthly hyperparameter tuning needs to be done, and is much faster to train and more robust to outliers, overall. Furthermore, it scales better with more observations compared to SVM.\n",
    "\n",
    "Logistic regression, while providing reasonable performance, was clearly the worst model in the group for this problem.\n",
    "\n",
    "Finally, from the RF classifier, we saw that step is the most important feature in terms of Gini importance, followed by whether the account of the originator was emptied or not and then the transaction type coming in last."
   ]
  }
 ],
 "metadata": {
  "kernelspec": {
   "display_name": "Python 3",
   "language": "python",
   "name": "python3"
  },
  "language_info": {
   "codemirror_mode": {
    "name": "ipython",
    "version": 3
   },
   "file_extension": ".py",
   "mimetype": "text/x-python",
   "name": "python",
   "nbconvert_exporter": "python",
   "pygments_lexer": "ipython3",
   "version": "3.8.5"
  }
 },
 "nbformat": 4,
 "nbformat_minor": 4
}
